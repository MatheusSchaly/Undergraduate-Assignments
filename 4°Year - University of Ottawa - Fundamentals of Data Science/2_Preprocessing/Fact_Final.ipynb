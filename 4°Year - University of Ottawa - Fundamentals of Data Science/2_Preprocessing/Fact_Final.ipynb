{
 "cells": [
  {
   "cell_type": "code",
   "execution_count": 10,
   "metadata": {
    "pycharm": {
     "is_executing": false
    }
   },
   "outputs": [],
   "source": [
    "import pandas as pd\n",
    "import numpy as np\n",
    "pd.set_option('display.max_rows', 10)\n",
    "low_memory=False"
   ]
  },
  {
   "cell_type": "code",
   "execution_count": 2,
   "metadata": {
    "pycharm": {
     "is_executing": false
    }
   },
   "outputs": [],
   "source": [
    "# Creating the dataframe\n",
    "fact_df = pd.DataFrame(columns=['Date-key', 'Location-key', 'Crime-key', 'Event-key',\n",
    "                            'Is-Traffic', 'Is-Fatal', 'Is-Nighttime'])"
   ]
  },
  {
   "cell_type": "code",
   "execution_count": 3,
   "metadata": {
    "pycharm": {
     "is_executing": false
    }
   },
   "outputs": [
    {
     "name": "stderr",
     "output_type": "stream",
     "text": [
      "C:\\Anaconda3\\lib\\site-packages\\IPython\\core\\interactiveshell.py:3020: DtypeWarning: Columns (7,8,9,10,11,12,13,14,15,16,17,18,19,20,21,22,23,24,25,26,27,28,29,30) have mixed types. Specify dtype option on import or set low_memory=False.\n",
      "  interactivity=interactivity, compiler=compiler, result=result)\n",
      "C:\\Anaconda3\\lib\\site-packages\\IPython\\core\\interactiveshell.py:3020: DtypeWarning: Columns (2,3) have mixed types. Specify dtype option on import or set low_memory=False.\n",
      "  interactivity=interactivity, compiler=compiler, result=result)\n"
     ]
    }
   ],
   "source": [
    "# Importing csv files\n",
    "date_df = pd.read_csv('Merged_Date_Final.csv')\n",
    "location_df = pd.read_csv('Merged_Location_Final.csv')\n",
    "crime_df = pd.read_csv('Merged_Crime_Final.csv')"
   ]
  },
  {
   "cell_type": "code",
   "execution_count": 4,
   "metadata": {},
   "outputs": [],
   "source": [
    "# Creating the date key columns\n",
    "fact_df['Date-key'] = date_df['Date-key']\n",
    "fact_df['Location-key'] = location_df['Location-key']\n",
    "fact_df['Crime-key'] = crime_df['Crime-key']\n",
    "fact_df['Event-key'] = fact_df.index # Creates Date_Key column based on index\n",
    "fact_df[\"Event-key\"] += 400 # Adds 100 to every row in the column"
   ]
  },
  {
   "cell_type": "code",
   "execution_count": 5,
   "metadata": {},
   "outputs": [],
   "source": [
    "# Checks nighttime, adds boolean value to the Is-Nighttime column\n",
    "fact_df['Is-Nighttime'] = np.where((date_df['Hour'] >= 18) | (date_df['Hour'] <= 6), True, False)"
   ]
  },
  {
   "cell_type": "code",
   "execution_count": 6,
   "metadata": {},
   "outputs": [],
   "source": [
    "# Checks fatality, adds boolean value to the Is-Fatal column      \n",
    "crime_type = crime_df['Crime-type'].tolist()\n",
    "is_fatal = []\n",
    "for i in range(crime_df.shape[0]):\n",
    "    if crime_type[i] == \"Homicide\" or crime_type[i] == \"Vehicle Collision or Pedestrian Struck (with Fatality)\":\n",
    "        is_fatal.append(True)\n",
    "    else:\n",
    "        is_fatal.append(False)\n",
    "\n",
    "fact_df['Is-Fatal'] = is_fatal"
   ]
  },
  {
   "cell_type": "code",
   "execution_count": 7,
   "metadata": {},
   "outputs": [],
   "source": [
    "# Creates the traffic columns\n",
    "crime_category = crime_df['Crime-category'].tolist()\n",
    "is_traffic = []\n",
    "for i in range(crime_df.shape[0]):\n",
    "    if crime_category[i] == \"Traffic\":\n",
    "        is_traffic.append(True)\n",
    "    else:\n",
    "        is_traffic.append(False)\n",
    "\n",
    "fact_df['Is-Traffic'] = is_traffic"
   ]
  },
  {
   "cell_type": "code",
   "execution_count": 8,
   "metadata": {},
   "outputs": [
    {
     "data": {
      "text/html": [
       "<div>\n",
       "<style scoped>\n",
       "    .dataframe tbody tr th:only-of-type {\n",
       "        vertical-align: middle;\n",
       "    }\n",
       "\n",
       "    .dataframe tbody tr th {\n",
       "        vertical-align: top;\n",
       "    }\n",
       "\n",
       "    .dataframe thead th {\n",
       "        text-align: right;\n",
       "    }\n",
       "</style>\n",
       "<table border=\"1\" class=\"dataframe\">\n",
       "  <thead>\n",
       "    <tr style=\"text-align: right;\">\n",
       "      <th></th>\n",
       "      <th>Date-key</th>\n",
       "      <th>Location-key</th>\n",
       "      <th>Crime-key</th>\n",
       "      <th>Event-key</th>\n",
       "      <th>Is-Traffic</th>\n",
       "      <th>Is-Fatal</th>\n",
       "      <th>Is-Nighttime</th>\n",
       "    </tr>\n",
       "  </thead>\n",
       "  <tbody>\n",
       "    <tr>\n",
       "      <th>0</th>\n",
       "      <td>100</td>\n",
       "      <td>200</td>\n",
       "      <td>300</td>\n",
       "      <td>400</td>\n",
       "      <td>False</td>\n",
       "      <td>False</td>\n",
       "      <td>True</td>\n",
       "    </tr>\n",
       "    <tr>\n",
       "      <th>1</th>\n",
       "      <td>101</td>\n",
       "      <td>201</td>\n",
       "      <td>301</td>\n",
       "      <td>401</td>\n",
       "      <td>False</td>\n",
       "      <td>False</td>\n",
       "      <td>True</td>\n",
       "    </tr>\n",
       "    <tr>\n",
       "      <th>...</th>\n",
       "      <td>...</td>\n",
       "      <td>...</td>\n",
       "      <td>...</td>\n",
       "      <td>...</td>\n",
       "      <td>...</td>\n",
       "      <td>...</td>\n",
       "      <td>...</td>\n",
       "    </tr>\n",
       "    <tr>\n",
       "      <th>655781</th>\n",
       "      <td>655881</td>\n",
       "      <td>655981</td>\n",
       "      <td>656081</td>\n",
       "      <td>656181</td>\n",
       "      <td>False</td>\n",
       "      <td>False</td>\n",
       "      <td>False</td>\n",
       "    </tr>\n",
       "    <tr>\n",
       "      <th>655782</th>\n",
       "      <td>655882</td>\n",
       "      <td>655982</td>\n",
       "      <td>656082</td>\n",
       "      <td>656182</td>\n",
       "      <td>True</td>\n",
       "      <td>False</td>\n",
       "      <td>True</td>\n",
       "    </tr>\n",
       "  </tbody>\n",
       "</table>\n",
       "<p>655783 rows × 7 columns</p>\n",
       "</div>"
      ],
      "text/plain": [
       "        Date-key  Location-key  Crime-key  Event-key  Is-Traffic  Is-Fatal  \\\n",
       "0            100           200        300        400       False     False   \n",
       "1            101           201        301        401       False     False   \n",
       "...          ...           ...        ...        ...         ...       ...   \n",
       "655781    655881        655981     656081     656181       False     False   \n",
       "655782    655882        655982     656082     656182        True     False   \n",
       "\n",
       "        Is-Nighttime  \n",
       "0               True  \n",
       "1               True  \n",
       "...              ...  \n",
       "655781         False  \n",
       "655782          True  \n",
       "\n",
       "[655783 rows x 7 columns]"
      ]
     },
     "execution_count": 8,
     "metadata": {},
     "output_type": "execute_result"
    }
   ],
   "source": [
    "fact_df"
   ]
  },
  {
   "cell_type": "code",
   "execution_count": 63,
   "metadata": {},
   "outputs": [],
   "source": [
    "fact_df.to_csv('Fact_Final.csv', index=False)"
   ]
  }
 ],
 "metadata": {
  "kernelspec": {
   "display_name": "Python 3",
   "language": "python",
   "name": "python3"
  },
  "language_info": {
   "codemirror_mode": {
    "name": "ipython",
    "version": 3
   },
   "file_extension": ".py",
   "mimetype": "text/x-python",
   "name": "python",
   "nbconvert_exporter": "python",
   "pygments_lexer": "ipython3",
   "version": "3.7.1"
  },
  "pycharm": {
   "stem_cell": {
    "cell_type": "raw",
    "metadata": {
     "collapsed": false
    },
    "source": []
   }
  }
 },
 "nbformat": 4,
 "nbformat_minor": 4
}
