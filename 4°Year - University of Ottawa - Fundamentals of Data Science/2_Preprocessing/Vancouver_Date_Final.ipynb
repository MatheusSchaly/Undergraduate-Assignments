{
 "cells": [
  {
   "cell_type": "code",
   "execution_count": 123,
   "metadata": {
    "pycharm": {
     "is_executing": false,
     "name": "#%%\n"
    }
   },
   "outputs": [],
   "source": [
    "import pandas as pd\n",
    "import numpy as np\n",
    "from datetime import datetime\n",
    "from datetime import date\n",
    "import holidays\n",
    "pd.set_option('display.max_rows', 4)"
   ]
  },
  {
   "cell_type": "code",
   "execution_count": 124,
   "metadata": {
    "pycharm": {
     "is_executing": false
    }
   },
   "outputs": [],
   "source": [
    "df = pd.read_csv(\"Vancouver.csv\")"
   ]
  },
  {
   "cell_type": "code",
   "execution_count": 125,
   "metadata": {
    "pycharm": {
     "is_executing": true
    },
    "scrolled": true
   },
   "outputs": [],
   "source": [
    "# Creating Date table\n",
    "# Using the same timeframe for both dataset\n",
    "date_df = df[['YEAR', 'MONTH', 'DAY', 'HOUR', 'MINUTE']].copy() # Copies columns\n",
    "date_df = date_df[date_df.YEAR >= 2015]\n",
    "date_df = date_df.reset_index(drop=True) # Resets the index\n",
    "date_df.min()\n",
    "date_df = date_df.rename(columns={\"YEAR\": \"Year\", \"MONTH\": \"Month\", \"DAY\": \"Day\", \"HOUR\": \"Hour\", \"MINUTE\": \"Minute\"}) # Rename\n",
    "date_df['Date-key'] = date_df.index # Creates Date_Key column based on index\n",
    "date_df[\"Date-key\"] += 100 # Adds 100 to every row in the column"
   ]
  },
  {
   "cell_type": "code",
   "execution_count": 126,
   "metadata": {},
   "outputs": [
    {
     "data": {
      "text/html": [
       "<div>\n",
       "<style scoped>\n",
       "    .dataframe tbody tr th:only-of-type {\n",
       "        vertical-align: middle;\n",
       "    }\n",
       "\n",
       "    .dataframe tbody tr th {\n",
       "        vertical-align: top;\n",
       "    }\n",
       "\n",
       "    .dataframe thead th {\n",
       "        text-align: right;\n",
       "    }\n",
       "</style>\n",
       "<table border=\"1\" class=\"dataframe\">\n",
       "  <thead>\n",
       "    <tr style=\"text-align: right;\">\n",
       "      <th></th>\n",
       "      <th>Year</th>\n",
       "      <th>Month</th>\n",
       "      <th>Day</th>\n",
       "      <th>Hour</th>\n",
       "      <th>Minute</th>\n",
       "      <th>Date-key</th>\n",
       "    </tr>\n",
       "  </thead>\n",
       "  <tbody>\n",
       "    <tr>\n",
       "      <th>0</th>\n",
       "      <td>2019</td>\n",
       "      <td>3</td>\n",
       "      <td>7</td>\n",
       "      <td>2</td>\n",
       "      <td>6</td>\n",
       "      <td>100</td>\n",
       "    </tr>\n",
       "    <tr>\n",
       "      <th>1</th>\n",
       "      <td>2019</td>\n",
       "      <td>8</td>\n",
       "      <td>27</td>\n",
       "      <td>4</td>\n",
       "      <td>12</td>\n",
       "      <td>101</td>\n",
       "    </tr>\n",
       "    <tr>\n",
       "      <th>...</th>\n",
       "      <td>...</td>\n",
       "      <td>...</td>\n",
       "      <td>...</td>\n",
       "      <td>...</td>\n",
       "      <td>...</td>\n",
       "      <td>...</td>\n",
       "    </tr>\n",
       "    <tr>\n",
       "      <th>3</th>\n",
       "      <td>2018</td>\n",
       "      <td>3</td>\n",
       "      <td>2</td>\n",
       "      <td>6</td>\n",
       "      <td>17</td>\n",
       "      <td>103</td>\n",
       "    </tr>\n",
       "    <tr>\n",
       "      <th>4</th>\n",
       "      <td>2015</td>\n",
       "      <td>2</td>\n",
       "      <td>4</td>\n",
       "      <td>20</td>\n",
       "      <td>53</td>\n",
       "      <td>104</td>\n",
       "    </tr>\n",
       "  </tbody>\n",
       "</table>\n",
       "<p>5 rows × 6 columns</p>\n",
       "</div>"
      ],
      "text/plain": [
       "    Year  Month  Day  Hour  Minute  Date-key\n",
       "0   2019      3    7     2       6       100\n",
       "1   2019      8   27     4      12       101\n",
       "..   ...    ...  ...   ...     ...       ...\n",
       "3   2018      3    2     6      17       103\n",
       "4   2015      2    4    20      53       104\n",
       "\n",
       "[5 rows x 6 columns]"
      ]
     },
     "execution_count": 126,
     "metadata": {},
     "output_type": "execute_result"
    }
   ],
   "source": [
    "date_df.head()"
   ]
  },
  {
   "cell_type": "code",
   "execution_count": 127,
   "metadata": {},
   "outputs": [],
   "source": [
    "# Creates a list of datetimes\n",
    "datetimes = []\n",
    "for i in range(date_df.shape[0]):\n",
    "    hour = date_df[\"Hour\"][i]\n",
    "    if date_df[\"Hour\"][i] > 11:\n",
    "        date_period = \"PM\"\n",
    "    else:\n",
    "        date_period = \"AM\"\n",
    "    month = date_df[\"Month\"][i]\n",
    "    year = date_df[\"Year\"][i]\n",
    "    day = date_df[\"Day\"][i]\n",
    "    minute = date_df[\"Minute\"][i]\n",
    "    second = \"00\"\n",
    "    date_string = str(day) + \"-\" + str(month) + \"-\" + str(year) + \" \" + \\\n",
    "                  str(hour) + \":\" + str(minute) + \":\" + str(second) + ' ' + date_period\n",
    "    datetimes.append(datetime.strptime(date_string, '%d-%m-%Y %H:%M:%S %p'))"
   ]
  },
  {
   "cell_type": "code",
   "execution_count": 128,
   "metadata": {
    "pycharm": {
     "is_executing": true
    }
   },
   "outputs": [],
   "source": [
    "# Creates the weekend column\n",
    "weekend = []\n",
    "\n",
    "for datetime_obj in datetimes:\n",
    "    if datetime_obj.weekday() < 5:\n",
    "        weekend.append(False) # is weekday\n",
    "    else:\n",
    "        weekend.append(True) # is weekend\n",
    "date_df[\"Weekend\"] = weekend"
   ]
  },
  {
   "cell_type": "code",
   "execution_count": 129,
   "metadata": {
    "pycharm": {
     "is_executing": true
    }
   },
   "outputs": [],
   "source": [
    "# Creates the holidays column\n",
    "isHoliday = []\n",
    "ca_holidays = holidays.CA() \n",
    "for i in datetimes:\n",
    "    isHoliday.append(i in ca_holidays)\n",
    "date_df[\"Holiday\"] = isHoliday"
   ]
  },
  {
   "cell_type": "code",
   "execution_count": 130,
   "metadata": {
    "pycharm": {
     "is_executing": true
    }
   },
   "outputs": [],
   "source": [
    "# Creates the holiday name column\n",
    "holiday_name = []\n",
    "for i in datetimes:\n",
    "    holiday_name.append(ca_holidays.get(i))\n",
    "    \n",
    "date_df[\"Holiday-name\"] = holiday_name"
   ]
  },
  {
   "cell_type": "code",
   "execution_count": 131,
   "metadata": {
    "pycharm": {
     "is_executing": true
    }
   },
   "outputs": [],
   "source": [
    "# Creates the day of week column\n",
    "weekend = []\n",
    "day_of_week = []\n",
    "\n",
    "for date in datetimes:\n",
    "    day_of_week.append(date.weekday())\n",
    "date_df[\"Day-of-week\"] = day_of_week"
   ]
  },
  {
   "cell_type": "code",
   "execution_count": 132,
   "metadata": {
    "pycharm": {
     "is_executing": true
    }
   },
   "outputs": [],
   "source": [
    "date_df_map = {0: \"Monday\", 1: \"Tuesday\", 2: \"Wednesday\", \n",
    "               3: \"Thursday\", 4: \"Friday\", 5: \"Saturday\",\n",
    "               6: \"Sunday\"}\n",
    "date_df.replace({\"Day-of-week\": date_df_map}, inplace=True)"
   ]
  },
  {
   "cell_type": "code",
   "execution_count": 133,
   "metadata": {
    "pycharm": {
     "is_executing": true
    }
   },
   "outputs": [],
   "source": [
    "cols = [\"Date-key\", \"Day-of-week\", \"Minute\",\"Hour\", \"Day\", \"Month\"\n",
    "       , \"Year\", \"Weekend\", \"Holiday\", \"Holiday-name\"]\n",
    "date_df = date_df[cols]"
   ]
  },
  {
   "cell_type": "code",
   "execution_count": 134,
   "metadata": {},
   "outputs": [
    {
     "data": {
      "text/html": [
       "<div>\n",
       "<style scoped>\n",
       "    .dataframe tbody tr th:only-of-type {\n",
       "        vertical-align: middle;\n",
       "    }\n",
       "\n",
       "    .dataframe tbody tr th {\n",
       "        vertical-align: top;\n",
       "    }\n",
       "\n",
       "    .dataframe thead th {\n",
       "        text-align: right;\n",
       "    }\n",
       "</style>\n",
       "<table border=\"1\" class=\"dataframe\">\n",
       "  <thead>\n",
       "    <tr style=\"text-align: right;\">\n",
       "      <th></th>\n",
       "      <th>Date-key</th>\n",
       "      <th>Day-of-week</th>\n",
       "      <th>Minute</th>\n",
       "      <th>Hour</th>\n",
       "      <th>Day</th>\n",
       "      <th>Month</th>\n",
       "      <th>Year</th>\n",
       "      <th>Weekend</th>\n",
       "      <th>Holiday</th>\n",
       "      <th>Holiday-name</th>\n",
       "    </tr>\n",
       "  </thead>\n",
       "  <tbody>\n",
       "    <tr>\n",
       "      <th>0</th>\n",
       "      <td>100</td>\n",
       "      <td>Thursday</td>\n",
       "      <td>6</td>\n",
       "      <td>2</td>\n",
       "      <td>7</td>\n",
       "      <td>3</td>\n",
       "      <td>2019</td>\n",
       "      <td>False</td>\n",
       "      <td>False</td>\n",
       "      <td>None</td>\n",
       "    </tr>\n",
       "    <tr>\n",
       "      <th>1</th>\n",
       "      <td>101</td>\n",
       "      <td>Tuesday</td>\n",
       "      <td>12</td>\n",
       "      <td>4</td>\n",
       "      <td>27</td>\n",
       "      <td>8</td>\n",
       "      <td>2019</td>\n",
       "      <td>False</td>\n",
       "      <td>False</td>\n",
       "      <td>None</td>\n",
       "    </tr>\n",
       "    <tr>\n",
       "      <th>...</th>\n",
       "      <td>...</td>\n",
       "      <td>...</td>\n",
       "      <td>...</td>\n",
       "      <td>...</td>\n",
       "      <td>...</td>\n",
       "      <td>...</td>\n",
       "      <td>...</td>\n",
       "      <td>...</td>\n",
       "      <td>...</td>\n",
       "      <td>...</td>\n",
       "    </tr>\n",
       "    <tr>\n",
       "      <th>193376</th>\n",
       "      <td>193476</td>\n",
       "      <td>Saturday</td>\n",
       "      <td>22</td>\n",
       "      <td>16</td>\n",
       "      <td>4</td>\n",
       "      <td>8</td>\n",
       "      <td>2018</td>\n",
       "      <td>True</td>\n",
       "      <td>False</td>\n",
       "      <td>None</td>\n",
       "    </tr>\n",
       "    <tr>\n",
       "      <th>193377</th>\n",
       "      <td>193477</td>\n",
       "      <td>Monday</td>\n",
       "      <td>11</td>\n",
       "      <td>18</td>\n",
       "      <td>20</td>\n",
       "      <td>6</td>\n",
       "      <td>2016</td>\n",
       "      <td>False</td>\n",
       "      <td>False</td>\n",
       "      <td>None</td>\n",
       "    </tr>\n",
       "  </tbody>\n",
       "</table>\n",
       "<p>193378 rows × 10 columns</p>\n",
       "</div>"
      ],
      "text/plain": [
       "        Date-key Day-of-week  Minute  Hour  Day  Month  Year  Weekend  \\\n",
       "0            100    Thursday       6     2    7      3  2019    False   \n",
       "1            101     Tuesday      12     4   27      8  2019    False   \n",
       "...          ...         ...     ...   ...  ...    ...   ...      ...   \n",
       "193376    193476    Saturday      22    16    4      8  2018     True   \n",
       "193377    193477      Monday      11    18   20      6  2016    False   \n",
       "\n",
       "        Holiday Holiday-name  \n",
       "0         False         None  \n",
       "1         False         None  \n",
       "...         ...          ...  \n",
       "193376    False         None  \n",
       "193377    False         None  \n",
       "\n",
       "[193378 rows x 10 columns]"
      ]
     },
     "execution_count": 134,
     "metadata": {},
     "output_type": "execute_result"
    }
   ],
   "source": [
    "date_df"
   ]
  },
  {
   "cell_type": "code",
   "execution_count": 135,
   "metadata": {
    "pycharm": {
     "is_executing": true
    }
   },
   "outputs": [],
   "source": [
    "date_df.to_csv('Vancouver_Date_Final.csv', index = False)"
   ]
  }
 ],
 "metadata": {
  "kernelspec": {
   "display_name": "Python 3",
   "language": "python",
   "name": "python3"
  },
  "language_info": {
   "codemirror_mode": {
    "name": "ipython",
    "version": 3
   },
   "file_extension": ".py",
   "mimetype": "text/x-python",
   "name": "python",
   "nbconvert_exporter": "python",
   "pygments_lexer": "ipython3",
   "version": "3.7.1"
  },
  "nteract": {
   "version": "0.21.0"
  },
  "pycharm": {
   "stem_cell": {
    "cell_type": "raw",
    "metadata": {
     "collapsed": false
    },
    "source": []
   }
  }
 },
 "nbformat": 4,
 "nbformat_minor": 2
}
