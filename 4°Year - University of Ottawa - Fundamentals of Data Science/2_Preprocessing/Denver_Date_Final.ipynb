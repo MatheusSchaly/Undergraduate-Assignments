{
 "cells": [
  {
   "cell_type": "code",
   "execution_count": 74,
   "metadata": {
    "pycharm": {
     "is_executing": false
    }
   },
   "outputs": [],
   "source": [
    "import pandas as pd\n",
    "import numpy as np\n",
    "from datetime import datetime, timedelta, date\n",
    "import holidays\n",
    "pd.set_option('display.max_rows', 4)"
   ]
  },
  {
   "cell_type": "code",
   "execution_count": 75,
   "metadata": {
    "pycharm": {
     "is_executing": false
    },
    "scrolled": true
   },
   "outputs": [],
   "source": [
    "df = pd.read_csv('Denver.csv')"
   ]
  },
  {
   "cell_type": "code",
   "execution_count": 76,
   "metadata": {
    "pycharm": {
     "is_executing": false
    }
   },
   "outputs": [
    {
     "data": {
      "text/html": [
       "<div>\n",
       "<style scoped>\n",
       "    .dataframe tbody tr th:only-of-type {\n",
       "        vertical-align: middle;\n",
       "    }\n",
       "\n",
       "    .dataframe tbody tr th {\n",
       "        vertical-align: top;\n",
       "    }\n",
       "\n",
       "    .dataframe thead th {\n",
       "        text-align: right;\n",
       "    }\n",
       "</style>\n",
       "<table border=\"1\" class=\"dataframe\">\n",
       "  <thead>\n",
       "    <tr style=\"text-align: right;\">\n",
       "      <th></th>\n",
       "      <th>INCIDENT_ID</th>\n",
       "      <th>OFFENSE_ID</th>\n",
       "      <th>OFFENSE_CODE</th>\n",
       "      <th>OFFENSE_CODE_EXTENSION</th>\n",
       "      <th>OFFENSE_TYPE_ID</th>\n",
       "      <th>OFFENSE_CATEGORY_ID</th>\n",
       "      <th>FIRST_OCCURRENCE_DATE</th>\n",
       "      <th>LAST_OCCURRENCE_DATE</th>\n",
       "      <th>REPORTED_DATE</th>\n",
       "      <th>INCIDENT_ADDRESS</th>\n",
       "      <th>GEO_X</th>\n",
       "      <th>GEO_Y</th>\n",
       "      <th>GEO_LON</th>\n",
       "      <th>GEO_LAT</th>\n",
       "      <th>DISTRICT_ID</th>\n",
       "      <th>PRECINCT_ID</th>\n",
       "      <th>NEIGHBORHOOD_ID</th>\n",
       "      <th>IS_CRIME</th>\n",
       "      <th>IS_TRAFFIC</th>\n",
       "    </tr>\n",
       "  </thead>\n",
       "  <tbody>\n",
       "    <tr>\n",
       "      <th>0</th>\n",
       "      <td>2016376978</td>\n",
       "      <td>2016376978521300</td>\n",
       "      <td>5213</td>\n",
       "      <td>0</td>\n",
       "      <td>weapon-unlawful-discharge-of</td>\n",
       "      <td>all-other-crimes</td>\n",
       "      <td>6/15/2016 11:31:00 PM</td>\n",
       "      <td>NaN</td>\n",
       "      <td>6/15/2016 11:31:00 PM</td>\n",
       "      <td>NaN</td>\n",
       "      <td>3193983.0</td>\n",
       "      <td>1707251.0</td>\n",
       "      <td>-104.809881</td>\n",
       "      <td>39.773188</td>\n",
       "      <td>5</td>\n",
       "      <td>521</td>\n",
       "      <td>montbello</td>\n",
       "      <td>1</td>\n",
       "      <td>0</td>\n",
       "    </tr>\n",
       "    <tr>\n",
       "      <th>1</th>\n",
       "      <td>20186000994</td>\n",
       "      <td>20186000994239900</td>\n",
       "      <td>2399</td>\n",
       "      <td>0</td>\n",
       "      <td>theft-other</td>\n",
       "      <td>larceny</td>\n",
       "      <td>10/11/2017 12:30:00 PM</td>\n",
       "      <td>10/11/2017 4:55:00 PM</td>\n",
       "      <td>1/29/2018 5:53:00 PM</td>\n",
       "      <td>NaN</td>\n",
       "      <td>3201943.0</td>\n",
       "      <td>1711852.0</td>\n",
       "      <td>-104.781434</td>\n",
       "      <td>39.785649</td>\n",
       "      <td>5</td>\n",
       "      <td>522</td>\n",
       "      <td>gateway-green-valley-ranch</td>\n",
       "      <td>1</td>\n",
       "      <td>0</td>\n",
       "    </tr>\n",
       "    <tr>\n",
       "      <th>...</th>\n",
       "      <td>...</td>\n",
       "      <td>...</td>\n",
       "      <td>...</td>\n",
       "      <td>...</td>\n",
       "      <td>...</td>\n",
       "      <td>...</td>\n",
       "      <td>...</td>\n",
       "      <td>...</td>\n",
       "      <td>...</td>\n",
       "      <td>...</td>\n",
       "      <td>...</td>\n",
       "      <td>...</td>\n",
       "      <td>...</td>\n",
       "      <td>...</td>\n",
       "      <td>...</td>\n",
       "      <td>...</td>\n",
       "      <td>...</td>\n",
       "      <td>...</td>\n",
       "      <td>...</td>\n",
       "    </tr>\n",
       "    <tr>\n",
       "      <th>3</th>\n",
       "      <td>201872333</td>\n",
       "      <td>201872333239900</td>\n",
       "      <td>2399</td>\n",
       "      <td>0</td>\n",
       "      <td>theft-other</td>\n",
       "      <td>larceny</td>\n",
       "      <td>1/30/2018 7:20:00 PM</td>\n",
       "      <td>NaN</td>\n",
       "      <td>1/30/2018 10:29:00 PM</td>\n",
       "      <td>705 S COLORADO BLVD</td>\n",
       "      <td>3157162.0</td>\n",
       "      <td>1681320.0</td>\n",
       "      <td>-104.941440</td>\n",
       "      <td>39.702698</td>\n",
       "      <td>3</td>\n",
       "      <td>312</td>\n",
       "      <td>belcaro</td>\n",
       "      <td>1</td>\n",
       "      <td>0</td>\n",
       "    </tr>\n",
       "    <tr>\n",
       "      <th>4</th>\n",
       "      <td>2017411405</td>\n",
       "      <td>2017411405230300</td>\n",
       "      <td>2303</td>\n",
       "      <td>0</td>\n",
       "      <td>theft-shoplift</td>\n",
       "      <td>larceny</td>\n",
       "      <td>6/22/2017 8:53:00 PM</td>\n",
       "      <td>NaN</td>\n",
       "      <td>6/23/2017 4:09:00 PM</td>\n",
       "      <td>2810 E 1ST AVE</td>\n",
       "      <td>3153211.0</td>\n",
       "      <td>1686545.0</td>\n",
       "      <td>-104.955370</td>\n",
       "      <td>39.717107</td>\n",
       "      <td>3</td>\n",
       "      <td>311</td>\n",
       "      <td>cherry-creek</td>\n",
       "      <td>1</td>\n",
       "      <td>0</td>\n",
       "    </tr>\n",
       "  </tbody>\n",
       "</table>\n",
       "<p>5 rows × 19 columns</p>\n",
       "</div>"
      ],
      "text/plain": [
       "    INCIDENT_ID         OFFENSE_ID  OFFENSE_CODE  OFFENSE_CODE_EXTENSION  \\\n",
       "0    2016376978   2016376978521300          5213                       0   \n",
       "1   20186000994  20186000994239900          2399                       0   \n",
       "..          ...                ...           ...                     ...   \n",
       "3     201872333    201872333239900          2399                       0   \n",
       "4    2017411405   2017411405230300          2303                       0   \n",
       "\n",
       "                 OFFENSE_TYPE_ID OFFENSE_CATEGORY_ID   FIRST_OCCURRENCE_DATE  \\\n",
       "0   weapon-unlawful-discharge-of    all-other-crimes   6/15/2016 11:31:00 PM   \n",
       "1                    theft-other             larceny  10/11/2017 12:30:00 PM   \n",
       "..                           ...                 ...                     ...   \n",
       "3                    theft-other             larceny    1/30/2018 7:20:00 PM   \n",
       "4                 theft-shoplift             larceny    6/22/2017 8:53:00 PM   \n",
       "\n",
       "     LAST_OCCURRENCE_DATE          REPORTED_DATE     INCIDENT_ADDRESS  \\\n",
       "0                     NaN  6/15/2016 11:31:00 PM                  NaN   \n",
       "1   10/11/2017 4:55:00 PM   1/29/2018 5:53:00 PM                  NaN   \n",
       "..                    ...                    ...                  ...   \n",
       "3                     NaN  1/30/2018 10:29:00 PM  705 S COLORADO BLVD   \n",
       "4                     NaN   6/23/2017 4:09:00 PM       2810 E 1ST AVE   \n",
       "\n",
       "        GEO_X      GEO_Y     GEO_LON    GEO_LAT  DISTRICT_ID  PRECINCT_ID  \\\n",
       "0   3193983.0  1707251.0 -104.809881  39.773188            5          521   \n",
       "1   3201943.0  1711852.0 -104.781434  39.785649            5          522   \n",
       "..        ...        ...         ...        ...          ...          ...   \n",
       "3   3157162.0  1681320.0 -104.941440  39.702698            3          312   \n",
       "4   3153211.0  1686545.0 -104.955370  39.717107            3          311   \n",
       "\n",
       "               NEIGHBORHOOD_ID  IS_CRIME  IS_TRAFFIC  \n",
       "0                    montbello         1           0  \n",
       "1   gateway-green-valley-ranch         1           0  \n",
       "..                         ...       ...         ...  \n",
       "3                      belcaro         1           0  \n",
       "4                 cherry-creek         1           0  \n",
       "\n",
       "[5 rows x 19 columns]"
      ]
     },
     "execution_count": 76,
     "metadata": {},
     "output_type": "execute_result"
    }
   ],
   "source": [
    "df.head()"
   ]
  },
  {
   "cell_type": "code",
   "execution_count": 77,
   "metadata": {
    "pycharm": {
     "is_executing": false
    }
   },
   "outputs": [],
   "source": [
    "# Convert string to datetime for all dates\n",
    "datetimes = []\n",
    "for i in range(df.shape[0]):\n",
    "    datetimes.append(datetime.strptime(df.iloc[i]['FIRST_OCCURRENCE_DATE'], '%m/%d/%Y %I:%M:%S %p'))"
   ]
  },
  {
   "cell_type": "code",
   "execution_count": 78,
   "metadata": {
    "pycharm": {
     "is_executing": false
    }
   },
   "outputs": [],
   "source": [
    "# Using the datetime column to create the year, month... columns\n",
    "year = []\n",
    "month = []\n",
    "day = []\n",
    "day_of_week = []\n",
    "hour = []\n",
    "minute = []\n",
    "for date in datetimes:\n",
    "    year.append(date.year)\n",
    "    month.append(date.month)\n",
    "    day.append(date.day)\n",
    "    hour.append(date.hour)\n",
    "    minute.append(date.minute)\n",
    "    day_of_week.append(date.weekday())"
   ]
  },
  {
   "cell_type": "code",
   "execution_count": 79,
   "metadata": {
    "pycharm": {
     "is_executing": false
    }
   },
   "outputs": [],
   "source": [
    "# Creating the columns\n",
    "date_df = pd.DataFrame(list())\n",
    "date_df[\"Date-key\"] = df.index\n",
    "date_df[\"Date-key\"] += 193478\n",
    "date_df[\"Year\"] = year\n",
    "date_df[\"Month\"] = month\n",
    "date_df[\"Day\"] = day\n",
    "date_df[\"Hour\"] = hour\n",
    "date_df[\"Minute\"] = minute\n",
    "date_df[\"Day-of-week\"] = day_of_week"
   ]
  },
  {
   "cell_type": "code",
   "execution_count": 80,
   "metadata": {
    "pycharm": {
     "is_executing": false
    }
   },
   "outputs": [],
   "source": [
    "# Create the weekend column\n",
    "weekend = []\n",
    "for i in day_of_week:\n",
    "    if i < 5:\n",
    "        weekend.append(False)\n",
    "    else:\n",
    "        weekend.append(True)\n",
    "date_df[\"Weekend\"] = weekend"
   ]
  },
  {
   "cell_type": "code",
   "execution_count": 81,
   "metadata": {
    "pycharm": {
     "is_executing": false
    }
   },
   "outputs": [],
   "source": [
    "# Maps te days of the week to their correspondent string name\n",
    "date_df_map = {0: \"Monday\", 1: \"Tuesday\", 2: \"Wednesday\", \n",
    "               3: \"Thursday\", 4: \"Friday\", 5: \"Saturday\",\n",
    "               6: \"Sunday\"}\n",
    "date_df = date_df.replace({\"Day-of-week\": date_df_map})"
   ]
  },
  {
   "cell_type": "code",
   "execution_count": 82,
   "metadata": {
    "pycharm": {
     "is_executing": false
    }
   },
   "outputs": [],
   "source": [
    "# Check for holidays and creates the holiday column\n",
    "isHoliday = []\n",
    "ca_holidays = holidays.CA() \n",
    "for i in datetimes:\n",
    "    isHoliday.append(i in ca_holidays)\n",
    "date_df[\"Holiday\"] = isHoliday"
   ]
  },
  {
   "cell_type": "code",
   "execution_count": 83,
   "metadata": {
    "pycharm": {
     "is_executing": false
    }
   },
   "outputs": [],
   "source": [
    "# Get the holiday names and create holiday name column\n",
    "holiday_name = []\n",
    "for i in datetimes:\n",
    "    holiday_name.append(ca_holidays.get(i))\n",
    "date_df[\"Holiday-name\"] = holiday_name"
   ]
  },
  {
   "cell_type": "code",
   "execution_count": 84,
   "metadata": {
    "pycharm": {
     "is_executing": false
    }
   },
   "outputs": [],
   "source": [
    "# Reorganize the columns\n",
    "cols = [\"Date-key\", \"Day-of-week\", \"Minute\",\"Hour\", \"Day\", \"Month\"\n",
    "       , \"Year\", \"Weekend\", \"Holiday\", \"Holiday-name\"]\n",
    "date_df = date_df[cols]"
   ]
  },
  {
   "cell_type": "code",
   "execution_count": 85,
   "metadata": {},
   "outputs": [
    {
     "data": {
      "text/html": [
       "<div>\n",
       "<style scoped>\n",
       "    .dataframe tbody tr th:only-of-type {\n",
       "        vertical-align: middle;\n",
       "    }\n",
       "\n",
       "    .dataframe tbody tr th {\n",
       "        vertical-align: top;\n",
       "    }\n",
       "\n",
       "    .dataframe thead th {\n",
       "        text-align: right;\n",
       "    }\n",
       "</style>\n",
       "<table border=\"1\" class=\"dataframe\">\n",
       "  <thead>\n",
       "    <tr style=\"text-align: right;\">\n",
       "      <th></th>\n",
       "      <th>Date-key</th>\n",
       "      <th>Day-of-week</th>\n",
       "      <th>Minute</th>\n",
       "      <th>Hour</th>\n",
       "      <th>Day</th>\n",
       "      <th>Month</th>\n",
       "      <th>Year</th>\n",
       "      <th>Weekend</th>\n",
       "      <th>Holiday</th>\n",
       "      <th>Holiday-name</th>\n",
       "    </tr>\n",
       "  </thead>\n",
       "  <tbody>\n",
       "    <tr>\n",
       "      <th>0</th>\n",
       "      <td>193478</td>\n",
       "      <td>Wednesday</td>\n",
       "      <td>31</td>\n",
       "      <td>23</td>\n",
       "      <td>15</td>\n",
       "      <td>6</td>\n",
       "      <td>2016</td>\n",
       "      <td>False</td>\n",
       "      <td>False</td>\n",
       "      <td>None</td>\n",
       "    </tr>\n",
       "    <tr>\n",
       "      <th>1</th>\n",
       "      <td>193479</td>\n",
       "      <td>Wednesday</td>\n",
       "      <td>30</td>\n",
       "      <td>12</td>\n",
       "      <td>11</td>\n",
       "      <td>10</td>\n",
       "      <td>2017</td>\n",
       "      <td>False</td>\n",
       "      <td>False</td>\n",
       "      <td>None</td>\n",
       "    </tr>\n",
       "    <tr>\n",
       "      <th>...</th>\n",
       "      <td>...</td>\n",
       "      <td>...</td>\n",
       "      <td>...</td>\n",
       "      <td>...</td>\n",
       "      <td>...</td>\n",
       "      <td>...</td>\n",
       "      <td>...</td>\n",
       "      <td>...</td>\n",
       "      <td>...</td>\n",
       "      <td>...</td>\n",
       "    </tr>\n",
       "    <tr>\n",
       "      <th>462403</th>\n",
       "      <td>655881</td>\n",
       "      <td>Saturday</td>\n",
       "      <td>20</td>\n",
       "      <td>17</td>\n",
       "      <td>16</td>\n",
       "      <td>11</td>\n",
       "      <td>2019</td>\n",
       "      <td>True</td>\n",
       "      <td>False</td>\n",
       "      <td>None</td>\n",
       "    </tr>\n",
       "    <tr>\n",
       "      <th>462404</th>\n",
       "      <td>655882</td>\n",
       "      <td>Friday</td>\n",
       "      <td>45</td>\n",
       "      <td>6</td>\n",
       "      <td>27</td>\n",
       "      <td>12</td>\n",
       "      <td>2019</td>\n",
       "      <td>False</td>\n",
       "      <td>False</td>\n",
       "      <td>None</td>\n",
       "    </tr>\n",
       "  </tbody>\n",
       "</table>\n",
       "<p>462405 rows × 10 columns</p>\n",
       "</div>"
      ],
      "text/plain": [
       "        Date-key Day-of-week  Minute  Hour  Day  Month  Year  Weekend  \\\n",
       "0         193478   Wednesday      31    23   15      6  2016    False   \n",
       "1         193479   Wednesday      30    12   11     10  2017    False   \n",
       "...          ...         ...     ...   ...  ...    ...   ...      ...   \n",
       "462403    655881    Saturday      20    17   16     11  2019     True   \n",
       "462404    655882      Friday      45     6   27     12  2019    False   \n",
       "\n",
       "        Holiday Holiday-name  \n",
       "0         False         None  \n",
       "1         False         None  \n",
       "...         ...          ...  \n",
       "462403    False         None  \n",
       "462404    False         None  \n",
       "\n",
       "[462405 rows x 10 columns]"
      ]
     },
     "execution_count": 85,
     "metadata": {},
     "output_type": "execute_result"
    }
   ],
   "source": [
    "date_df"
   ]
  },
  {
   "cell_type": "code",
   "execution_count": 86,
   "metadata": {},
   "outputs": [],
   "source": [
    "date_df.to_csv(\"Denver_Date_Final.csv\", index = False)"
   ]
  }
 ],
 "metadata": {
  "kernelspec": {
   "display_name": "Python 3",
   "language": "python",
   "name": "python3"
  },
  "language_info": {
   "codemirror_mode": {
    "name": "ipython",
    "version": 3
   },
   "file_extension": ".py",
   "mimetype": "text/x-python",
   "name": "python",
   "nbconvert_exporter": "python",
   "pygments_lexer": "ipython3",
   "version": "3.7.1"
  },
  "pycharm": {
   "stem_cell": {
    "cell_type": "raw",
    "metadata": {
     "collapsed": false
    },
    "source": []
   }
  }
 },
 "nbformat": 4,
 "nbformat_minor": 2
}
