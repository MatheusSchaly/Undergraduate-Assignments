{
 "cells": [
  {
   "cell_type": "code",
   "execution_count": 1,
   "metadata": {},
   "outputs": [],
   "source": [
    "import numpy as np\n",
    "import pandas as pd\n",
    "import seaborn as sns\n",
    "import pickle\n",
    "import datawig\n",
    "from sklearn.model_selection import train_test_split\n",
    "from sklearn.preprocessing import StandardScaler\n",
    "from sklearn.utils import shuffle\n",
    "from sklearn.preprocessing import LabelEncoder, OrdinalEncoder\n",
    "from sklearn.ensemble import RandomForestClassifier\n",
    "from sklearn.experimental import enable_iterative_imputer\n",
    "from sklearn.impute import IterativeImputer\n",
    "import matplotlib.pyplot as plt"
   ]
  },
  {
   "cell_type": "markdown",
   "metadata": {},
   "source": [
    "### Load training data"
   ]
  },
  {
   "cell_type": "code",
   "execution_count": 2,
   "metadata": {},
   "outputs": [
    {
     "data": {
      "text/html": [
       "<div>\n",
       "<style scoped>\n",
       "    .dataframe tbody tr th:only-of-type {\n",
       "        vertical-align: middle;\n",
       "    }\n",
       "\n",
       "    .dataframe tbody tr th {\n",
       "        vertical-align: top;\n",
       "    }\n",
       "\n",
       "    .dataframe thead th {\n",
       "        text-align: right;\n",
       "    }\n",
       "</style>\n",
       "<table border=\"1\" class=\"dataframe\">\n",
       "  <thead>\n",
       "    <tr style=\"text-align: right;\">\n",
       "      <th></th>\n",
       "      <th>WELL</th>\n",
       "      <th>DEPTH_MD</th>\n",
       "      <th>X_LOC</th>\n",
       "      <th>Y_LOC</th>\n",
       "      <th>Z_LOC</th>\n",
       "      <th>GROUP</th>\n",
       "      <th>FORMATION</th>\n",
       "      <th>CALI</th>\n",
       "      <th>RSHA</th>\n",
       "      <th>RMED</th>\n",
       "      <th>...</th>\n",
       "      <th>ROP</th>\n",
       "      <th>DTS</th>\n",
       "      <th>DCAL</th>\n",
       "      <th>DRHO</th>\n",
       "      <th>MUDWEIGHT</th>\n",
       "      <th>RMIC</th>\n",
       "      <th>ROPA</th>\n",
       "      <th>RXO</th>\n",
       "      <th>FORCE_2020_LITHOFACIES_LITHOLOGY</th>\n",
       "      <th>FORCE_2020_LITHOFACIES_CONFIDENCE</th>\n",
       "    </tr>\n",
       "  </thead>\n",
       "  <tbody>\n",
       "    <tr>\n",
       "      <th>30423</th>\n",
       "      <td>15/9-15</td>\n",
       "      <td>2343.304000</td>\n",
       "      <td>436806.46875</td>\n",
       "      <td>6463010.5</td>\n",
       "      <td>-2318.007324</td>\n",
       "      <td>ROGALAND GP.</td>\n",
       "      <td>Lista Fm.</td>\n",
       "      <td>14.882113</td>\n",
       "      <td>0.771240</td>\n",
       "      <td>0.771240</td>\n",
       "      <td>...</td>\n",
       "      <td>12.761565</td>\n",
       "      <td>NaN</td>\n",
       "      <td>2.632109</td>\n",
       "      <td>0.115312</td>\n",
       "      <td>0.143792</td>\n",
       "      <td>NaN</td>\n",
       "      <td>NaN</td>\n",
       "      <td>0.570850</td>\n",
       "      <td>65000</td>\n",
       "      <td>1.0</td>\n",
       "    </tr>\n",
       "    <tr>\n",
       "      <th>1073159</th>\n",
       "      <td>35/3-7 S</td>\n",
       "      <td>3582.467851</td>\n",
       "      <td>543919.75000</td>\n",
       "      <td>6856653.5</td>\n",
       "      <td>-3477.858154</td>\n",
       "      <td>CROMER KNOLL GP.</td>\n",
       "      <td>Roedby Fm.</td>\n",
       "      <td>8.645628</td>\n",
       "      <td>NaN</td>\n",
       "      <td>5.599961</td>\n",
       "      <td>...</td>\n",
       "      <td>10.556081</td>\n",
       "      <td>150.206314</td>\n",
       "      <td>NaN</td>\n",
       "      <td>-0.007215</td>\n",
       "      <td>NaN</td>\n",
       "      <td>6.627153</td>\n",
       "      <td>10.410796</td>\n",
       "      <td>NaN</td>\n",
       "      <td>65000</td>\n",
       "      <td>1.0</td>\n",
       "    </tr>\n",
       "    <tr>\n",
       "      <th>436368</th>\n",
       "      <td>25/9-1</td>\n",
       "      <td>734.814000</td>\n",
       "      <td>483545.34375</td>\n",
       "      <td>6590313.0</td>\n",
       "      <td>-709.762207</td>\n",
       "      <td>NORDLAND GP.</td>\n",
       "      <td>Utsira Fm.</td>\n",
       "      <td>NaN</td>\n",
       "      <td>NaN</td>\n",
       "      <td>NaN</td>\n",
       "      <td>...</td>\n",
       "      <td>109.271744</td>\n",
       "      <td>NaN</td>\n",
       "      <td>NaN</td>\n",
       "      <td>NaN</td>\n",
       "      <td>NaN</td>\n",
       "      <td>NaN</td>\n",
       "      <td>NaN</td>\n",
       "      <td>NaN</td>\n",
       "      <td>65030</td>\n",
       "      <td>1.0</td>\n",
       "    </tr>\n",
       "    <tr>\n",
       "      <th>290688</th>\n",
       "      <td>25/3-1</td>\n",
       "      <td>1075.968000</td>\n",
       "      <td>487291.25000</td>\n",
       "      <td>6643945.0</td>\n",
       "      <td>-1053.937988</td>\n",
       "      <td>HORDALAND GP.</td>\n",
       "      <td>NaN</td>\n",
       "      <td>17.646826</td>\n",
       "      <td>NaN</td>\n",
       "      <td>0.867609</td>\n",
       "      <td>...</td>\n",
       "      <td>7.970956</td>\n",
       "      <td>NaN</td>\n",
       "      <td>0.215513</td>\n",
       "      <td>0.051340</td>\n",
       "      <td>0.958611</td>\n",
       "      <td>NaN</td>\n",
       "      <td>NaN</td>\n",
       "      <td>NaN</td>\n",
       "      <td>30000</td>\n",
       "      <td>1.0</td>\n",
       "    </tr>\n",
       "    <tr>\n",
       "      <th>1118085</th>\n",
       "      <td>35/9-10 S</td>\n",
       "      <td>3580.061600</td>\n",
       "      <td>537897.75000</td>\n",
       "      <td>6791142.5</td>\n",
       "      <td>-3069.179688</td>\n",
       "      <td>BAAT GP.</td>\n",
       "      <td>Rannoch Fm.</td>\n",
       "      <td>8.572706</td>\n",
       "      <td>NaN</td>\n",
       "      <td>7.634528</td>\n",
       "      <td>...</td>\n",
       "      <td>31.773550</td>\n",
       "      <td>140.671463</td>\n",
       "      <td>NaN</td>\n",
       "      <td>0.039784</td>\n",
       "      <td>NaN</td>\n",
       "      <td>NaN</td>\n",
       "      <td>NaN</td>\n",
       "      <td>NaN</td>\n",
       "      <td>65000</td>\n",
       "      <td>1.0</td>\n",
       "    </tr>\n",
       "    <tr>\n",
       "      <th>564809</th>\n",
       "      <td>31/2-7</td>\n",
       "      <td>543.912932</td>\n",
       "      <td>524586.50000</td>\n",
       "      <td>6747128.5</td>\n",
       "      <td>-518.902283</td>\n",
       "      <td>NORDLAND GP.</td>\n",
       "      <td>NaN</td>\n",
       "      <td>17.800201</td>\n",
       "      <td>NaN</td>\n",
       "      <td>2.290902</td>\n",
       "      <td>...</td>\n",
       "      <td>NaN</td>\n",
       "      <td>NaN</td>\n",
       "      <td>NaN</td>\n",
       "      <td>0.005903</td>\n",
       "      <td>NaN</td>\n",
       "      <td>NaN</td>\n",
       "      <td>NaN</td>\n",
       "      <td>NaN</td>\n",
       "      <td>65000</td>\n",
       "      <td>1.0</td>\n",
       "    </tr>\n",
       "    <tr>\n",
       "      <th>745628</th>\n",
       "      <td>33/9-17</td>\n",
       "      <td>2600.577985</td>\n",
       "      <td>438440.25000</td>\n",
       "      <td>6814142.5</td>\n",
       "      <td>-2573.349854</td>\n",
       "      <td>SHETLAND GP.</td>\n",
       "      <td>Kyrre Fm.</td>\n",
       "      <td>8.527467</td>\n",
       "      <td>1.440498</td>\n",
       "      <td>1.394500</td>\n",
       "      <td>...</td>\n",
       "      <td>NaN</td>\n",
       "      <td>NaN</td>\n",
       "      <td>NaN</td>\n",
       "      <td>-0.004298</td>\n",
       "      <td>NaN</td>\n",
       "      <td>NaN</td>\n",
       "      <td>6.810722</td>\n",
       "      <td>2.037278</td>\n",
       "      <td>65000</td>\n",
       "      <td>1.0</td>\n",
       "    </tr>\n",
       "    <tr>\n",
       "      <th>531364</th>\n",
       "      <td>30/6-5</td>\n",
       "      <td>2325.034400</td>\n",
       "      <td>497435.71875</td>\n",
       "      <td>6728314.0</td>\n",
       "      <td>-2299.976318</td>\n",
       "      <td>SHETLAND GP.</td>\n",
       "      <td>Lista Fm.</td>\n",
       "      <td>14.654340</td>\n",
       "      <td>1.958396</td>\n",
       "      <td>1.847564</td>\n",
       "      <td>...</td>\n",
       "      <td>NaN</td>\n",
       "      <td>NaN</td>\n",
       "      <td>NaN</td>\n",
       "      <td>0.000692</td>\n",
       "      <td>NaN</td>\n",
       "      <td>NaN</td>\n",
       "      <td>NaN</td>\n",
       "      <td>2.087825</td>\n",
       "      <td>70000</td>\n",
       "      <td>1.0</td>\n",
       "    </tr>\n",
       "    <tr>\n",
       "      <th>936673</th>\n",
       "      <td>34/8-1</td>\n",
       "      <td>2787.793023</td>\n",
       "      <td>469565.43750</td>\n",
       "      <td>6803862.0</td>\n",
       "      <td>-2746.412354</td>\n",
       "      <td>BAAT GP.</td>\n",
       "      <td>Tarbert Fm.</td>\n",
       "      <td>8.000000</td>\n",
       "      <td>1.489495</td>\n",
       "      <td>54.155262</td>\n",
       "      <td>...</td>\n",
       "      <td>NaN</td>\n",
       "      <td>NaN</td>\n",
       "      <td>NaN</td>\n",
       "      <td>-0.066900</td>\n",
       "      <td>NaN</td>\n",
       "      <td>NaN</td>\n",
       "      <td>NaN</td>\n",
       "      <td>1.821454</td>\n",
       "      <td>30000</td>\n",
       "      <td>1.0</td>\n",
       "    </tr>\n",
       "    <tr>\n",
       "      <th>144292</th>\n",
       "      <td>16/4-1</td>\n",
       "      <td>1058.201604</td>\n",
       "      <td>449949.31250</td>\n",
       "      <td>6500257.0</td>\n",
       "      <td>-1033.074951</td>\n",
       "      <td>HORDALAND GP.</td>\n",
       "      <td>Utsira Fm.</td>\n",
       "      <td>16.719784</td>\n",
       "      <td>1.197158</td>\n",
       "      <td>1.202889</td>\n",
       "      <td>...</td>\n",
       "      <td>1.831535</td>\n",
       "      <td>NaN</td>\n",
       "      <td>1.969784</td>\n",
       "      <td>-0.004111</td>\n",
       "      <td>0.140197</td>\n",
       "      <td>NaN</td>\n",
       "      <td>NaN</td>\n",
       "      <td>NaN</td>\n",
       "      <td>65000</td>\n",
       "      <td>1.0</td>\n",
       "    </tr>\n",
       "  </tbody>\n",
       "</table>\n",
       "<p>10 rows × 29 columns</p>\n",
       "</div>"
      ],
      "text/plain": [
       "              WELL     DEPTH_MD         X_LOC      Y_LOC        Z_LOC  \\\n",
       "30423      15/9-15  2343.304000  436806.46875  6463010.5 -2318.007324   \n",
       "1073159   35/3-7 S  3582.467851  543919.75000  6856653.5 -3477.858154   \n",
       "436368      25/9-1   734.814000  483545.34375  6590313.0  -709.762207   \n",
       "290688      25/3-1  1075.968000  487291.25000  6643945.0 -1053.937988   \n",
       "1118085  35/9-10 S  3580.061600  537897.75000  6791142.5 -3069.179688   \n",
       "564809      31/2-7   543.912932  524586.50000  6747128.5  -518.902283   \n",
       "745628     33/9-17  2600.577985  438440.25000  6814142.5 -2573.349854   \n",
       "531364      30/6-5  2325.034400  497435.71875  6728314.0 -2299.976318   \n",
       "936673      34/8-1  2787.793023  469565.43750  6803862.0 -2746.412354   \n",
       "144292      16/4-1  1058.201604  449949.31250  6500257.0 -1033.074951   \n",
       "\n",
       "                    GROUP    FORMATION       CALI      RSHA       RMED  ...  \\\n",
       "30423        ROGALAND GP.    Lista Fm.  14.882113  0.771240   0.771240  ...   \n",
       "1073159  CROMER KNOLL GP.   Roedby Fm.   8.645628       NaN   5.599961  ...   \n",
       "436368       NORDLAND GP.   Utsira Fm.        NaN       NaN        NaN  ...   \n",
       "290688      HORDALAND GP.          NaN  17.646826       NaN   0.867609  ...   \n",
       "1118085          BAAT GP.  Rannoch Fm.   8.572706       NaN   7.634528  ...   \n",
       "564809       NORDLAND GP.          NaN  17.800201       NaN   2.290902  ...   \n",
       "745628       SHETLAND GP.    Kyrre Fm.   8.527467  1.440498   1.394500  ...   \n",
       "531364       SHETLAND GP.    Lista Fm.  14.654340  1.958396   1.847564  ...   \n",
       "936673           BAAT GP.  Tarbert Fm.   8.000000  1.489495  54.155262  ...   \n",
       "144292      HORDALAND GP.   Utsira Fm.  16.719784  1.197158   1.202889  ...   \n",
       "\n",
       "                ROP         DTS      DCAL      DRHO  MUDWEIGHT      RMIC  \\\n",
       "30423     12.761565         NaN  2.632109  0.115312   0.143792       NaN   \n",
       "1073159   10.556081  150.206314       NaN -0.007215        NaN  6.627153   \n",
       "436368   109.271744         NaN       NaN       NaN        NaN       NaN   \n",
       "290688     7.970956         NaN  0.215513  0.051340   0.958611       NaN   \n",
       "1118085   31.773550  140.671463       NaN  0.039784        NaN       NaN   \n",
       "564809          NaN         NaN       NaN  0.005903        NaN       NaN   \n",
       "745628          NaN         NaN       NaN -0.004298        NaN       NaN   \n",
       "531364          NaN         NaN       NaN  0.000692        NaN       NaN   \n",
       "936673          NaN         NaN       NaN -0.066900        NaN       NaN   \n",
       "144292     1.831535         NaN  1.969784 -0.004111   0.140197       NaN   \n",
       "\n",
       "              ROPA       RXO  FORCE_2020_LITHOFACIES_LITHOLOGY  \\\n",
       "30423          NaN  0.570850                             65000   \n",
       "1073159  10.410796       NaN                             65000   \n",
       "436368         NaN       NaN                             65030   \n",
       "290688         NaN       NaN                             30000   \n",
       "1118085        NaN       NaN                             65000   \n",
       "564809         NaN       NaN                             65000   \n",
       "745628    6.810722  2.037278                             65000   \n",
       "531364         NaN  2.087825                             70000   \n",
       "936673         NaN  1.821454                             30000   \n",
       "144292         NaN       NaN                             65000   \n",
       "\n",
       "         FORCE_2020_LITHOFACIES_CONFIDENCE  \n",
       "30423                                  1.0  \n",
       "1073159                                1.0  \n",
       "436368                                 1.0  \n",
       "290688                                 1.0  \n",
       "1118085                                1.0  \n",
       "564809                                 1.0  \n",
       "745628                                 1.0  \n",
       "531364                                 1.0  \n",
       "936673                                 1.0  \n",
       "144292                                 1.0  \n",
       "\n",
       "[10 rows x 29 columns]"
      ]
     },
     "execution_count": 2,
     "metadata": {},
     "output_type": "execute_result"
    }
   ],
   "source": [
    "df = pd.read_csv('train.csv', sep=';')\n",
    "df.sample(10)"
   ]
  },
  {
   "cell_type": "code",
   "execution_count": 3,
   "metadata": {},
   "outputs": [
    {
     "data": {
      "text/plain": [
       "Index(['WELL', 'DEPTH_MD', 'X_LOC', 'Y_LOC', 'Z_LOC', 'GROUP', 'FORMATION',\n",
       "       'CALI', 'RSHA', 'RMED', 'RDEP', 'RHOB', 'GR', 'SGR', 'NPHI', 'PEF',\n",
       "       'DTC', 'SP', 'BS', 'ROP', 'DTS', 'DCAL', 'DRHO', 'MUDWEIGHT', 'RMIC',\n",
       "       'ROPA', 'RXO', 'FORCE_2020_LITHOFACIES_LITHOLOGY',\n",
       "       'FORCE_2020_LITHOFACIES_CONFIDENCE'],\n",
       "      dtype='object')"
      ]
     },
     "execution_count": 3,
     "metadata": {},
     "output_type": "execute_result"
    }
   ],
   "source": [
    "df.columns"
   ]
  },
  {
   "cell_type": "code",
   "execution_count": 5,
   "metadata": {},
   "outputs": [
    {
     "data": {
      "text/plain": [
       "12"
      ]
     },
     "execution_count": 5,
     "metadata": {},
     "output_type": "execute_result"
    }
   ],
   "source": [
    "df['FORCE_2020_LITHOFACIES_LITHOLOGY'].nunique()"
   ]
  },
  {
   "cell_type": "code",
   "execution_count": 3,
   "metadata": {},
   "outputs": [
    {
     "data": {
      "text/plain": [
       "array(['15/9-13', '15/9-15', '15/9-17', '16/1-2', '16/1-6 A', '16/10-1',\n",
       "       '16/10-2', '16/10-3', '16/10-5', '16/11-1 ST3', '16/2-11 A',\n",
       "       '16/2-16', '16/2-6', '16/4-1', '16/5-3', '16/7-4', '16/7-5',\n",
       "       '16/8-1', '17/11-1', '25/11-15', '25/11-19 S', '25/11-5',\n",
       "       '25/2-13 T4', '25/2-14', '25/2-7', '25/3-1', '25/4-5', '25/5-1',\n",
       "       '25/5-4', '25/6-1', '25/6-2', '25/6-3', '25/7-2', '25/8-5 S',\n",
       "       '25/8-7', '25/9-1', '26/4-1', '29/6-1', '30/3-3', '30/3-5 S',\n",
       "       '30/6-5', '31/2-1', '31/2-19 S', '31/2-7', '31/2-8', '31/2-9',\n",
       "       '31/3-1', '31/3-2', '31/3-3', '31/3-4', '31/4-10', '31/4-5',\n",
       "       '31/5-4 S', '31/6-5', '31/6-8', '32/2-1', '33/5-2', '33/6-3 S',\n",
       "       '33/9-1', '33/9-17', '34/10-19', '34/10-21', '34/10-33',\n",
       "       '34/10-35', '34/11-1', '34/11-2 S', '34/12-1', '34/2-4',\n",
       "       '34/3-1 A', '34/4-10 R', '34/5-1 A', '34/5-1 S', '34/7-13',\n",
       "       '34/7-20', '34/7-21', '34/8-1', '34/8-3', '34/8-7 R', '35/11-1',\n",
       "       '35/11-10', '35/11-11', '35/11-12', '35/11-13', '35/11-15 S',\n",
       "       '35/11-6', '35/11-7', '35/12-1', '35/3-7 S', '35/4-1', '35/8-4',\n",
       "       '35/8-6 S', '35/9-10 S', '35/9-2', '35/9-5', '35/9-6 S', '36/7-3',\n",
       "       '7/1-1', '7/1-2 S'], dtype=object)"
      ]
     },
     "execution_count": 3,
     "metadata": {},
     "output_type": "execute_result"
    }
   ],
   "source": [
    "df.WELL.unique()"
   ]
  },
  {
   "cell_type": "code",
   "execution_count": 4,
   "metadata": {},
   "outputs": [
    {
     "data": {
      "text/plain": [
       "(1170511, 29)"
      ]
     },
     "execution_count": 4,
     "metadata": {},
     "output_type": "execute_result"
    }
   ],
   "source": [
    "df.shape"
   ]
  },
  {
   "cell_type": "code",
   "execution_count": 5,
   "metadata": {},
   "outputs": [],
   "source": [
    "df = df.sample(1000, random_state=1)"
   ]
  },
  {
   "cell_type": "markdown",
   "metadata": {},
   "source": [
    "# One-hot-encoding"
   ]
  },
  {
   "cell_type": "code",
   "execution_count": 6,
   "metadata": {},
   "outputs": [],
   "source": [
    "dummies = pd.get_dummies(df[['GROUP', 'FORMATION']], drop_first=True)\n",
    "df = pd.concat([df.drop(['GROUP', 'FORMATION'], axis=1), dummies], axis=1)"
   ]
  },
  {
   "cell_type": "markdown",
   "metadata": {},
   "source": [
    "# Split the data"
   ]
  },
  {
   "cell_type": "code",
   "execution_count": 7,
   "metadata": {},
   "outputs": [],
   "source": [
    "X = df.drop(['FORCE_2020_LITHOFACIES_LITHOLOGY', 'FORCE_2020_LITHOFACIES_CONFIDENCE', 'WELL'], axis=1)\n",
    "y = df['FORCE_2020_LITHOFACIES_LITHOLOGY']\n",
    "\n",
    "# Mapping\n",
    "lithology_numbers = {30000: 0,\n",
    "                     65030: 1,\n",
    "                     65000: 2,\n",
    "                     80000: 3,\n",
    "                     74000: 4,\n",
    "                     70000: 5,\n",
    "                     70032: 6,\n",
    "                     88000: 7,\n",
    "                     86000: 8,\n",
    "                     99000: 9,\n",
    "                     90000: 10,\n",
    "                     93000: 11}\n",
    "y = y.map(lithology_numbers)\n",
    "X_train_init, X_test_init, y_train, y_test = train_test_split(X, y, test_size=0.2, random_state=0)"
   ]
  },
  {
   "cell_type": "markdown",
   "metadata": {},
   "source": [
    "# Scaling"
   ]
  },
  {
   "cell_type": "code",
   "execution_count": 8,
   "metadata": {},
   "outputs": [],
   "source": [
    "from sklearn.preprocessing import StandardScaler\n",
    "scaler = StandardScaler()\n",
    "X_train = scaler.fit_transform(X_train_init)\n",
    "X_test = scaler.transform(X_test_init)\n",
    "X_train = pd.DataFrame(X_train, columns=X.columns) \n",
    "X_test = pd.DataFrame(X_test, columns=X.columns) "
   ]
  },
  {
   "cell_type": "code",
   "execution_count": 9,
   "metadata": {},
   "outputs": [],
   "source": [
    "from sklearn.preprocessing import MinMaxScaler\n",
    "minmax_scaler = MinMaxScaler()\n",
    "X_train_minmax = minmax_scaler.fit_transform(X_train_init)\n",
    "X_test_minmax = minmax_scaler.transform(X_test_init)\n",
    "X_train_minmax = pd.DataFrame(X_train_minmax, columns=X.columns) \n",
    "X_test_minmax = pd.DataFrame(X_test_minmax, columns=X.columns) "
   ]
  },
  {
   "cell_type": "markdown",
   "metadata": {},
   "source": [
    "# Impute missing data"
   ]
  },
  {
   "cell_type": "code",
   "execution_count": 10,
   "metadata": {},
   "outputs": [
    {
     "name": "stderr",
     "output_type": "stream",
     "text": [
      "C:\\Users\\mathe\\anaconda3\\lib\\site-packages\\sklearn\\impute\\_iterative.py:637: ConvergenceWarning: [IterativeImputer] Early stopping criterion not reached.\n",
      "  warnings.warn(\"[IterativeImputer] Early stopping criterion not\"\n",
      "C:\\Users\\mathe\\anaconda3\\lib\\site-packages\\sklearn\\impute\\_iterative.py:637: ConvergenceWarning: [IterativeImputer] Early stopping criterion not reached.\n",
      "  warnings.warn(\"[IterativeImputer] Early stopping criterion not\"\n"
     ]
    }
   ],
   "source": [
    "imputer = IterativeImputer(random_state=0)\n",
    "X_train = imputer.fit_transform(X_train)\n",
    "X_test = imputer.fit_transform(X_test)\n",
    "X_train = pd.DataFrame(X_train, columns=X.columns)\n",
    "X_test = pd.DataFrame(X_test, columns=X.columns) "
   ]
  },
  {
   "cell_type": "code",
   "execution_count": 11,
   "metadata": {},
   "outputs": [
    {
     "name": "stderr",
     "output_type": "stream",
     "text": [
      "C:\\Users\\mathe\\anaconda3\\lib\\site-packages\\sklearn\\impute\\_iterative.py:637: ConvergenceWarning: [IterativeImputer] Early stopping criterion not reached.\n",
      "  warnings.warn(\"[IterativeImputer] Early stopping criterion not\"\n",
      "C:\\Users\\mathe\\anaconda3\\lib\\site-packages\\sklearn\\impute\\_iterative.py:637: ConvergenceWarning: [IterativeImputer] Early stopping criterion not reached.\n",
      "  warnings.warn(\"[IterativeImputer] Early stopping criterion not\"\n"
     ]
    }
   ],
   "source": [
    "imputer = IterativeImputer(random_state=0)\n",
    "X_train_minmax = imputer.fit_transform(X_train_minmax)\n",
    "X_test_minmax = imputer.fit_transform(X_test_minmax)\n",
    "X_train_minmax = pd.DataFrame(X_train, columns=X.columns)\n",
    "X_test_minmax = pd.DataFrame(X_test, columns=X.columns) "
   ]
  },
  {
   "cell_type": "code",
   "execution_count": 12,
   "metadata": {},
   "outputs": [
    {
     "data": {
      "text/html": [
       "<div>\n",
       "<style scoped>\n",
       "    .dataframe tbody tr th:only-of-type {\n",
       "        vertical-align: middle;\n",
       "    }\n",
       "\n",
       "    .dataframe tbody tr th {\n",
       "        vertical-align: top;\n",
       "    }\n",
       "\n",
       "    .dataframe thead th {\n",
       "        text-align: right;\n",
       "    }\n",
       "</style>\n",
       "<table border=\"1\" class=\"dataframe\">\n",
       "  <thead>\n",
       "    <tr style=\"text-align: right;\">\n",
       "      <th></th>\n",
       "      <th>DEPTH_MD</th>\n",
       "      <th>X_LOC</th>\n",
       "      <th>Y_LOC</th>\n",
       "      <th>Z_LOC</th>\n",
       "      <th>CALI</th>\n",
       "      <th>RSHA</th>\n",
       "      <th>RMED</th>\n",
       "      <th>RDEP</th>\n",
       "      <th>RHOB</th>\n",
       "      <th>GR</th>\n",
       "      <th>...</th>\n",
       "      <th>FORMATION_Sognefjord Fm.</th>\n",
       "      <th>FORMATION_Sola Fm.</th>\n",
       "      <th>FORMATION_Statfjord Fm.</th>\n",
       "      <th>FORMATION_Svarte Fm.</th>\n",
       "      <th>FORMATION_Tarbert Fm.</th>\n",
       "      <th>FORMATION_Tor Fm.</th>\n",
       "      <th>FORMATION_Tryggvason Fm.</th>\n",
       "      <th>FORMATION_Ty Fm.</th>\n",
       "      <th>FORMATION_Utsira Fm.</th>\n",
       "      <th>FORMATION_Vaale Fm.</th>\n",
       "    </tr>\n",
       "  </thead>\n",
       "  <tbody>\n",
       "    <tr>\n",
       "      <th>895599</th>\n",
       "      <td>2517.849000</td>\n",
       "      <td>449505.12500</td>\n",
       "      <td>6808405.0</td>\n",
       "      <td>-2489.141602</td>\n",
       "      <td>12.040892</td>\n",
       "      <td>0.685014</td>\n",
       "      <td>1.636874</td>\n",
       "      <td>0.870555</td>\n",
       "      <td>2.182916</td>\n",
       "      <td>71.222061</td>\n",
       "      <td>...</td>\n",
       "      <td>0</td>\n",
       "      <td>0</td>\n",
       "      <td>0</td>\n",
       "      <td>0</td>\n",
       "      <td>0</td>\n",
       "      <td>0</td>\n",
       "      <td>0</td>\n",
       "      <td>0</td>\n",
       "      <td>0</td>\n",
       "      <td>0</td>\n",
       "    </tr>\n",
       "    <tr>\n",
       "      <th>616264</th>\n",
       "      <td>916.448901</td>\n",
       "      <td>536839.50000</td>\n",
       "      <td>6748637.0</td>\n",
       "      <td>-891.413208</td>\n",
       "      <td>NaN</td>\n",
       "      <td>NaN</td>\n",
       "      <td>0.985958</td>\n",
       "      <td>1.047868</td>\n",
       "      <td>2.054809</td>\n",
       "      <td>78.021637</td>\n",
       "      <td>...</td>\n",
       "      <td>0</td>\n",
       "      <td>0</td>\n",
       "      <td>0</td>\n",
       "      <td>0</td>\n",
       "      <td>0</td>\n",
       "      <td>0</td>\n",
       "      <td>0</td>\n",
       "      <td>0</td>\n",
       "      <td>0</td>\n",
       "      <td>0</td>\n",
       "    </tr>\n",
       "    <tr>\n",
       "      <th>1069599</th>\n",
       "      <td>2798.102815</td>\n",
       "      <td>551808.43750</td>\n",
       "      <td>6783871.0</td>\n",
       "      <td>-2770.365967</td>\n",
       "      <td>11.889311</td>\n",
       "      <td>1.912257</td>\n",
       "      <td>1.493732</td>\n",
       "      <td>1.815504</td>\n",
       "      <td>2.422944</td>\n",
       "      <td>84.575874</td>\n",
       "      <td>...</td>\n",
       "      <td>0</td>\n",
       "      <td>0</td>\n",
       "      <td>0</td>\n",
       "      <td>0</td>\n",
       "      <td>0</td>\n",
       "      <td>0</td>\n",
       "      <td>0</td>\n",
       "      <td>0</td>\n",
       "      <td>0</td>\n",
       "      <td>0</td>\n",
       "    </tr>\n",
       "    <tr>\n",
       "      <th>264637</th>\n",
       "      <td>442.474001</td>\n",
       "      <td>479890.03125</td>\n",
       "      <td>6641111.0</td>\n",
       "      <td>-417.468811</td>\n",
       "      <td>23.143061</td>\n",
       "      <td>0.869333</td>\n",
       "      <td>0.869333</td>\n",
       "      <td>1.153659</td>\n",
       "      <td>1.912060</td>\n",
       "      <td>37.342136</td>\n",
       "      <td>...</td>\n",
       "      <td>0</td>\n",
       "      <td>0</td>\n",
       "      <td>0</td>\n",
       "      <td>0</td>\n",
       "      <td>0</td>\n",
       "      <td>0</td>\n",
       "      <td>0</td>\n",
       "      <td>0</td>\n",
       "      <td>0</td>\n",
       "      <td>0</td>\n",
       "    </tr>\n",
       "    <tr>\n",
       "      <th>105340</th>\n",
       "      <td>1870.489201</td>\n",
       "      <td>NaN</td>\n",
       "      <td>NaN</td>\n",
       "      <td>NaN</td>\n",
       "      <td>13.803381</td>\n",
       "      <td>0.818184</td>\n",
       "      <td>NaN</td>\n",
       "      <td>NaN</td>\n",
       "      <td>2.390269</td>\n",
       "      <td>9.234775</td>\n",
       "      <td>...</td>\n",
       "      <td>0</td>\n",
       "      <td>0</td>\n",
       "      <td>0</td>\n",
       "      <td>0</td>\n",
       "      <td>0</td>\n",
       "      <td>0</td>\n",
       "      <td>0</td>\n",
       "      <td>0</td>\n",
       "      <td>0</td>\n",
       "      <td>0</td>\n",
       "    </tr>\n",
       "  </tbody>\n",
       "</table>\n",
       "<p>5 rows × 86 columns</p>\n",
       "</div>"
      ],
      "text/plain": [
       "            DEPTH_MD         X_LOC      Y_LOC        Z_LOC       CALI  \\\n",
       "895599   2517.849000  449505.12500  6808405.0 -2489.141602  12.040892   \n",
       "616264    916.448901  536839.50000  6748637.0  -891.413208        NaN   \n",
       "1069599  2798.102815  551808.43750  6783871.0 -2770.365967  11.889311   \n",
       "264637    442.474001  479890.03125  6641111.0  -417.468811  23.143061   \n",
       "105340   1870.489201           NaN        NaN          NaN  13.803381   \n",
       "\n",
       "             RSHA      RMED      RDEP      RHOB         GR  ...  \\\n",
       "895599   0.685014  1.636874  0.870555  2.182916  71.222061  ...   \n",
       "616264        NaN  0.985958  1.047868  2.054809  78.021637  ...   \n",
       "1069599  1.912257  1.493732  1.815504  2.422944  84.575874  ...   \n",
       "264637   0.869333  0.869333  1.153659  1.912060  37.342136  ...   \n",
       "105340   0.818184       NaN       NaN  2.390269   9.234775  ...   \n",
       "\n",
       "         FORMATION_Sognefjord Fm.  FORMATION_Sola Fm.  \\\n",
       "895599                          0                   0   \n",
       "616264                          0                   0   \n",
       "1069599                         0                   0   \n",
       "264637                          0                   0   \n",
       "105340                          0                   0   \n",
       "\n",
       "         FORMATION_Statfjord Fm.  FORMATION_Svarte Fm.  FORMATION_Tarbert Fm.  \\\n",
       "895599                         0                     0                      0   \n",
       "616264                         0                     0                      0   \n",
       "1069599                        0                     0                      0   \n",
       "264637                         0                     0                      0   \n",
       "105340                         0                     0                      0   \n",
       "\n",
       "         FORMATION_Tor Fm.  FORMATION_Tryggvason Fm.  FORMATION_Ty Fm.  \\\n",
       "895599                   0                         0                 0   \n",
       "616264                   0                         0                 0   \n",
       "1069599                  0                         0                 0   \n",
       "264637                   0                         0                 0   \n",
       "105340                   0                         0                 0   \n",
       "\n",
       "         FORMATION_Utsira Fm.  FORMATION_Vaale Fm.  \n",
       "895599                      0                    0  \n",
       "616264                      0                    0  \n",
       "1069599                     0                    0  \n",
       "264637                      0                    0  \n",
       "105340                      0                    0  \n",
       "\n",
       "[5 rows x 86 columns]"
      ]
     },
     "execution_count": 12,
     "metadata": {},
     "output_type": "execute_result"
    }
   ],
   "source": [
    "X_train_init.sample(5)"
   ]
  },
  {
   "cell_type": "code",
   "execution_count": 13,
   "metadata": {},
   "outputs": [
    {
     "data": {
      "text/html": [
       "<div>\n",
       "<style scoped>\n",
       "    .dataframe tbody tr th:only-of-type {\n",
       "        vertical-align: middle;\n",
       "    }\n",
       "\n",
       "    .dataframe tbody tr th {\n",
       "        vertical-align: top;\n",
       "    }\n",
       "\n",
       "    .dataframe thead th {\n",
       "        text-align: right;\n",
       "    }\n",
       "</style>\n",
       "<table border=\"1\" class=\"dataframe\">\n",
       "  <thead>\n",
       "    <tr style=\"text-align: right;\">\n",
       "      <th></th>\n",
       "      <th>DEPTH_MD</th>\n",
       "      <th>X_LOC</th>\n",
       "      <th>Y_LOC</th>\n",
       "      <th>Z_LOC</th>\n",
       "      <th>CALI</th>\n",
       "      <th>RSHA</th>\n",
       "      <th>RMED</th>\n",
       "      <th>RDEP</th>\n",
       "      <th>RHOB</th>\n",
       "      <th>GR</th>\n",
       "      <th>...</th>\n",
       "      <th>FORMATION_Sognefjord Fm.</th>\n",
       "      <th>FORMATION_Sola Fm.</th>\n",
       "      <th>FORMATION_Statfjord Fm.</th>\n",
       "      <th>FORMATION_Svarte Fm.</th>\n",
       "      <th>FORMATION_Tarbert Fm.</th>\n",
       "      <th>FORMATION_Tor Fm.</th>\n",
       "      <th>FORMATION_Tryggvason Fm.</th>\n",
       "      <th>FORMATION_Ty Fm.</th>\n",
       "      <th>FORMATION_Utsira Fm.</th>\n",
       "      <th>FORMATION_Vaale Fm.</th>\n",
       "    </tr>\n",
       "  </thead>\n",
       "  <tbody>\n",
       "    <tr>\n",
       "      <th>474</th>\n",
       "      <td>-0.918688</td>\n",
       "      <td>-0.041809</td>\n",
       "      <td>-0.667222</td>\n",
       "      <td>0.929810</td>\n",
       "      <td>-0.227687</td>\n",
       "      <td>-0.143060</td>\n",
       "      <td>-0.080627</td>\n",
       "      <td>-0.103900</td>\n",
       "      <td>-0.849464</td>\n",
       "      <td>-0.421185</td>\n",
       "      <td>...</td>\n",
       "      <td>-0.112509</td>\n",
       "      <td>-0.035377</td>\n",
       "      <td>-0.193942</td>\n",
       "      <td>-0.100504</td>\n",
       "      <td>-0.035377</td>\n",
       "      <td>-0.106668</td>\n",
       "      <td>-0.128524</td>\n",
       "      <td>-0.086929</td>\n",
       "      <td>-0.436436</td>\n",
       "      <td>-0.193942</td>\n",
       "    </tr>\n",
       "    <tr>\n",
       "      <th>60</th>\n",
       "      <td>2.263313</td>\n",
       "      <td>-1.161074</td>\n",
       "      <td>0.278535</td>\n",
       "      <td>-2.322163</td>\n",
       "      <td>-1.233706</td>\n",
       "      <td>-0.139837</td>\n",
       "      <td>-0.023622</td>\n",
       "      <td>-0.084632</td>\n",
       "      <td>0.403152</td>\n",
       "      <td>0.106501</td>\n",
       "      <td>...</td>\n",
       "      <td>-0.112509</td>\n",
       "      <td>-0.035377</td>\n",
       "      <td>-0.193942</td>\n",
       "      <td>-0.100504</td>\n",
       "      <td>-0.035377</td>\n",
       "      <td>-0.106668</td>\n",
       "      <td>-0.128524</td>\n",
       "      <td>-0.086929</td>\n",
       "      <td>-0.436436</td>\n",
       "      <td>-0.193942</td>\n",
       "    </tr>\n",
       "    <tr>\n",
       "      <th>559</th>\n",
       "      <td>-0.887291</td>\n",
       "      <td>1.908613</td>\n",
       "      <td>0.838090</td>\n",
       "      <td>0.898506</td>\n",
       "      <td>1.435244</td>\n",
       "      <td>-0.136706</td>\n",
       "      <td>-0.070011</td>\n",
       "      <td>-0.096845</td>\n",
       "      <td>-2.373495</td>\n",
       "      <td>0.919559</td>\n",
       "      <td>...</td>\n",
       "      <td>-0.112509</td>\n",
       "      <td>-0.035377</td>\n",
       "      <td>-0.193942</td>\n",
       "      <td>-0.100504</td>\n",
       "      <td>-0.035377</td>\n",
       "      <td>-0.106668</td>\n",
       "      <td>-0.128524</td>\n",
       "      <td>-0.086929</td>\n",
       "      <td>-0.436436</td>\n",
       "      <td>-0.193942</td>\n",
       "    </tr>\n",
       "    <tr>\n",
       "      <th>82</th>\n",
       "      <td>0.402922</td>\n",
       "      <td>-0.863240</td>\n",
       "      <td>-0.817181</td>\n",
       "      <td>-0.429906</td>\n",
       "      <td>1.279803</td>\n",
       "      <td>-0.130412</td>\n",
       "      <td>-0.060315</td>\n",
       "      <td>-0.094492</td>\n",
       "      <td>1.106088</td>\n",
       "      <td>-1.139980</td>\n",
       "      <td>...</td>\n",
       "      <td>-0.112509</td>\n",
       "      <td>-0.035377</td>\n",
       "      <td>-0.193942</td>\n",
       "      <td>-0.100504</td>\n",
       "      <td>-0.035377</td>\n",
       "      <td>-0.106668</td>\n",
       "      <td>-0.128524</td>\n",
       "      <td>11.503623</td>\n",
       "      <td>-0.436436</td>\n",
       "      <td>-0.193942</td>\n",
       "    </tr>\n",
       "    <tr>\n",
       "      <th>30</th>\n",
       "      <td>-0.834995</td>\n",
       "      <td>1.307212</td>\n",
       "      <td>0.435085</td>\n",
       "      <td>0.854268</td>\n",
       "      <td>0.392371</td>\n",
       "      <td>-0.299601</td>\n",
       "      <td>-0.015770</td>\n",
       "      <td>-0.104418</td>\n",
       "      <td>-0.635331</td>\n",
       "      <td>-0.451917</td>\n",
       "      <td>...</td>\n",
       "      <td>-0.112509</td>\n",
       "      <td>-0.035377</td>\n",
       "      <td>-0.193942</td>\n",
       "      <td>-0.100504</td>\n",
       "      <td>-0.035377</td>\n",
       "      <td>-0.106668</td>\n",
       "      <td>-0.128524</td>\n",
       "      <td>-0.086929</td>\n",
       "      <td>-0.436436</td>\n",
       "      <td>-0.193942</td>\n",
       "    </tr>\n",
       "  </tbody>\n",
       "</table>\n",
       "<p>5 rows × 86 columns</p>\n",
       "</div>"
      ],
      "text/plain": [
       "     DEPTH_MD     X_LOC     Y_LOC     Z_LOC      CALI      RSHA      RMED  \\\n",
       "474 -0.918688 -0.041809 -0.667222  0.929810 -0.227687 -0.143060 -0.080627   \n",
       "60   2.263313 -1.161074  0.278535 -2.322163 -1.233706 -0.139837 -0.023622   \n",
       "559 -0.887291  1.908613  0.838090  0.898506  1.435244 -0.136706 -0.070011   \n",
       "82   0.402922 -0.863240 -0.817181 -0.429906  1.279803 -0.130412 -0.060315   \n",
       "30  -0.834995  1.307212  0.435085  0.854268  0.392371 -0.299601 -0.015770   \n",
       "\n",
       "         RDEP      RHOB        GR  ...  FORMATION_Sognefjord Fm.  \\\n",
       "474 -0.103900 -0.849464 -0.421185  ...                 -0.112509   \n",
       "60  -0.084632  0.403152  0.106501  ...                 -0.112509   \n",
       "559 -0.096845 -2.373495  0.919559  ...                 -0.112509   \n",
       "82  -0.094492  1.106088 -1.139980  ...                 -0.112509   \n",
       "30  -0.104418 -0.635331 -0.451917  ...                 -0.112509   \n",
       "\n",
       "     FORMATION_Sola Fm.  FORMATION_Statfjord Fm.  FORMATION_Svarte Fm.  \\\n",
       "474           -0.035377                -0.193942             -0.100504   \n",
       "60            -0.035377                -0.193942             -0.100504   \n",
       "559           -0.035377                -0.193942             -0.100504   \n",
       "82            -0.035377                -0.193942             -0.100504   \n",
       "30            -0.035377                -0.193942             -0.100504   \n",
       "\n",
       "     FORMATION_Tarbert Fm.  FORMATION_Tor Fm.  FORMATION_Tryggvason Fm.  \\\n",
       "474              -0.035377          -0.106668                 -0.128524   \n",
       "60               -0.035377          -0.106668                 -0.128524   \n",
       "559              -0.035377          -0.106668                 -0.128524   \n",
       "82               -0.035377          -0.106668                 -0.128524   \n",
       "30               -0.035377          -0.106668                 -0.128524   \n",
       "\n",
       "     FORMATION_Ty Fm.  FORMATION_Utsira Fm.  FORMATION_Vaale Fm.  \n",
       "474         -0.086929             -0.436436            -0.193942  \n",
       "60          -0.086929             -0.436436            -0.193942  \n",
       "559         -0.086929             -0.436436            -0.193942  \n",
       "82          11.503623             -0.436436            -0.193942  \n",
       "30          -0.086929             -0.436436            -0.193942  \n",
       "\n",
       "[5 rows x 86 columns]"
      ]
     },
     "execution_count": 13,
     "metadata": {},
     "output_type": "execute_result"
    }
   ],
   "source": [
    "X_train.sample(5)"
   ]
  },
  {
   "cell_type": "code",
   "execution_count": 14,
   "metadata": {},
   "outputs": [
    {
     "data": {
      "text/html": [
       "<div>\n",
       "<style scoped>\n",
       "    .dataframe tbody tr th:only-of-type {\n",
       "        vertical-align: middle;\n",
       "    }\n",
       "\n",
       "    .dataframe tbody tr th {\n",
       "        vertical-align: top;\n",
       "    }\n",
       "\n",
       "    .dataframe thead th {\n",
       "        text-align: right;\n",
       "    }\n",
       "</style>\n",
       "<table border=\"1\" class=\"dataframe\">\n",
       "  <thead>\n",
       "    <tr style=\"text-align: right;\">\n",
       "      <th></th>\n",
       "      <th>DEPTH_MD</th>\n",
       "      <th>X_LOC</th>\n",
       "      <th>Y_LOC</th>\n",
       "      <th>Z_LOC</th>\n",
       "      <th>CALI</th>\n",
       "      <th>RSHA</th>\n",
       "      <th>RMED</th>\n",
       "      <th>RDEP</th>\n",
       "      <th>RHOB</th>\n",
       "      <th>GR</th>\n",
       "      <th>...</th>\n",
       "      <th>FORMATION_Sognefjord Fm.</th>\n",
       "      <th>FORMATION_Sola Fm.</th>\n",
       "      <th>FORMATION_Statfjord Fm.</th>\n",
       "      <th>FORMATION_Svarte Fm.</th>\n",
       "      <th>FORMATION_Tarbert Fm.</th>\n",
       "      <th>FORMATION_Tor Fm.</th>\n",
       "      <th>FORMATION_Tryggvason Fm.</th>\n",
       "      <th>FORMATION_Ty Fm.</th>\n",
       "      <th>FORMATION_Utsira Fm.</th>\n",
       "      <th>FORMATION_Vaale Fm.</th>\n",
       "    </tr>\n",
       "  </thead>\n",
       "  <tbody>\n",
       "    <tr>\n",
       "      <th>766</th>\n",
       "      <td>1.185425</td>\n",
       "      <td>1.484713</td>\n",
       "      <td>0.998784</td>\n",
       "      <td>-1.182545</td>\n",
       "      <td>-1.241097</td>\n",
       "      <td>-0.182779</td>\n",
       "      <td>0.089675</td>\n",
       "      <td>-0.028702</td>\n",
       "      <td>1.111293</td>\n",
       "      <td>1.472571</td>\n",
       "      <td>...</td>\n",
       "      <td>-0.112509</td>\n",
       "      <td>-0.035377</td>\n",
       "      <td>-0.193942</td>\n",
       "      <td>-0.100504</td>\n",
       "      <td>-0.035377</td>\n",
       "      <td>-0.106668</td>\n",
       "      <td>-0.128524</td>\n",
       "      <td>-0.086929</td>\n",
       "      <td>-0.436436</td>\n",
       "      <td>-0.193942</td>\n",
       "    </tr>\n",
       "    <tr>\n",
       "      <th>70</th>\n",
       "      <td>-1.019720</td>\n",
       "      <td>1.689811</td>\n",
       "      <td>0.347050</td>\n",
       "      <td>1.031611</td>\n",
       "      <td>0.571924</td>\n",
       "      <td>-0.642305</td>\n",
       "      <td>-0.072716</td>\n",
       "      <td>-0.100641</td>\n",
       "      <td>-0.512893</td>\n",
       "      <td>0.524643</td>\n",
       "      <td>...</td>\n",
       "      <td>-0.112509</td>\n",
       "      <td>-0.035377</td>\n",
       "      <td>-0.193942</td>\n",
       "      <td>-0.100504</td>\n",
       "      <td>-0.035377</td>\n",
       "      <td>-0.106668</td>\n",
       "      <td>-0.128524</td>\n",
       "      <td>-0.086929</td>\n",
       "      <td>-0.436436</td>\n",
       "      <td>-0.193942</td>\n",
       "    </tr>\n",
       "    <tr>\n",
       "      <th>551</th>\n",
       "      <td>1.974895</td>\n",
       "      <td>0.087695</td>\n",
       "      <td>1.374862</td>\n",
       "      <td>-1.883342</td>\n",
       "      <td>-1.217025</td>\n",
       "      <td>-0.121425</td>\n",
       "      <td>-0.011617</td>\n",
       "      <td>-0.070126</td>\n",
       "      <td>0.955734</td>\n",
       "      <td>0.234405</td>\n",
       "      <td>...</td>\n",
       "      <td>-0.112509</td>\n",
       "      <td>-0.035377</td>\n",
       "      <td>-0.193942</td>\n",
       "      <td>-0.100504</td>\n",
       "      <td>-0.035377</td>\n",
       "      <td>-0.106668</td>\n",
       "      <td>-0.128524</td>\n",
       "      <td>-0.086929</td>\n",
       "      <td>-0.436436</td>\n",
       "      <td>-0.193942</td>\n",
       "    </tr>\n",
       "    <tr>\n",
       "      <th>486</th>\n",
       "      <td>0.426475</td>\n",
       "      <td>-1.155560</td>\n",
       "      <td>0.278582</td>\n",
       "      <td>-0.454211</td>\n",
       "      <td>1.085945</td>\n",
       "      <td>-0.036707</td>\n",
       "      <td>-0.062172</td>\n",
       "      <td>-0.097454</td>\n",
       "      <td>0.364001</td>\n",
       "      <td>-0.925855</td>\n",
       "      <td>...</td>\n",
       "      <td>-0.112509</td>\n",
       "      <td>-0.035377</td>\n",
       "      <td>-0.193942</td>\n",
       "      <td>-0.100504</td>\n",
       "      <td>-0.035377</td>\n",
       "      <td>-0.106668</td>\n",
       "      <td>-0.128524</td>\n",
       "      <td>-0.086929</td>\n",
       "      <td>-0.436436</td>\n",
       "      <td>-0.193942</td>\n",
       "    </tr>\n",
       "    <tr>\n",
       "      <th>753</th>\n",
       "      <td>0.624091</td>\n",
       "      <td>-1.049113</td>\n",
       "      <td>1.063317</td>\n",
       "      <td>-0.656633</td>\n",
       "      <td>-0.221100</td>\n",
       "      <td>-0.095275</td>\n",
       "      <td>-0.054571</td>\n",
       "      <td>-0.093704</td>\n",
       "      <td>0.923893</td>\n",
       "      <td>1.968516</td>\n",
       "      <td>...</td>\n",
       "      <td>-0.112509</td>\n",
       "      <td>-0.035377</td>\n",
       "      <td>-0.193942</td>\n",
       "      <td>-0.100504</td>\n",
       "      <td>-0.035377</td>\n",
       "      <td>-0.106668</td>\n",
       "      <td>-0.128524</td>\n",
       "      <td>-0.086929</td>\n",
       "      <td>-0.436436</td>\n",
       "      <td>-0.193942</td>\n",
       "    </tr>\n",
       "  </tbody>\n",
       "</table>\n",
       "<p>5 rows × 86 columns</p>\n",
       "</div>"
      ],
      "text/plain": [
       "     DEPTH_MD     X_LOC     Y_LOC     Z_LOC      CALI      RSHA      RMED  \\\n",
       "766  1.185425  1.484713  0.998784 -1.182545 -1.241097 -0.182779  0.089675   \n",
       "70  -1.019720  1.689811  0.347050  1.031611  0.571924 -0.642305 -0.072716   \n",
       "551  1.974895  0.087695  1.374862 -1.883342 -1.217025 -0.121425 -0.011617   \n",
       "486  0.426475 -1.155560  0.278582 -0.454211  1.085945 -0.036707 -0.062172   \n",
       "753  0.624091 -1.049113  1.063317 -0.656633 -0.221100 -0.095275 -0.054571   \n",
       "\n",
       "         RDEP      RHOB        GR  ...  FORMATION_Sognefjord Fm.  \\\n",
       "766 -0.028702  1.111293  1.472571  ...                 -0.112509   \n",
       "70  -0.100641 -0.512893  0.524643  ...                 -0.112509   \n",
       "551 -0.070126  0.955734  0.234405  ...                 -0.112509   \n",
       "486 -0.097454  0.364001 -0.925855  ...                 -0.112509   \n",
       "753 -0.093704  0.923893  1.968516  ...                 -0.112509   \n",
       "\n",
       "     FORMATION_Sola Fm.  FORMATION_Statfjord Fm.  FORMATION_Svarte Fm.  \\\n",
       "766           -0.035377                -0.193942             -0.100504   \n",
       "70            -0.035377                -0.193942             -0.100504   \n",
       "551           -0.035377                -0.193942             -0.100504   \n",
       "486           -0.035377                -0.193942             -0.100504   \n",
       "753           -0.035377                -0.193942             -0.100504   \n",
       "\n",
       "     FORMATION_Tarbert Fm.  FORMATION_Tor Fm.  FORMATION_Tryggvason Fm.  \\\n",
       "766              -0.035377          -0.106668                 -0.128524   \n",
       "70               -0.035377          -0.106668                 -0.128524   \n",
       "551              -0.035377          -0.106668                 -0.128524   \n",
       "486              -0.035377          -0.106668                 -0.128524   \n",
       "753              -0.035377          -0.106668                 -0.128524   \n",
       "\n",
       "     FORMATION_Ty Fm.  FORMATION_Utsira Fm.  FORMATION_Vaale Fm.  \n",
       "766         -0.086929             -0.436436            -0.193942  \n",
       "70          -0.086929             -0.436436            -0.193942  \n",
       "551         -0.086929             -0.436436            -0.193942  \n",
       "486         -0.086929             -0.436436            -0.193942  \n",
       "753         -0.086929             -0.436436            -0.193942  \n",
       "\n",
       "[5 rows x 86 columns]"
      ]
     },
     "execution_count": 14,
     "metadata": {},
     "output_type": "execute_result"
    }
   ],
   "source": [
    "X_train_minmax.sample(5)"
   ]
  },
  {
   "cell_type": "markdown",
   "metadata": {},
   "source": [
    "# (Class imbalance?)"
   ]
  },
  {
   "cell_type": "markdown",
   "metadata": {},
   "source": [
    "# Feature Selection"
   ]
  },
  {
   "cell_type": "markdown",
   "metadata": {},
   "source": [
    "## Variance Threshold"
   ]
  },
  {
   "cell_type": "code",
   "execution_count": 15,
   "metadata": {},
   "outputs": [],
   "source": [
    "from sklearn.feature_selection import VarianceThreshold\n",
    "cols = df.drop(['FORCE_2020_LITHOFACIES_LITHOLOGY', 'FORCE_2020_LITHOFACIES_CONFIDENCE', 'WELL'], axis=1).columns\n",
    "def variance_threshold_selector(X_train, threshold):\n",
    "    selector = VarianceThreshold(threshold)\n",
    "    selector.fit(X_train)\n",
    "    col_names = cols\n",
    "    col_bools = selector.get_support()\n",
    "    relevant_cols = [col_name for col_name, col_bool in zip(col_names, col_bools) if col_bool == True]\n",
    "    irrelevant_cols = [col_name for col_name, col_bool in zip(col_names, col_bools) if col_bool == False]\n",
    "    df_selected = df[relevant_cols]\n",
    "    df_removed = df[irrelevant_cols]\n",
    "    return (df_selected, df_removed)\n",
    "df_selected, df_removed = variance_threshold_selector(X_train_minmax, 0.01) # Change here \n",
    "# 0.0 to remove constant features, 0.01 to remove quasi-contant features"
   ]
  },
  {
   "cell_type": "code",
   "execution_count": 16,
   "metadata": {},
   "outputs": [],
   "source": [
    "selected_features_var = list(df_selected.columns)\n",
    "removed_features_var = list(df_removed.columns)"
   ]
  },
  {
   "cell_type": "code",
   "execution_count": 17,
   "metadata": {
    "scrolled": true
   },
   "outputs": [
    {
     "name": "stdout",
     "output_type": "stream",
     "text": [
      "[]\n"
     ]
    }
   ],
   "source": [
    "print(removed_features_var)"
   ]
  },
  {
   "cell_type": "markdown",
   "metadata": {},
   "source": [
    "## Chi-Square Test"
   ]
  },
  {
   "cell_type": "code",
   "execution_count": 18,
   "metadata": {},
   "outputs": [],
   "source": [
    "from sklearn.feature_selection import chi2\n",
    "X_train_chi = X_train_init.drop(['DEPTH_MD', 'X_LOC', 'Y_LOC', 'Z_LOC', 'CALI', 'RSHA', 'RMED', 'RDEP', \n",
    "                                 'RHOB', 'GR', 'SGR', 'NPHI', 'PEF', 'DTC', 'SP', 'BS', 'ROP', 'DTS', 'DCAL', \n",
    "                                 'DRHO', 'MUDWEIGHT', 'RMIC', 'ROPA', 'RXO'], axis=1)\n",
    "chi_scores = chi2(X_train_chi, y_train)"
   ]
  },
  {
   "cell_type": "code",
   "execution_count": 19,
   "metadata": {},
   "outputs": [
    {
     "data": {
      "text/html": [
       "<div>\n",
       "<style scoped>\n",
       "    .dataframe tbody tr th:only-of-type {\n",
       "        vertical-align: middle;\n",
       "    }\n",
       "\n",
       "    .dataframe tbody tr th {\n",
       "        vertical-align: top;\n",
       "    }\n",
       "\n",
       "    .dataframe thead th {\n",
       "        text-align: right;\n",
       "    }\n",
       "</style>\n",
       "<table border=\"1\" class=\"dataframe\">\n",
       "  <thead>\n",
       "    <tr style=\"text-align: right;\">\n",
       "      <th></th>\n",
       "      <th>GROUP_BOKNFJORD GP.</th>\n",
       "      <th>GROUP_CROMER KNOLL GP.</th>\n",
       "      <th>GROUP_DUNLIN GP.</th>\n",
       "      <th>GROUP_HEGRE GP.</th>\n",
       "      <th>GROUP_HORDALAND GP.</th>\n",
       "      <th>GROUP_NORDLAND GP.</th>\n",
       "      <th>GROUP_ROGALAND GP.</th>\n",
       "      <th>GROUP_ROTLIEGENDES GP.</th>\n",
       "      <th>GROUP_SHETLAND GP.</th>\n",
       "      <th>GROUP_VESTLAND GP.</th>\n",
       "      <th>...</th>\n",
       "      <th>FORMATION_Sognefjord Fm.</th>\n",
       "      <th>FORMATION_Sola Fm.</th>\n",
       "      <th>FORMATION_Statfjord Fm.</th>\n",
       "      <th>FORMATION_Svarte Fm.</th>\n",
       "      <th>FORMATION_Tarbert Fm.</th>\n",
       "      <th>FORMATION_Tor Fm.</th>\n",
       "      <th>FORMATION_Tryggvason Fm.</th>\n",
       "      <th>FORMATION_Ty Fm.</th>\n",
       "      <th>FORMATION_Utsira Fm.</th>\n",
       "      <th>FORMATION_Vaale Fm.</th>\n",
       "    </tr>\n",
       "  </thead>\n",
       "  <tbody>\n",
       "    <tr>\n",
       "      <th>662367</th>\n",
       "      <td>0</td>\n",
       "      <td>0</td>\n",
       "      <td>0</td>\n",
       "      <td>1</td>\n",
       "      <td>0</td>\n",
       "      <td>0</td>\n",
       "      <td>0</td>\n",
       "      <td>0</td>\n",
       "      <td>0</td>\n",
       "      <td>0</td>\n",
       "      <td>...</td>\n",
       "      <td>0</td>\n",
       "      <td>0</td>\n",
       "      <td>1</td>\n",
       "      <td>0</td>\n",
       "      <td>0</td>\n",
       "      <td>0</td>\n",
       "      <td>0</td>\n",
       "      <td>0</td>\n",
       "      <td>0</td>\n",
       "      <td>0</td>\n",
       "    </tr>\n",
       "    <tr>\n",
       "      <th>435285</th>\n",
       "      <td>0</td>\n",
       "      <td>0</td>\n",
       "      <td>0</td>\n",
       "      <td>0</td>\n",
       "      <td>0</td>\n",
       "      <td>1</td>\n",
       "      <td>0</td>\n",
       "      <td>0</td>\n",
       "      <td>0</td>\n",
       "      <td>0</td>\n",
       "      <td>...</td>\n",
       "      <td>0</td>\n",
       "      <td>0</td>\n",
       "      <td>0</td>\n",
       "      <td>0</td>\n",
       "      <td>0</td>\n",
       "      <td>0</td>\n",
       "      <td>0</td>\n",
       "      <td>0</td>\n",
       "      <td>0</td>\n",
       "      <td>0</td>\n",
       "    </tr>\n",
       "    <tr>\n",
       "      <th>248856</th>\n",
       "      <td>0</td>\n",
       "      <td>0</td>\n",
       "      <td>0</td>\n",
       "      <td>0</td>\n",
       "      <td>1</td>\n",
       "      <td>0</td>\n",
       "      <td>0</td>\n",
       "      <td>0</td>\n",
       "      <td>0</td>\n",
       "      <td>0</td>\n",
       "      <td>...</td>\n",
       "      <td>0</td>\n",
       "      <td>0</td>\n",
       "      <td>0</td>\n",
       "      <td>0</td>\n",
       "      <td>0</td>\n",
       "      <td>0</td>\n",
       "      <td>0</td>\n",
       "      <td>0</td>\n",
       "      <td>0</td>\n",
       "      <td>0</td>\n",
       "    </tr>\n",
       "    <tr>\n",
       "      <th>1166688</th>\n",
       "      <td>0</td>\n",
       "      <td>0</td>\n",
       "      <td>0</td>\n",
       "      <td>0</td>\n",
       "      <td>0</td>\n",
       "      <td>0</td>\n",
       "      <td>0</td>\n",
       "      <td>0</td>\n",
       "      <td>1</td>\n",
       "      <td>0</td>\n",
       "      <td>...</td>\n",
       "      <td>0</td>\n",
       "      <td>0</td>\n",
       "      <td>0</td>\n",
       "      <td>0</td>\n",
       "      <td>0</td>\n",
       "      <td>0</td>\n",
       "      <td>0</td>\n",
       "      <td>0</td>\n",
       "      <td>0</td>\n",
       "      <td>0</td>\n",
       "    </tr>\n",
       "    <tr>\n",
       "      <th>704934</th>\n",
       "      <td>0</td>\n",
       "      <td>0</td>\n",
       "      <td>0</td>\n",
       "      <td>0</td>\n",
       "      <td>0</td>\n",
       "      <td>0</td>\n",
       "      <td>0</td>\n",
       "      <td>0</td>\n",
       "      <td>1</td>\n",
       "      <td>0</td>\n",
       "      <td>...</td>\n",
       "      <td>0</td>\n",
       "      <td>0</td>\n",
       "      <td>0</td>\n",
       "      <td>0</td>\n",
       "      <td>0</td>\n",
       "      <td>0</td>\n",
       "      <td>0</td>\n",
       "      <td>0</td>\n",
       "      <td>0</td>\n",
       "      <td>0</td>\n",
       "    </tr>\n",
       "    <tr>\n",
       "      <th>...</th>\n",
       "      <td>...</td>\n",
       "      <td>...</td>\n",
       "      <td>...</td>\n",
       "      <td>...</td>\n",
       "      <td>...</td>\n",
       "      <td>...</td>\n",
       "      <td>...</td>\n",
       "      <td>...</td>\n",
       "      <td>...</td>\n",
       "      <td>...</td>\n",
       "      <td>...</td>\n",
       "      <td>...</td>\n",
       "      <td>...</td>\n",
       "      <td>...</td>\n",
       "      <td>...</td>\n",
       "      <td>...</td>\n",
       "      <td>...</td>\n",
       "      <td>...</td>\n",
       "      <td>...</td>\n",
       "      <td>...</td>\n",
       "      <td>...</td>\n",
       "    </tr>\n",
       "    <tr>\n",
       "      <th>1042150</th>\n",
       "      <td>0</td>\n",
       "      <td>0</td>\n",
       "      <td>0</td>\n",
       "      <td>0</td>\n",
       "      <td>0</td>\n",
       "      <td>0</td>\n",
       "      <td>0</td>\n",
       "      <td>0</td>\n",
       "      <td>0</td>\n",
       "      <td>0</td>\n",
       "      <td>...</td>\n",
       "      <td>0</td>\n",
       "      <td>0</td>\n",
       "      <td>0</td>\n",
       "      <td>0</td>\n",
       "      <td>0</td>\n",
       "      <td>0</td>\n",
       "      <td>0</td>\n",
       "      <td>0</td>\n",
       "      <td>0</td>\n",
       "      <td>0</td>\n",
       "    </tr>\n",
       "    <tr>\n",
       "      <th>541786</th>\n",
       "      <td>0</td>\n",
       "      <td>0</td>\n",
       "      <td>0</td>\n",
       "      <td>0</td>\n",
       "      <td>0</td>\n",
       "      <td>0</td>\n",
       "      <td>0</td>\n",
       "      <td>0</td>\n",
       "      <td>0</td>\n",
       "      <td>0</td>\n",
       "      <td>...</td>\n",
       "      <td>1</td>\n",
       "      <td>0</td>\n",
       "      <td>0</td>\n",
       "      <td>0</td>\n",
       "      <td>0</td>\n",
       "      <td>0</td>\n",
       "      <td>0</td>\n",
       "      <td>0</td>\n",
       "      <td>0</td>\n",
       "      <td>0</td>\n",
       "    </tr>\n",
       "    <tr>\n",
       "      <th>111053</th>\n",
       "      <td>0</td>\n",
       "      <td>0</td>\n",
       "      <td>0</td>\n",
       "      <td>0</td>\n",
       "      <td>0</td>\n",
       "      <td>0</td>\n",
       "      <td>0</td>\n",
       "      <td>0</td>\n",
       "      <td>0</td>\n",
       "      <td>0</td>\n",
       "      <td>...</td>\n",
       "      <td>0</td>\n",
       "      <td>0</td>\n",
       "      <td>0</td>\n",
       "      <td>0</td>\n",
       "      <td>0</td>\n",
       "      <td>0</td>\n",
       "      <td>0</td>\n",
       "      <td>0</td>\n",
       "      <td>0</td>\n",
       "      <td>0</td>\n",
       "    </tr>\n",
       "    <tr>\n",
       "      <th>805124</th>\n",
       "      <td>0</td>\n",
       "      <td>0</td>\n",
       "      <td>0</td>\n",
       "      <td>0</td>\n",
       "      <td>0</td>\n",
       "      <td>0</td>\n",
       "      <td>0</td>\n",
       "      <td>0</td>\n",
       "      <td>1</td>\n",
       "      <td>0</td>\n",
       "      <td>...</td>\n",
       "      <td>0</td>\n",
       "      <td>0</td>\n",
       "      <td>0</td>\n",
       "      <td>0</td>\n",
       "      <td>0</td>\n",
       "      <td>0</td>\n",
       "      <td>0</td>\n",
       "      <td>0</td>\n",
       "      <td>0</td>\n",
       "      <td>1</td>\n",
       "    </tr>\n",
       "    <tr>\n",
       "      <th>573274</th>\n",
       "      <td>0</td>\n",
       "      <td>0</td>\n",
       "      <td>0</td>\n",
       "      <td>0</td>\n",
       "      <td>0</td>\n",
       "      <td>1</td>\n",
       "      <td>0</td>\n",
       "      <td>0</td>\n",
       "      <td>0</td>\n",
       "      <td>0</td>\n",
       "      <td>...</td>\n",
       "      <td>0</td>\n",
       "      <td>0</td>\n",
       "      <td>0</td>\n",
       "      <td>0</td>\n",
       "      <td>0</td>\n",
       "      <td>0</td>\n",
       "      <td>0</td>\n",
       "      <td>0</td>\n",
       "      <td>0</td>\n",
       "      <td>0</td>\n",
       "    </tr>\n",
       "  </tbody>\n",
       "</table>\n",
       "<p>800 rows × 62 columns</p>\n",
       "</div>"
      ],
      "text/plain": [
       "         GROUP_BOKNFJORD GP.  GROUP_CROMER KNOLL GP.  GROUP_DUNLIN GP.  \\\n",
       "662367                     0                       0                 0   \n",
       "435285                     0                       0                 0   \n",
       "248856                     0                       0                 0   \n",
       "1166688                    0                       0                 0   \n",
       "704934                     0                       0                 0   \n",
       "...                      ...                     ...               ...   \n",
       "1042150                    0                       0                 0   \n",
       "541786                     0                       0                 0   \n",
       "111053                     0                       0                 0   \n",
       "805124                     0                       0                 0   \n",
       "573274                     0                       0                 0   \n",
       "\n",
       "         GROUP_HEGRE GP.  GROUP_HORDALAND GP.  GROUP_NORDLAND GP.  \\\n",
       "662367                 1                    0                   0   \n",
       "435285                 0                    0                   1   \n",
       "248856                 0                    1                   0   \n",
       "1166688                0                    0                   0   \n",
       "704934                 0                    0                   0   \n",
       "...                  ...                  ...                 ...   \n",
       "1042150                0                    0                   0   \n",
       "541786                 0                    0                   0   \n",
       "111053                 0                    0                   0   \n",
       "805124                 0                    0                   0   \n",
       "573274                 0                    0                   1   \n",
       "\n",
       "         GROUP_ROGALAND GP.  GROUP_ROTLIEGENDES GP.  GROUP_SHETLAND GP.  \\\n",
       "662367                    0                       0                   0   \n",
       "435285                    0                       0                   0   \n",
       "248856                    0                       0                   0   \n",
       "1166688                   0                       0                   1   \n",
       "704934                    0                       0                   1   \n",
       "...                     ...                     ...                 ...   \n",
       "1042150                   0                       0                   0   \n",
       "541786                    0                       0                   0   \n",
       "111053                    0                       0                   0   \n",
       "805124                    0                       0                   1   \n",
       "573274                    0                       0                   0   \n",
       "\n",
       "         GROUP_VESTLAND GP.  ...  FORMATION_Sognefjord Fm.  \\\n",
       "662367                    0  ...                         0   \n",
       "435285                    0  ...                         0   \n",
       "248856                    0  ...                         0   \n",
       "1166688                   0  ...                         0   \n",
       "704934                    0  ...                         0   \n",
       "...                     ...  ...                       ...   \n",
       "1042150                   0  ...                         0   \n",
       "541786                    0  ...                         1   \n",
       "111053                    0  ...                         0   \n",
       "805124                    0  ...                         0   \n",
       "573274                    0  ...                         0   \n",
       "\n",
       "         FORMATION_Sola Fm.  FORMATION_Statfjord Fm.  FORMATION_Svarte Fm.  \\\n",
       "662367                    0                        1                     0   \n",
       "435285                    0                        0                     0   \n",
       "248856                    0                        0                     0   \n",
       "1166688                   0                        0                     0   \n",
       "704934                    0                        0                     0   \n",
       "...                     ...                      ...                   ...   \n",
       "1042150                   0                        0                     0   \n",
       "541786                    0                        0                     0   \n",
       "111053                    0                        0                     0   \n",
       "805124                    0                        0                     0   \n",
       "573274                    0                        0                     0   \n",
       "\n",
       "         FORMATION_Tarbert Fm.  FORMATION_Tor Fm.  FORMATION_Tryggvason Fm.  \\\n",
       "662367                       0                  0                         0   \n",
       "435285                       0                  0                         0   \n",
       "248856                       0                  0                         0   \n",
       "1166688                      0                  0                         0   \n",
       "704934                       0                  0                         0   \n",
       "...                        ...                ...                       ...   \n",
       "1042150                      0                  0                         0   \n",
       "541786                       0                  0                         0   \n",
       "111053                       0                  0                         0   \n",
       "805124                       0                  0                         0   \n",
       "573274                       0                  0                         0   \n",
       "\n",
       "         FORMATION_Ty Fm.  FORMATION_Utsira Fm.  FORMATION_Vaale Fm.  \n",
       "662367                  0                     0                    0  \n",
       "435285                  0                     0                    0  \n",
       "248856                  0                     0                    0  \n",
       "1166688                 0                     0                    0  \n",
       "704934                  0                     0                    0  \n",
       "...                   ...                   ...                  ...  \n",
       "1042150                 0                     0                    0  \n",
       "541786                  0                     0                    0  \n",
       "111053                  0                     0                    0  \n",
       "805124                  0                     0                    1  \n",
       "573274                  0                     0                    0  \n",
       "\n",
       "[800 rows x 62 columns]"
      ]
     },
     "execution_count": 19,
     "metadata": {},
     "output_type": "execute_result"
    }
   ],
   "source": [
    "X_train_chi"
   ]
  },
  {
   "cell_type": "code",
   "execution_count": 20,
   "metadata": {},
   "outputs": [
    {
     "data": {
      "text/html": [
       "<div>\n",
       "<style scoped>\n",
       "    .dataframe tbody tr th:only-of-type {\n",
       "        vertical-align: middle;\n",
       "    }\n",
       "\n",
       "    .dataframe tbody tr th {\n",
       "        vertical-align: top;\n",
       "    }\n",
       "\n",
       "    .dataframe thead th {\n",
       "        text-align: right;\n",
       "    }\n",
       "</style>\n",
       "<table border=\"1\" class=\"dataframe\">\n",
       "  <thead>\n",
       "    <tr style=\"text-align: right;\">\n",
       "      <th></th>\n",
       "      <th>p-value</th>\n",
       "    </tr>\n",
       "  </thead>\n",
       "  <tbody>\n",
       "    <tr>\n",
       "      <th>FORMATION_Mime Fm.</th>\n",
       "      <td>9.998816e-01</td>\n",
       "    </tr>\n",
       "    <tr>\n",
       "      <th>FORMATION_Tarbert Fm.</th>\n",
       "      <td>9.998816e-01</td>\n",
       "    </tr>\n",
       "    <tr>\n",
       "      <th>FORMATION_Sola Fm.</th>\n",
       "      <td>9.998816e-01</td>\n",
       "    </tr>\n",
       "    <tr>\n",
       "      <th>FORMATION_Skade Mb.</th>\n",
       "      <td>9.979691e-01</td>\n",
       "    </tr>\n",
       "    <tr>\n",
       "      <th>FORMATION_Lunde Fm.</th>\n",
       "      <td>9.959579e-01</td>\n",
       "    </tr>\n",
       "    <tr>\n",
       "      <th>...</th>\n",
       "      <td>...</td>\n",
       "    </tr>\n",
       "    <tr>\n",
       "      <th>FORMATION_Tor Fm.</th>\n",
       "      <td>4.862713e-25</td>\n",
       "    </tr>\n",
       "    <tr>\n",
       "      <th>FORMATION_Smith Bank Fm.</th>\n",
       "      <td>4.419562e-40</td>\n",
       "    </tr>\n",
       "    <tr>\n",
       "      <th>FORMATION_Balder Fm.</th>\n",
       "      <td>2.161234e-73</td>\n",
       "    </tr>\n",
       "    <tr>\n",
       "      <th>GROUP_ZECHSTEIN GP.</th>\n",
       "      <td>1.163884e-100</td>\n",
       "    </tr>\n",
       "    <tr>\n",
       "      <th>FORMATION_Hod Fm.</th>\n",
       "      <td>4.268038e-104</td>\n",
       "    </tr>\n",
       "  </tbody>\n",
       "</table>\n",
       "<p>62 rows × 1 columns</p>\n",
       "</div>"
      ],
      "text/plain": [
       "                                p-value\n",
       "FORMATION_Mime Fm.         9.998816e-01\n",
       "FORMATION_Tarbert Fm.      9.998816e-01\n",
       "FORMATION_Sola Fm.         9.998816e-01\n",
       "FORMATION_Skade Mb.        9.979691e-01\n",
       "FORMATION_Lunde Fm.        9.959579e-01\n",
       "...                                 ...\n",
       "FORMATION_Tor Fm.          4.862713e-25\n",
       "FORMATION_Smith Bank Fm.   4.419562e-40\n",
       "FORMATION_Balder Fm.       2.161234e-73\n",
       "GROUP_ZECHSTEIN GP.       1.163884e-100\n",
       "FORMATION_Hod Fm.         4.268038e-104\n",
       "\n",
       "[62 rows x 1 columns]"
      ]
     },
     "execution_count": 20,
     "metadata": {},
     "output_type": "execute_result"
    },
    {
     "data": {
      "image/png": "[encoded data removed]",
      "text/plain": [
       "<Figure size 432x288 with 1 Axes>"
      ]
     },
     "metadata": {
      "needs_background": "light"
     },
     "output_type": "display_data"
    }
   ],
   "source": [
    "df_p_values = pd.DataFrame({'p-value': chi_scores[1]})\n",
    "df_p_values.index = df.drop(['FORCE_2020_LITHOFACIES_LITHOLOGY', 'FORCE_2020_LITHOFACIES_CONFIDENCE', 'WELL', \n",
    "                             'DEPTH_MD', 'X_LOC', 'Y_LOC', 'Z_LOC', 'CALI', 'RSHA', 'RMED', 'RDEP', \n",
    "                             'RHOB', 'GR', 'SGR', 'NPHI', 'PEF', 'DTC', 'SP', 'BS', 'ROP', 'DTS', 'DCAL', \n",
    "                             'DRHO', 'MUDWEIGHT', 'RMIC', 'ROPA', 'RXO'], axis=1).columns\n",
    "df_p_values.sort_values(by='p-value', ascending=False , inplace=True)\n",
    "df_p_values.plot.bar()\n",
    "df_p_values"
   ]
  },
  {
   "cell_type": "code",
   "execution_count": 21,
   "metadata": {},
   "outputs": [],
   "source": [
    "alpha = 0.05 # Change here\n",
    "selected_features_chi = list(df_p_values[df_p_values['p-value'] <= alpha].index)\n",
    "removed_features_chi = list(df_p_values[df_p_values['p-value'] > alpha].index)"
   ]
  },
  {
   "cell_type": "code",
   "execution_count": 22,
   "metadata": {},
   "outputs": [
    {
     "name": "stdout",
     "output_type": "stream",
     "text": [
      "['FORMATION_Mime Fm.', 'FORMATION_Tarbert Fm.', 'FORMATION_Sola Fm.', 'FORMATION_Skade Mb.', 'FORMATION_Lunde Fm.', 'FORMATION_Grid Mb.', 'FORMATION_Etive Fm.', 'FORMATION_Agat Fm.', 'GROUP_BOKNFJORD GP.', 'FORMATION_Intra Draupne Fm. Sst.', 'FORMATION_Amundsen Fm.', 'FORMATION_Burton Fm.', 'FORMATION_Skade Fm.', 'FORMATION_Sele Fm.', 'FORMATION_Krossfjord Fm.', 'FORMATION_Draupne Fm.', 'FORMATION_Eiriksson Mb.', 'GROUP_HEGRE GP.', 'FORMATION_Jorsalfare Fm.', 'FORMATION_Frigg Fm.', 'FORMATION_Kupferschiefer Fm.', 'GROUP_ROTLIEGENDES GP.', 'FORMATION_Drake Fm.', 'FORMATION_Tryggvason Fm.', 'FORMATION_Skagerrak Fm.', 'FORMATION_Intra Heather Fm. Sst.', 'FORMATION_Lista Fm.', 'FORMATION_Oseberg Fm.', 'FORMATION_Rannoch Fm.', 'FORMATION_Sleipner Fm.', 'FORMATION_Ty Fm.', 'FORMATION_Grid Fm.', 'FORMATION_Svarte Fm.', 'FORMATION_Utsira Fm.', 'FORMATION_Hugin Fm.', 'GROUP_DUNLIN GP.', 'FORMATION_Statfjord Fm.', 'FORMATION_Cook Fm.', 'FORMATION_Johansen Fm.']\n"
     ]
    }
   ],
   "source": [
    "print(removed_features_chi)"
   ]
  },
  {
   "cell_type": "markdown",
   "metadata": {},
   "source": [
    "## Correlation Threshold"
   ]
  },
  {
   "cell_type": "code",
   "execution_count": 23,
   "metadata": {},
   "outputs": [
    {
     "name": "stderr",
     "output_type": "stream",
     "text": [
      "2021-04-21 19:39:30,226 [INFO]  NumExpr defaulting to 4 threads.\n"
     ]
    },
    {
     "data": {
      "text/plain": [
       "<AxesSubplot:>"
      ]
     },
     "execution_count": 23,
     "metadata": {},
     "output_type": "execute_result"
    },
    {
     "data": {
      "image/png": "[encoded data removed]",
      "text/plain": [
       "<Figure size 864x720 with 2 Axes>"
      ]
     },
     "metadata": {
      "needs_background": "light"
     },
     "output_type": "display_data"
    }
   ],
   "source": [
    "plt.figure(figsize=(12, 10))\n",
    "cor = df.corr()\n",
    "sns.heatmap(cor, annot=False, cmap='Reds')"
   ]
  },
  {
   "cell_type": "code",
   "execution_count": 24,
   "metadata": {},
   "outputs": [],
   "source": [
    "cor_y = abs(cor['FORCE_2020_LITHOFACIES_LITHOLOGY'])\n",
    "selected_features_cor = cor_y[cor_y > 0.15] # Change here\n",
    "df_selected = df[selected_features_cor.index]"
   ]
  },
  {
   "cell_type": "code",
   "execution_count": 25,
   "metadata": {},
   "outputs": [
    {
     "data": {
      "text/plain": [
       "<AxesSubplot:>"
      ]
     },
     "execution_count": 25,
     "metadata": {},
     "output_type": "execute_result"
    },
    {
     "data": {
      "image/png": "[encoded data removed]",
      "text/plain": [
       "<Figure size 576x432 with 2 Axes>"
      ]
     },
     "metadata": {
      "needs_background": "light"
     },
     "output_type": "display_data"
    }
   ],
   "source": [
    "plt.figure(figsize=(8, 6))\n",
    "cor = df_selected.corr()\n",
    "sns.heatmap(cor, annot=True, cmap='Reds')"
   ]
  },
  {
   "cell_type": "code",
   "execution_count": 26,
   "metadata": {},
   "outputs": [],
   "source": [
    "selected_features_cor = list(df_selected.columns)\n",
    "removed_features_cor = list(set(df.drop('FORCE_2020_LITHOFACIES_LITHOLOGY', axis=1).columns) - set(selected_features_cor))"
   ]
  },
  {
   "cell_type": "code",
   "execution_count": 27,
   "metadata": {},
   "outputs": [
    {
     "name": "stdout",
     "output_type": "stream",
     "text": [
      "['FORMATION_Krossfjord Fm.', 'GROUP_DUNLIN GP.', 'FORMATION_Ekofisk Fm.', 'FORMATION_Sleipner Fm.', 'FORMATION_Drake Fm.', 'GROUP_BOKNFJORD GP.', 'DRHO', 'FORMATION_Ty Fm.', 'FORMATION_Hugin Fm.', 'WELL', 'FORMATION_Frigg Fm.', 'FORMATION_Blodoeks Fm.', 'FORMATION_Burton Fm.', 'X_LOC', 'FORMATION_Fensfjord Fm.', 'FORMATION_Vaale Fm.', 'FORMATION_Cook Fm.', 'FORMATION_Sele Fm.', 'FORMATION_Statfjord Fm.', 'FORMATION_Sola Fm.', 'FORMATION_Skagerrak Fm.', 'FORMATION_Agat Fm.', 'BS', 'FORMATION_Sognefjord Fm.', 'FORMATION_Smith Bank Fm.', 'DTS', 'FORMATION_Ness Fm.', 'FORMATION_Grid Mb.', 'FORMATION_Hod Fm.', 'PEF', 'ROPA', 'FORMATION_Oseberg Fm.', 'FORMATION_Eiriksson Mb.', 'FORMATION_Roedby Fm.', 'FORMATION_Svarte Fm.', 'FORMATION_Lista Fm.', 'RHOB', 'FORMATION_Jorsalfare Fm.', 'RMIC', 'GROUP_CROMER KNOLL GP.', 'FORMATION_Tor Fm.', 'GROUP_HORDALAND GP.', 'RSHA', 'FORMATION_Intra Draupne Fm. Sst.', 'RXO', 'FORMATION_Intra Heather Fm. Sst.', 'GROUP_ROTLIEGENDES GP.', 'GROUP_ZECHSTEIN GP.', 'FORMATION_Hardraade Fm.', 'RMED', 'DEPTH_MD', 'FORMATION_Lunde Fm.', 'Y_LOC', 'ROP', 'GROUP_HEGRE GP.', 'FORMATION_Utsira Fm.', 'FORMATION_Tarbert Fm.', 'FORMATION_Amundsen Fm.', 'FORMATION_Skade Fm.', 'MUDWEIGHT', 'FORMATION_Rannoch Fm.', 'FORMATION_Tryggvason Fm.', 'Z_LOC', 'FORMATION_Skade Mb.', 'RDEP', 'FORMATION_Kyrre Fm.', 'FORMATION_Kupferschiefer Fm.', 'FORMATION_Mime Fm.', 'DTC', 'CALI', 'FORMATION_Grid Fm.', 'GROUP_ROGALAND GP.', 'GROUP_VIKING GP.', 'FORMATION_Etive Fm.', 'FORMATION_Heather Fm.', 'FORMATION_Draupne Fm.', 'SP']\n"
     ]
    }
   ],
   "source": [
    "print(removed_features_cor)"
   ]
  },
  {
   "cell_type": "markdown",
   "metadata": {},
   "source": [
    "## Backward Elimination"
   ]
  },
  {
   "cell_type": "code",
   "execution_count": 28,
   "metadata": {},
   "outputs": [
    {
     "name": "stderr",
     "output_type": "stream",
     "text": [
      "C:\\Users\\mathe\\anaconda3\\lib\\site-packages\\numpy\\core\\fromnumeric.py:2580: FutureWarning: Method .ptp is deprecated and will be removed in a future version. Use numpy.ptp instead.\n",
      "  return ptp(axis=axis, out=out, **kwargs)\n",
      "C:\\Users\\mathe\\anaconda3\\lib\\site-packages\\numpy\\core\\fromnumeric.py:2580: FutureWarning: Method .ptp is deprecated and will be removed in a future version. Use numpy.ptp instead.\n",
      "  return ptp(axis=axis, out=out, **kwargs)\n",
      "C:\\Users\\mathe\\anaconda3\\lib\\site-packages\\numpy\\core\\fromnumeric.py:2580: FutureWarning: Method .ptp is deprecated and will be removed in a future version. Use numpy.ptp instead.\n",
      "  return ptp(axis=axis, out=out, **kwargs)\n",
      "C:\\Users\\mathe\\anaconda3\\lib\\site-packages\\numpy\\core\\fromnumeric.py:2580: FutureWarning: Method .ptp is deprecated and will be removed in a future version. Use numpy.ptp instead.\n",
      "  return ptp(axis=axis, out=out, **kwargs)\n",
      "C:\\Users\\mathe\\anaconda3\\lib\\site-packages\\numpy\\core\\fromnumeric.py:2580: FutureWarning: Method .ptp is deprecated and will be removed in a future version. Use numpy.ptp instead.\n",
      "  return ptp(axis=axis, out=out, **kwargs)\n",
      "C:\\Users\\mathe\\anaconda3\\lib\\site-packages\\numpy\\core\\fromnumeric.py:2580: FutureWarning: Method .ptp is deprecated and will be removed in a future version. Use numpy.ptp instead.\n",
      "  return ptp(axis=axis, out=out, **kwargs)\n",
      "C:\\Users\\mathe\\anaconda3\\lib\\site-packages\\numpy\\core\\fromnumeric.py:2580: FutureWarning: Method .ptp is deprecated and will be removed in a future version. Use numpy.ptp instead.\n",
      "  return ptp(axis=axis, out=out, **kwargs)\n",
      "C:\\Users\\mathe\\anaconda3\\lib\\site-packages\\numpy\\core\\fromnumeric.py:2580: FutureWarning: Method .ptp is deprecated and will be removed in a future version. Use numpy.ptp instead.\n",
      "  return ptp(axis=axis, out=out, **kwargs)\n",
      "C:\\Users\\mathe\\anaconda3\\lib\\site-packages\\numpy\\core\\fromnumeric.py:2580: FutureWarning: Method .ptp is deprecated and will be removed in a future version. Use numpy.ptp instead.\n",
      "  return ptp(axis=axis, out=out, **kwargs)\n",
      "C:\\Users\\mathe\\anaconda3\\lib\\site-packages\\numpy\\core\\fromnumeric.py:2580: FutureWarning: Method .ptp is deprecated and will be removed in a future version. Use numpy.ptp instead.\n",
      "  return ptp(axis=axis, out=out, **kwargs)\n",
      "C:\\Users\\mathe\\anaconda3\\lib\\site-packages\\numpy\\core\\fromnumeric.py:2580: FutureWarning: Method .ptp is deprecated and will be removed in a future version. Use numpy.ptp instead.\n",
      "  return ptp(axis=axis, out=out, **kwargs)\n",
      "C:\\Users\\mathe\\anaconda3\\lib\\site-packages\\numpy\\core\\fromnumeric.py:2580: FutureWarning: Method .ptp is deprecated and will be removed in a future version. Use numpy.ptp instead.\n",
      "  return ptp(axis=axis, out=out, **kwargs)\n",
      "C:\\Users\\mathe\\anaconda3\\lib\\site-packages\\numpy\\core\\fromnumeric.py:2580: FutureWarning: Method .ptp is deprecated and will be removed in a future version. Use numpy.ptp instead.\n",
      "  return ptp(axis=axis, out=out, **kwargs)\n",
      "C:\\Users\\mathe\\anaconda3\\lib\\site-packages\\numpy\\core\\fromnumeric.py:2580: FutureWarning: Method .ptp is deprecated and will be removed in a future version. Use numpy.ptp instead.\n",
      "  return ptp(axis=axis, out=out, **kwargs)\n"
     ]
    }
   ],
   "source": [
    "import statsmodels.api as sm\n",
    "feat_cols = list(X_train.columns)\n",
    "pmax = 1\n",
    "while (len(feat_cols) > 0):\n",
    "    p = []\n",
    "    const_col = X_train[feat_cols]\n",
    "    const_col = sm.add_constant(const_col)\n",
    "    model = sm.OLS(y_train.values, const_col).fit()\n",
    "    p = pd.Series(model.pvalues[1:], index=feat_cols)\n",
    "    pmax = max(p)\n",
    "    feature_with_p_max = p.idxmax()\n",
    "    if(pmax > 0.05): # Change here\n",
    "        feat_cols.remove(feature_with_p_max)\n",
    "    else:\n",
    "        break"
   ]
  },
  {
   "cell_type": "code",
   "execution_count": 29,
   "metadata": {},
   "outputs": [],
   "source": [
    "selected_features_back = list(feat_cols)\n",
    "removed_features_back = list(set(df.drop('FORCE_2020_LITHOFACIES_LITHOLOGY', axis=1).columns) - set(feat_cols))"
   ]
  },
  {
   "cell_type": "code",
   "execution_count": 30,
   "metadata": {},
   "outputs": [
    {
     "data": {
      "text/plain": [
       "['GROUP_BOKNFJORD GP.',\n",
       " 'FORMATION_Kupferschiefer Fm.',\n",
       " 'FORMATION_Etive Fm.',\n",
       " 'FORMATION_Oseberg Fm.',\n",
       " 'SGR',\n",
       " 'WELL',\n",
       " 'FORMATION_Frigg Fm.',\n",
       " 'FORMATION_Ekofisk Fm.',\n",
       " 'FORMATION_Rannoch Fm.',\n",
       " 'FORMATION_Skade Mb.',\n",
       " 'FORMATION_Sola Fm.',\n",
       " 'FORMATION_Mime Fm.',\n",
       " 'FORMATION_Tarbert Fm.',\n",
       " 'GROUP_ROTLIEGENDES GP.',\n",
       " 'FORCE_2020_LITHOFACIES_CONFIDENCE']"
      ]
     },
     "execution_count": 30,
     "metadata": {},
     "output_type": "execute_result"
    }
   ],
   "source": [
    "removed_features_back"
   ]
  },
  {
   "cell_type": "markdown",
   "metadata": {},
   "source": [
    "## Recursive Feature Elimination"
   ]
  },
  {
   "cell_type": "code",
   "execution_count": 31,
   "metadata": {},
   "outputs": [],
   "source": [
    "from sklearn.feature_selection import RFE\n",
    "from sklearn.linear_model import LinearRegression, LassoCV\n",
    "from sklearn.svm import SVR # Has to use linear kernel\n",
    "from sklearn.tree import DecisionTreeClassifier\n",
    "from sklearn.ensemble import RandomForestRegressor\n",
    "from sklearn.model_selection import train_test_split\n",
    "\n",
    "high_score = 0\n",
    "optimal_n = 0\n",
    "ns = np.arange(1, df.drop(['FORCE_2020_LITHOFACIES_LITHOLOGY', 'FORCE_2020_LITHOFACIES_CONFIDENCE', 'WELL'], axis=1).shape[1] + 1)\n",
    "score_list = []\n",
    "for n in ns:\n",
    "    X_train_temp, X_test_temp, y_train_temp, y_test_temp = train_test_split(X_train, y_train, test_size=0.3, random_state=0)\n",
    "    model = DecisionTreeClassifier() # Change here\n",
    "    rfe = RFE(model, n_features_to_select = n)\n",
    "    X_train_rfe = rfe.fit_transform(X_train_temp, y_train_temp)\n",
    "    X_test_rfe = rfe.transform(X_test_temp)\n",
    "    model.fit(X_train_rfe, y_train_temp)\n",
    "    score = model.score(X_test_rfe, y_test_temp)\n",
    "    score_list.append(score)\n",
    "    if(score > high_score):\n",
    "        high_score = score\n",
    "        optimal_n = n"
   ]
  },
  {
   "cell_type": "code",
   "execution_count": 32,
   "metadata": {},
   "outputs": [
    {
     "name": "stdout",
     "output_type": "stream",
     "text": [
      "Possible optimum number of features: 15\n",
      "Score with 15 features: 0.737500\n"
     ]
    },
    {
     "data": {
      "text/html": [
       "<div>\n",
       "<style scoped>\n",
       "    .dataframe tbody tr th:only-of-type {\n",
       "        vertical-align: middle;\n",
       "    }\n",
       "\n",
       "    .dataframe tbody tr th {\n",
       "        vertical-align: top;\n",
       "    }\n",
       "\n",
       "    .dataframe thead th {\n",
       "        text-align: right;\n",
       "    }\n",
       "</style>\n",
       "<table border=\"1\" class=\"dataframe\">\n",
       "  <thead>\n",
       "    <tr style=\"text-align: right;\">\n",
       "      <th></th>\n",
       "      <th>Score</th>\n",
       "    </tr>\n",
       "  </thead>\n",
       "  <tbody>\n",
       "    <tr>\n",
       "      <th>1</th>\n",
       "      <td>0.454167</td>\n",
       "    </tr>\n",
       "    <tr>\n",
       "      <th>3</th>\n",
       "      <td>0.587500</td>\n",
       "    </tr>\n",
       "    <tr>\n",
       "      <th>2</th>\n",
       "      <td>0.595833</td>\n",
       "    </tr>\n",
       "    <tr>\n",
       "      <th>4</th>\n",
       "      <td>0.633333</td>\n",
       "    </tr>\n",
       "    <tr>\n",
       "      <th>5</th>\n",
       "      <td>0.662500</td>\n",
       "    </tr>\n",
       "    <tr>\n",
       "      <th>...</th>\n",
       "      <td>...</td>\n",
       "    </tr>\n",
       "    <tr>\n",
       "      <th>21</th>\n",
       "      <td>0.716667</td>\n",
       "    </tr>\n",
       "    <tr>\n",
       "      <th>9</th>\n",
       "      <td>0.720833</td>\n",
       "    </tr>\n",
       "    <tr>\n",
       "      <th>18</th>\n",
       "      <td>0.729167</td>\n",
       "    </tr>\n",
       "    <tr>\n",
       "      <th>19</th>\n",
       "      <td>0.733333</td>\n",
       "    </tr>\n",
       "    <tr>\n",
       "      <th>15</th>\n",
       "      <td>0.737500</td>\n",
       "    </tr>\n",
       "  </tbody>\n",
       "</table>\n",
       "<p>86 rows × 1 columns</p>\n",
       "</div>"
      ],
      "text/plain": [
       "       Score\n",
       "1   0.454167\n",
       "3   0.587500\n",
       "2   0.595833\n",
       "4   0.633333\n",
       "5   0.662500\n",
       "..       ...\n",
       "21  0.716667\n",
       "9   0.720833\n",
       "18  0.729167\n",
       "19  0.733333\n",
       "15  0.737500\n",
       "\n",
       "[86 rows x 1 columns]"
      ]
     },
     "execution_count": 32,
     "metadata": {},
     "output_type": "execute_result"
    }
   ],
   "source": [
    "print(\"Possible optimum number of features: %d\" %optimal_n)\n",
    "print(\"Score with %d features: %f\" %(optimal_n, high_score))\n",
    "df_selected = pd.DataFrame({'Score': score_list})\n",
    "df_selected.index = range(1, len(df_selected) + 1) # Number of Features\n",
    "df_selected.sort_values(by='Score')"
   ]
  },
  {
   "cell_type": "code",
   "execution_count": 33,
   "metadata": {},
   "outputs": [],
   "source": [
    "cols = list(df.drop(['FORCE_2020_LITHOFACIES_LITHOLOGY', 'FORCE_2020_LITHOFACIES_CONFIDENCE', 'WELL'], axis=1))\n",
    "model = DecisionTreeClassifier()\n",
    "rfe = RFE(model, n_features_to_select=optimal_n)      \n",
    "X_rfe = rfe.fit_transform(X_train, y_train)\n",
    "model.fit(X_rfe, y_train)              \n",
    "temp = pd.Series(rfe.support_, index = cols)"
   ]
  },
  {
   "cell_type": "code",
   "execution_count": 34,
   "metadata": {},
   "outputs": [],
   "source": [
    "selected_features_rfe = list(temp[temp == True].index)\n",
    "removed_features_rfe = list(temp[temp == False].index)"
   ]
  },
  {
   "cell_type": "code",
   "execution_count": 35,
   "metadata": {},
   "outputs": [
    {
     "name": "stdout",
     "output_type": "stream",
     "text": [
      "['DEPTH_MD', 'RDEP', 'SGR', 'PEF', 'SP', 'BS', 'ROP', 'DCAL', 'MUDWEIGHT', 'ROPA', 'GROUP_BOKNFJORD GP.', 'GROUP_CROMER KNOLL GP.', 'GROUP_DUNLIN GP.', 'GROUP_HEGRE GP.', 'GROUP_HORDALAND GP.', 'GROUP_NORDLAND GP.', 'GROUP_ROGALAND GP.', 'GROUP_ROTLIEGENDES GP.', 'GROUP_VESTLAND GP.', 'GROUP_VIKING GP.', 'GROUP_ZECHSTEIN GP.', 'FORMATION_Agat Fm.', 'FORMATION_Amundsen Fm.', 'FORMATION_Balder Fm.', 'FORMATION_Blodoeks Fm.', 'FORMATION_Burton Fm.', 'FORMATION_Cook Fm.', 'FORMATION_Drake Fm.', 'FORMATION_Draupne Fm.', 'FORMATION_Eiriksson Mb.', 'FORMATION_Ekofisk Fm.', 'FORMATION_Etive Fm.', 'FORMATION_Fensfjord Fm.', 'FORMATION_Frigg Fm.', 'FORMATION_Grid Fm.', 'FORMATION_Grid Mb.', 'FORMATION_Hardraade Fm.', 'FORMATION_Heather Fm.', 'FORMATION_Heimdal Fm.', 'FORMATION_Hod Fm.', 'FORMATION_Hugin Fm.', 'FORMATION_Intra Draupne Fm. Sst.', 'FORMATION_Intra Heather Fm. Sst.', 'FORMATION_Johansen Fm.', 'FORMATION_Jorsalfare Fm.', 'FORMATION_Krossfjord Fm.', 'FORMATION_Kupferschiefer Fm.', 'FORMATION_Kyrre Fm.', 'FORMATION_Lista Fm.', 'FORMATION_Lunde Fm.', 'FORMATION_Mime Fm.', 'FORMATION_Ness Fm.', 'FORMATION_Oseberg Fm.', 'FORMATION_Rannoch Fm.', 'FORMATION_Roedby Fm.', 'FORMATION_Sele Fm.', 'FORMATION_Skade Fm.', 'FORMATION_Skade Mb.', 'FORMATION_Skagerrak Fm.', 'FORMATION_Sleipner Fm.', 'FORMATION_Smith Bank Fm.', 'FORMATION_Sognefjord Fm.', 'FORMATION_Sola Fm.', 'FORMATION_Statfjord Fm.', 'FORMATION_Svarte Fm.', 'FORMATION_Tarbert Fm.', 'FORMATION_Tor Fm.', 'FORMATION_Tryggvason Fm.', 'FORMATION_Ty Fm.', 'FORMATION_Utsira Fm.', 'FORMATION_Vaale Fm.']\n"
     ]
    }
   ],
   "source": [
    "print(removed_features_rfe)"
   ]
  },
  {
   "cell_type": "markdown",
   "metadata": {},
   "source": [
    "## LassoCV"
   ]
  },
  {
   "cell_type": "code",
   "execution_count": 36,
   "metadata": {},
   "outputs": [
    {
     "name": "stderr",
     "output_type": "stream",
     "text": [
      "C:\\Users\\mathe\\anaconda3\\lib\\site-packages\\sklearn\\linear_model\\_coordinate_descent.py:470: ConvergenceWarning: Objective did not converge. You might want to increase the number of iterations. Duality gap: 0.25334147965600096, tolerance: 0.14029937500000003\n",
      "  model = cd_fast.enet_coordinate_descent_gram(\n",
      "C:\\Users\\mathe\\anaconda3\\lib\\site-packages\\sklearn\\linear_model\\_coordinate_descent.py:470: ConvergenceWarning: Objective did not converge. You might want to increase the number of iterations. Duality gap: 0.2534653946046319, tolerance: 0.14029937500000003\n",
      "  model = cd_fast.enet_coordinate_descent_gram(\n",
      "C:\\Users\\mathe\\anaconda3\\lib\\site-packages\\sklearn\\linear_model\\_coordinate_descent.py:470: ConvergenceWarning: Objective did not converge. You might want to increase the number of iterations. Duality gap: 0.14575601830347296, tolerance: 0.14084937500000003\n",
      "  model = cd_fast.enet_coordinate_descent_gram(\n",
      "C:\\Users\\mathe\\anaconda3\\lib\\site-packages\\sklearn\\linear_model\\_coordinate_descent.py:470: ConvergenceWarning: Objective did not converge. You might want to increase the number of iterations. Duality gap: 0.1432681507116058, tolerance: 0.14111234375\n",
      "  model = cd_fast.enet_coordinate_descent_gram(\n",
      "C:\\Users\\mathe\\anaconda3\\lib\\site-packages\\sklearn\\linear_model\\_coordinate_descent.py:470: ConvergenceWarning: Objective did not converge. You might want to increase the number of iterations. Duality gap: 0.14903509156511063, tolerance: 0.14111234375\n",
      "  model = cd_fast.enet_coordinate_descent_gram(\n"
     ]
    }
   ],
   "source": [
    "from sklearn.linear_model import LassoCV\n",
    "reg = LassoCV()\n",
    "reg.fit(X_train, y_train)\n",
    "coef = pd.Series(reg.coef_, index = df.drop(['FORCE_2020_LITHOFACIES_LITHOLOGY', 'FORCE_2020_LITHOFACIES_CONFIDENCE', 'WELL'], axis=1).columns)\n",
    "coef = coef.sort_values()"
   ]
  },
  {
   "cell_type": "code",
   "execution_count": 37,
   "metadata": {},
   "outputs": [
    {
     "data": {
      "text/plain": [
       "<AxesSubplot:title={'center':'Feature importance using Lasso Model'}>"
      ]
     },
     "execution_count": 37,
     "metadata": {},
     "output_type": "execute_result"
    },
    {
     "data": {
      "image/png": "[encoded data removed]",
      "text/plain": [
       "<Figure size 576x720 with 1 Axes>"
      ]
     },
     "metadata": {
      "needs_background": "light"
     },
     "output_type": "display_data"
    }
   ],
   "source": [
    "plt.figure(figsize=(8, 10))\n",
    "plt.title(\"Feature importance using Lasso Model\")\n",
    "coef.plot(kind = \"barh\", )"
   ]
  },
  {
   "cell_type": "code",
   "execution_count": 38,
   "metadata": {},
   "outputs": [],
   "source": [
    "selected_features_lasso = list(coef[coef != 0].index)\n",
    "removed_features_lasso = list(coef[coef == 0].index)"
   ]
  },
  {
   "cell_type": "code",
   "execution_count": 39,
   "metadata": {},
   "outputs": [
    {
     "name": "stdout",
     "output_type": "stream",
     "text": [
      "['DCAL', 'DRHO', 'RMIC', 'ROPA', 'FORMATION_Intra Draupne Fm. Sst.', 'ROP', 'FORMATION_Heather Fm.', 'BS', 'GROUP_HEGRE GP.', 'PEF', 'GROUP_NORDLAND GP.', 'GROUP_ROGALAND GP.', 'FORMATION_Sleipner Fm.', 'Z_LOC', 'FORMATION_Tarbert Fm.', 'FORMATION_Tryggvason Fm.', 'DTS', 'FORMATION_Lista Fm.']\n"
     ]
    }
   ],
   "source": [
    "print(removed_features_lasso)"
   ]
  },
  {
   "cell_type": "markdown",
   "metadata": {},
   "source": [
    "## Putting all feature selections together"
   ]
  },
  {
   "cell_type": "code",
   "execution_count": 40,
   "metadata": {},
   "outputs": [],
   "source": [
    "def get_true_false(selected_features, features):\n",
    "    selected_t_f = []\n",
    "    for feature in features:\n",
    "        if feature in selected_features:\n",
    "            selected_t_f.append(True)\n",
    "        else:\n",
    "            selected_t_f.append(False)\n",
    "    return selected_t_f"
   ]
  },
  {
   "cell_type": "code",
   "execution_count": 41,
   "metadata": {},
   "outputs": [
    {
     "data": {
      "text/html": [
       "<div>\n",
       "<style scoped>\n",
       "    .dataframe tbody tr th:only-of-type {\n",
       "        vertical-align: middle;\n",
       "    }\n",
       "\n",
       "    .dataframe tbody tr th {\n",
       "        vertical-align: top;\n",
       "    }\n",
       "\n",
       "    .dataframe thead th {\n",
       "        text-align: right;\n",
       "    }\n",
       "</style>\n",
       "<table border=\"1\" class=\"dataframe\">\n",
       "  <thead>\n",
       "    <tr style=\"text-align: right;\">\n",
       "      <th></th>\n",
       "      <th>Feature</th>\n",
       "      <th>Variance</th>\n",
       "      <th>Chi-Squared</th>\n",
       "      <th>Correlation</th>\n",
       "      <th>Backward</th>\n",
       "      <th>RFE</th>\n",
       "      <th>Lasso</th>\n",
       "      <th>Total</th>\n",
       "    </tr>\n",
       "  </thead>\n",
       "  <tbody>\n",
       "    <tr>\n",
       "      <th>1</th>\n",
       "      <td>GROUP_SHETLAND GP.</td>\n",
       "      <td>True</td>\n",
       "      <td>True</td>\n",
       "      <td>True</td>\n",
       "      <td>True</td>\n",
       "      <td>True</td>\n",
       "      <td>True</td>\n",
       "      <td>6</td>\n",
       "    </tr>\n",
       "    <tr>\n",
       "      <th>2</th>\n",
       "      <td>NPHI</td>\n",
       "      <td>True</td>\n",
       "      <td>False</td>\n",
       "      <td>True</td>\n",
       "      <td>True</td>\n",
       "      <td>True</td>\n",
       "      <td>True</td>\n",
       "      <td>5</td>\n",
       "    </tr>\n",
       "    <tr>\n",
       "      <th>3</th>\n",
       "      <td>GROUP_VESTLAND GP.</td>\n",
       "      <td>True</td>\n",
       "      <td>True</td>\n",
       "      <td>True</td>\n",
       "      <td>True</td>\n",
       "      <td>False</td>\n",
       "      <td>True</td>\n",
       "      <td>5</td>\n",
       "    </tr>\n",
       "    <tr>\n",
       "      <th>4</th>\n",
       "      <td>GR</td>\n",
       "      <td>True</td>\n",
       "      <td>False</td>\n",
       "      <td>True</td>\n",
       "      <td>True</td>\n",
       "      <td>True</td>\n",
       "      <td>True</td>\n",
       "      <td>5</td>\n",
       "    </tr>\n",
       "    <tr>\n",
       "      <th>5</th>\n",
       "      <td>FORMATION_Heimdal Fm.</td>\n",
       "      <td>True</td>\n",
       "      <td>True</td>\n",
       "      <td>True</td>\n",
       "      <td>True</td>\n",
       "      <td>False</td>\n",
       "      <td>True</td>\n",
       "      <td>5</td>\n",
       "    </tr>\n",
       "    <tr>\n",
       "      <th>...</th>\n",
       "      <td>...</td>\n",
       "      <td>...</td>\n",
       "      <td>...</td>\n",
       "      <td>...</td>\n",
       "      <td>...</td>\n",
       "      <td>...</td>\n",
       "      <td>...</td>\n",
       "      <td>...</td>\n",
       "    </tr>\n",
       "    <tr>\n",
       "      <th>82</th>\n",
       "      <td>FORMATION_Intra Draupne Fm. Sst.</td>\n",
       "      <td>True</td>\n",
       "      <td>False</td>\n",
       "      <td>False</td>\n",
       "      <td>True</td>\n",
       "      <td>False</td>\n",
       "      <td>False</td>\n",
       "      <td>2</td>\n",
       "    </tr>\n",
       "    <tr>\n",
       "      <th>83</th>\n",
       "      <td>FORMATION_Frigg Fm.</td>\n",
       "      <td>True</td>\n",
       "      <td>False</td>\n",
       "      <td>False</td>\n",
       "      <td>False</td>\n",
       "      <td>False</td>\n",
       "      <td>True</td>\n",
       "      <td>2</td>\n",
       "    </tr>\n",
       "    <tr>\n",
       "      <th>84</th>\n",
       "      <td>FORMATION_Etive Fm.</td>\n",
       "      <td>True</td>\n",
       "      <td>False</td>\n",
       "      <td>False</td>\n",
       "      <td>False</td>\n",
       "      <td>False</td>\n",
       "      <td>True</td>\n",
       "      <td>2</td>\n",
       "    </tr>\n",
       "    <tr>\n",
       "      <th>85</th>\n",
       "      <td>BS</td>\n",
       "      <td>True</td>\n",
       "      <td>False</td>\n",
       "      <td>False</td>\n",
       "      <td>True</td>\n",
       "      <td>False</td>\n",
       "      <td>False</td>\n",
       "      <td>2</td>\n",
       "    </tr>\n",
       "    <tr>\n",
       "      <th>86</th>\n",
       "      <td>FORMATION_Tarbert Fm.</td>\n",
       "      <td>True</td>\n",
       "      <td>False</td>\n",
       "      <td>False</td>\n",
       "      <td>False</td>\n",
       "      <td>False</td>\n",
       "      <td>False</td>\n",
       "      <td>1</td>\n",
       "    </tr>\n",
       "  </tbody>\n",
       "</table>\n",
       "<p>86 rows × 8 columns</p>\n",
       "</div>"
      ],
      "text/plain": [
       "                             Feature  Variance  Chi-Squared  Correlation  \\\n",
       "1                 GROUP_SHETLAND GP.      True         True         True   \n",
       "2                               NPHI      True        False         True   \n",
       "3                 GROUP_VESTLAND GP.      True         True         True   \n",
       "4                                 GR      True        False         True   \n",
       "5              FORMATION_Heimdal Fm.      True         True         True   \n",
       "..                               ...       ...          ...          ...   \n",
       "82  FORMATION_Intra Draupne Fm. Sst.      True        False        False   \n",
       "83               FORMATION_Frigg Fm.      True        False        False   \n",
       "84               FORMATION_Etive Fm.      True        False        False   \n",
       "85                                BS      True        False        False   \n",
       "86             FORMATION_Tarbert Fm.      True        False        False   \n",
       "\n",
       "    Backward    RFE  Lasso  Total  \n",
       "1       True   True   True      6  \n",
       "2       True   True   True      5  \n",
       "3       True  False   True      5  \n",
       "4       True   True   True      5  \n",
       "5       True  False   True      5  \n",
       "..       ...    ...    ...    ...  \n",
       "82      True  False  False      2  \n",
       "83     False  False   True      2  \n",
       "84     False  False   True      2  \n",
       "85      True  False  False      2  \n",
       "86     False  False  False      1  \n",
       "\n",
       "[86 rows x 8 columns]"
      ]
     },
     "execution_count": 41,
     "metadata": {},
     "output_type": "execute_result"
    }
   ],
   "source": [
    "features = sorted(df.drop(['FORCE_2020_LITHOFACIES_LITHOLOGY', 'FORCE_2020_LITHOFACIES_CONFIDENCE', 'WELL'], axis=1).columns)\n",
    "df_selections = pd.DataFrame({'Feature': features,\n",
    "                              'Variance': get_true_false(selected_features_var, features),\n",
    "                              'Chi-Squared': get_true_false(selected_features_chi, features),\n",
    "                              'Correlation': get_true_false(selected_features_cor, features),\n",
    "                              'Backward': get_true_false(selected_features_back, features),\n",
    "                              'RFE': get_true_false(selected_features_rfe, features),\n",
    "                              'Lasso': get_true_false(selected_features_lasso, features)})\n",
    "df_selections['Total'] = np.sum(df_selections, axis=1)\n",
    "df_selections = df_selections.sort_values(['Total', 'Feature'], ascending=False)\n",
    "df_selections.index = range(1, len(df_selections) + 1)\n",
    "df_selections"
   ]
  },
  {
   "cell_type": "code",
   "execution_count": 42,
   "metadata": {},
   "outputs": [],
   "source": [
    "votes = 3\n",
    "final_selected = list(df_selections[df_selections['Total'] > votes]['Feature']) # Change votes threshold"
   ]
  },
  {
   "cell_type": "code",
   "execution_count": 43,
   "metadata": {},
   "outputs": [
    {
     "data": {
      "text/plain": [
       "['GROUP_SHETLAND GP.',\n",
       " 'NPHI',\n",
       " 'GROUP_VESTLAND GP.',\n",
       " 'GR',\n",
       " 'FORMATION_Heimdal Fm.',\n",
       " 'FORMATION_Balder Fm.',\n",
       " 'Y_LOC',\n",
       " 'X_LOC',\n",
       " 'RXO',\n",
       " 'RSHA',\n",
       " 'RMED',\n",
       " 'RHOB',\n",
       " 'GROUP_ZECHSTEIN GP.',\n",
       " 'GROUP_VIKING GP.',\n",
       " 'GROUP_NORDLAND GP.',\n",
       " 'GROUP_HORDALAND GP.',\n",
       " 'GROUP_CROMER KNOLL GP.',\n",
       " 'FORMATION_Vaale Fm.',\n",
       " 'FORMATION_Tor Fm.',\n",
       " 'FORMATION_Sognefjord Fm.',\n",
       " 'FORMATION_Smith Bank Fm.',\n",
       " 'FORMATION_Roedby Fm.',\n",
       " 'FORMATION_Ness Fm.',\n",
       " 'FORMATION_Kyrre Fm.',\n",
       " 'FORMATION_Johansen Fm.',\n",
       " 'FORMATION_Hod Fm.',\n",
       " 'FORMATION_Hardraade Fm.',\n",
       " 'FORMATION_Fensfjord Fm.',\n",
       " 'FORMATION_Blodoeks Fm.',\n",
       " 'DTC',\n",
       " 'CALI']"
      ]
     },
     "execution_count": 43,
     "metadata": {},
     "output_type": "execute_result"
    }
   ],
   "source": [
    "final_selected"
   ]
  },
  {
   "cell_type": "markdown",
   "metadata": {},
   "source": [
    "### Applying the custom scoring function"
   ]
  },
  {
   "cell_type": "markdown",
   "metadata": {},
   "source": [
    "Apart from the missing log curves, **one of the key challenges of this machine learning competition is that you are being scored using a custom scoring function**. \n",
    "\n",
    "A prediction is scored using the penalty function\n",
    "$$ S = - \\frac{1}{N}\\sum_{i=0}^N A_{ \\hat{y}_i y_i} $$\n",
    "where $N$ is the number of samples, $y_i$ is prediction for sample $i$, $\\hat{y}_i$ is the true target for sample $i$, and $A$ is the penalty matrix given by the following\n",
    "\n",
    "In short, the value of the matrix A at row i and column j is the **penalty** given by guessing lithology number i when the correct label is lithology numner j. Notice that the diagonal consists of zeros, no penalty is given for correct predictions."
   ]
  },
  {
   "cell_type": "code",
   "execution_count": 44,
   "metadata": {},
   "outputs": [],
   "source": [
    "A = np.load('penalty_matrix.npy')"
   ]
  },
  {
   "cell_type": "code",
   "execution_count": 45,
   "metadata": {},
   "outputs": [
    {
     "data": {
      "text/plain": [
       "array([[0.   , 2.   , 3.5  , 3.   , 3.75 , 3.5  , 3.5  , 4.   , 4.   ,\n",
       "        2.5  , 3.875, 3.25 ],\n",
       "       [2.   , 0.   , 2.375, 2.75 , 4.   , 3.75 , 3.75 , 3.875, 4.   ,\n",
       "        3.   , 3.75 , 3.   ],\n",
       "       [3.5  , 2.375, 0.   , 2.   , 3.5  , 3.5  , 3.75 , 4.   , 4.   ,\n",
       "        2.75 , 3.25 , 3.   ],\n",
       "       [3.   , 2.75 , 2.   , 0.   , 2.5  , 2.   , 2.25 , 4.   , 4.   ,\n",
       "        3.375, 3.75 , 3.25 ],\n",
       "       [3.75 , 4.   , 3.5  , 2.5  , 0.   , 2.625, 2.875, 3.75 , 3.25 ,\n",
       "        3.   , 4.   , 3.625],\n",
       "       [3.5  , 3.75 , 3.5  , 2.   , 2.625, 0.   , 1.375, 4.   , 3.75 ,\n",
       "        3.5  , 4.   , 3.625],\n",
       "       [3.5  , 3.75 , 3.75 , 2.25 , 2.875, 1.375, 0.   , 4.   , 3.75 ,\n",
       "        3.125, 4.   , 3.75 ],\n",
       "       [4.   , 3.875, 4.   , 4.   , 3.75 , 4.   , 4.   , 0.   , 2.75 ,\n",
       "        3.75 , 3.75 , 4.   ],\n",
       "       [4.   , 4.   , 4.   , 4.   , 3.25 , 3.75 , 3.75 , 2.75 , 0.   ,\n",
       "        4.   , 4.   , 3.875],\n",
       "       [2.5  , 3.   , 2.75 , 3.375, 3.   , 3.5  , 3.125, 3.75 , 4.   ,\n",
       "        0.   , 2.5  , 3.25 ],\n",
       "       [3.875, 3.75 , 3.25 , 3.75 , 4.   , 4.   , 4.   , 3.75 , 4.   ,\n",
       "        2.5  , 0.   , 4.   ],\n",
       "       [3.25 , 3.   , 3.   , 3.25 , 3.625, 3.625, 3.75 , 4.   , 3.875,\n",
       "        3.25 , 4.   , 0.   ]])"
      ]
     },
     "execution_count": 45,
     "metadata": {},
     "output_type": "execute_result"
    }
   ],
   "source": [
    "A"
   ]
  },
  {
   "cell_type": "markdown",
   "metadata": {},
   "source": [
    "The scoring function can be implemented as follows. If used as a loss function in a neural network framwork, it is recommended to implement a more efficient function based on tensor products. "
   ]
  },
  {
   "cell_type": "code",
   "execution_count": 46,
   "metadata": {},
   "outputs": [],
   "source": [
    "def score(y_true, y_pred):\n",
    "    S = 0.0\n",
    "    y_true = y_true.astype(int)\n",
    "    y_pred = y_pred.astype(int)\n",
    "    for i in range(0, y_true.shape[0]):\n",
    "        S -= A[y_true[i], y_pred[i]]\n",
    "    return S/y_true.shape[0]"
   ]
  },
  {
   "cell_type": "markdown",
   "metadata": {},
   "source": [
    "**IMPORTANT: The implementation above assumes zero-indexed y_true and y_pred. Be careful not to mix zero-indexed and 1-indexed class labels.**"
   ]
  },
  {
   "cell_type": "markdown",
   "metadata": {},
   "source": [
    "Let us see what happens when we test the scoring function on some corner cases:"
   ]
  },
  {
   "cell_type": "markdown",
   "metadata": {},
   "source": [
    "##### Lazily guessing SHALE for everything gives an OK score due to the imbalance of the dataset"
   ]
  },
  {
   "cell_type": "code",
   "execution_count": 47,
   "metadata": {},
   "outputs": [
    {
     "data": {
      "text/plain": [
       "-1.030625"
      ]
     },
     "execution_count": 47,
     "metadata": {},
     "output_type": "execute_result"
    }
   ],
   "source": [
    "score(y_test.values, np.ones(y_test.shape)*2)"
   ]
  },
  {
   "cell_type": "markdown",
   "metadata": {},
   "source": [
    "##### Doing the same for an uncommon class, like COAL, not so much.."
   ]
  },
  {
   "cell_type": "code",
   "execution_count": 48,
   "metadata": {},
   "outputs": [
    {
     "data": {
      "text/plain": [
       "-3.07875"
      ]
     },
     "execution_count": 48,
     "metadata": {},
     "output_type": "execute_result"
    }
   ],
   "source": [
    "score(y_test.values, np.ones(y_test.shape)*11)"
   ]
  },
  {
   "cell_type": "markdown",
   "metadata": {},
   "source": [
    "##### Of course getting it completely right gives the highest possible score, 0"
   ]
  },
  {
   "cell_type": "code",
   "execution_count": 49,
   "metadata": {},
   "outputs": [
    {
     "data": {
      "text/plain": [
       "0.0"
      ]
     },
     "execution_count": 49,
     "metadata": {},
     "output_type": "execute_result"
    }
   ],
   "source": [
    "score(y_test.values, y_test.values)"
   ]
  },
  {
   "cell_type": "markdown",
   "metadata": {},
   "source": [
    "# Format df for RNN"
   ]
  },
  {
   "cell_type": "code",
   "execution_count": null,
   "metadata": {},
   "outputs": [],
   "source": []
  },
  {
   "cell_type": "markdown",
   "metadata": {},
   "source": [
    "# LSTM Model"
   ]
  },
  {
   "cell_type": "markdown",
   "metadata": {},
   "source": [
    "## Building the model"
   ]
  },
  {
   "cell_type": "code",
   "execution_count": 50,
   "metadata": {},
   "outputs": [],
   "source": [
    "import tensorflow as tf"
   ]
  },
  {
   "cell_type": "code",
   "execution_count": 51,
   "metadata": {},
   "outputs": [
    {
     "data": {
      "text/plain": [
       "<tf.Tensor: shape=(32, 10, 8), dtype=float32, numpy=\n",
       "array([[[ 4.18935210e-01, -4.87998873e-01, -4.17630821e-01, ...,\n",
       "          9.01186109e-01, -9.85904157e-01,  7.50994325e-01],\n",
       "        [-3.86418194e-01,  1.55349982e+00, -1.04347944e+00, ...,\n",
       "          7.86660194e-01,  1.24301851e+00, -1.24748611e+00],\n",
       "        [ 1.37499809e+00, -9.88498330e-01, -1.06489182e+00, ...,\n",
       "          1.11317015e+00,  1.35265231e-01, -1.26917675e-01],\n",
       "        ...,\n",
       "        [ 1.47668302e-01, -3.69948804e-01,  3.05413812e-01, ...,\n",
       "         -1.36496633e-01, -5.82841575e-01, -1.53400242e+00],\n",
       "        [ 1.90498853e+00, -6.94427788e-01, -4.88362223e-01, ...,\n",
       "         -7.82474056e-02,  2.25800657e+00,  1.41821969e+00],\n",
       "        [ 1.01772487e+00, -6.03824496e-01,  1.59466946e+00, ...,\n",
       "          1.11743164e+00,  1.87835741e+00, -1.06546469e-02]],\n",
       "\n",
       "       [[ 2.93245816e+00, -4.65081394e-01,  2.77945071e-01, ...,\n",
       "          1.51601478e-01,  2.66771197e-01, -1.57974288e-01],\n",
       "        [-3.15789059e-02, -5.93376338e-01, -7.64575601e-01, ...,\n",
       "         -8.59862804e-01, -6.82153851e-02,  6.29914045e-01],\n",
       "        [-1.00998890e+00,  7.06708878e-02, -8.01707566e-01, ...,\n",
       "         -9.03158963e-01, -6.93223596e-01,  6.75910115e-01],\n",
       "        ...,\n",
       "        [ 4.92767066e-01, -5.41862100e-02, -9.54798937e-01, ...,\n",
       "         -1.09496200e+00,  5.01096666e-01, -1.50572002e+00],\n",
       "        [-3.06145668e-01, -1.12249172e+00,  1.44831881e-01, ...,\n",
       "          2.38090372e+00, -9.81538057e-01, -1.06330419e+00],\n",
       "        [ 5.86270213e-01,  3.37718606e-01,  1.38938534e+00, ...,\n",
       "         -5.08829057e-02, -5.86701743e-02,  4.87797260e-01]],\n",
       "\n",
       "       [[-6.94459140e-01,  4.36429411e-01, -2.89716810e-01, ...,\n",
       "          6.09110832e-01,  2.79031307e-01,  1.03565490e+00],\n",
       "        [ 1.44538319e+00, -3.23643744e-01, -3.11124873e+00, ...,\n",
       "         -1.14249766e-01,  1.83421433e-01, -1.92010596e-01],\n",
       "        [ 2.06594801e+00,  8.08036983e-01,  1.82709181e+00, ...,\n",
       "          4.82643992e-01, -1.23000598e+00,  6.34357214e-01],\n",
       "        ...,\n",
       "        [ 1.17471707e+00,  2.04198074e+00,  1.01877534e+00, ...,\n",
       "          1.81162024e+00,  1.19544953e-01,  4.29731429e-01],\n",
       "        [ 1.19443119e+00,  1.82772529e+00, -3.05489033e-01, ...,\n",
       "         -1.47789037e+00,  1.04385376e+00, -4.24349338e-01],\n",
       "        [-1.57935798e-01,  8.86861145e-01, -2.26625368e-01, ...,\n",
       "         -4.07238096e-01,  1.01423550e+00,  1.55452025e+00]],\n",
       "\n",
       "       ...,\n",
       "\n",
       "       [[-8.12117577e-01,  4.97005224e-01, -1.21271086e+00, ...,\n",
       "         -1.10759437e+00, -2.03590107e+00, -2.65449673e-01],\n",
       "        [ 5.69577157e-01,  2.08019209e+00,  5.17785013e-01, ...,\n",
       "         -1.39201609e-02,  1.24073994e+00, -1.59022999e+00],\n",
       "        [-3.43962669e-01, -7.79926538e-01,  1.02267385e+00, ...,\n",
       "         -2.50364208e+00, -9.38504189e-02, -1.85038579e+00],\n",
       "        ...,\n",
       "        [-7.40135074e-01,  6.33719206e-01, -3.43397958e-03, ...,\n",
       "          4.33022171e-01,  1.11319053e+00,  5.30108154e-01],\n",
       "        [-4.29395102e-02, -8.43449354e-01,  1.51278853e-01, ...,\n",
       "         -8.47144485e-01, -1.15186179e+00, -6.35771632e-01],\n",
       "        [-8.82173553e-02,  5.84878147e-01, -2.82256889e+00, ...,\n",
       "         -2.09214121e-01, -1.08269513e+00,  8.73752892e-01]],\n",
       "\n",
       "       [[ 1.22192371e+00,  1.49250492e-01, -9.38062817e-02, ...,\n",
       "         -1.94669080e+00,  1.37568384e-01, -1.34988892e+00],\n",
       "        [ 4.68370914e-01,  1.02287030e+00,  6.80568457e-01, ...,\n",
       "         -8.50452185e-01, -2.97761947e-01,  1.26782429e+00],\n",
       "        [ 9.24437642e-01, -8.23409736e-01,  1.49980152e+00, ...,\n",
       "          6.19696319e-01, -3.06180000e-01,  1.72665194e-01],\n",
       "        ...,\n",
       "        [ 1.30949759e+00, -2.00573266e-01,  1.38732624e+00, ...,\n",
       "          1.55943418e+00, -1.47829628e+00,  1.46538079e+00],\n",
       "        [ 1.27644360e-01, -5.06461442e-01,  4.76295680e-01, ...,\n",
       "         -3.94163281e-01,  4.99483198e-01, -2.66716272e-01],\n",
       "        [ 2.18545581e-04,  1.90953895e-01, -1.36996835e-01, ...,\n",
       "          8.08782279e-02,  1.19175172e+00,  1.01926339e+00]],\n",
       "\n",
       "       [[-8.89773905e-01,  1.02473760e+00, -6.52176857e-01, ...,\n",
       "         -1.36013675e+00, -2.05333686e+00, -2.00467801e+00],\n",
       "        [-1.60268021e+00,  7.10676730e-01, -5.54709196e-01, ...,\n",
       "          8.15690756e-01,  5.36688566e-01, -1.76557720e-01],\n",
       "        [ 9.81259346e-01, -8.29585135e-01,  1.31672835e+00, ...,\n",
       "         -1.18429732e+00, -1.15343161e-01, -1.32926512e+00],\n",
       "        ...,\n",
       "        [ 4.64500397e-01, -7.78718710e-01,  2.76609850e+00, ...,\n",
       "         -7.39060119e-02,  5.96207082e-02,  9.85374629e-01],\n",
       "        [-6.47293329e-01, -4.33312878e-02,  2.11819077e+00, ...,\n",
       "          6.39013231e-01,  2.00739169e+00, -1.36681759e+00],\n",
       "        [-8.81405294e-01, -6.32031187e-02,  4.04601693e-01, ...,\n",
       "         -6.18848324e-01,  3.14245194e-01, -4.31303233e-01]]],\n",
       "      dtype=float32)>"
      ]
     },
     "execution_count": 51,
     "metadata": {},
     "output_type": "execute_result"
    }
   ],
   "source": [
    "tf.random.normal([32, 10, 8])"
   ]
  },
  {
   "cell_type": "code",
   "execution_count": 52,
   "metadata": {
    "scrolled": true
   },
   "outputs": [
    {
     "name": "stdout",
     "output_type": "stream",
     "text": [
      "(800, 86) (200, 86) (800,) (200,)\n"
     ]
    }
   ],
   "source": [
    "print(f'{X_train.shape} {X_test.shape} {y_train.shape} {y_test.shape}')"
   ]
  },
  {
   "cell_type": "code",
   "execution_count": 53,
   "metadata": {},
   "outputs": [],
   "source": [
    "from keras.models import Sequential\n",
    "from keras.layers import LSTM, Dense, Dropout, Masking, Embedding\n",
    "\n",
    "model = Sequential()\n",
    "\n",
    "# Recurrent layer\n",
    "model.add(LSTM(64, return_sequences=False, \n",
    "               dropout=0.1, recurrent_dropout=0.1))\n",
    "\n",
    "# Fully connected layer\n",
    "model.add(Dense(64, activation='relu'))\n",
    "\n",
    "# Dropout for regularization\n",
    "model.add(Dropout(0.5))\n",
    "\n",
    "# Output layer\n",
    "model.add(Dense(y_train.nunique(), activation='softmax'))\n",
    "\n",
    "# Compile the model\n",
    "model.compile(optimizer='adam', loss='categorical_crossentropy', metrics=['accuracy'])"
   ]
  },
  {
   "cell_type": "markdown",
   "metadata": {},
   "source": [
    "## Training the model"
   ]
  },
  {
   "cell_type": "code",
   "execution_count": 54,
   "metadata": {},
   "outputs": [],
   "source": [
    "from keras.callbacks import EarlyStopping, ModelCheckpoint\n",
    "\n",
    "# Create callbacks\n",
    "callbacks = [EarlyStopping(monitor='val_loss', patience=5), \n",
    "             ModelCheckpoint('../models/model.h5',\n",
    "             save_best_only=True,\n",
    "             save_weights_only=False)]"
   ]
  },
  {
   "cell_type": "code",
   "execution_count": 55,
   "metadata": {},
   "outputs": [
    {
     "name": "stdout",
     "output_type": "stream",
     "text": [
      "Epoch 1/150\n"
     ]
    },
    {
     "ename": "ValueError",
     "evalue": "in user code:\n\n    C:\\Users\\mathe\\anaconda3\\lib\\site-packages\\tensorflow\\python\\keras\\engine\\training.py:805 train_function  *\n        return step_function(self, iterator)\n    C:\\Users\\mathe\\anaconda3\\lib\\site-packages\\tensorflow\\python\\keras\\engine\\training.py:795 step_function  **\n        outputs = model.distribute_strategy.run(run_step, args=(data,))\n    C:\\Users\\mathe\\anaconda3\\lib\\site-packages\\tensorflow\\python\\distribute\\distribute_lib.py:1259 run\n        return self._extended.call_for_each_replica(fn, args=args, kwargs=kwargs)\n    C:\\Users\\mathe\\anaconda3\\lib\\site-packages\\tensorflow\\python\\distribute\\distribute_lib.py:2730 call_for_each_replica\n        return self._call_for_each_replica(fn, args, kwargs)\n    C:\\Users\\mathe\\anaconda3\\lib\\site-packages\\tensorflow\\python\\distribute\\distribute_lib.py:3417 _call_for_each_replica\n        return fn(*args, **kwargs)\n    C:\\Users\\mathe\\anaconda3\\lib\\site-packages\\tensorflow\\python\\keras\\engine\\training.py:788 run_step  **\n        outputs = model.train_step(data)\n    C:\\Users\\mathe\\anaconda3\\lib\\site-packages\\tensorflow\\python\\keras\\engine\\training.py:754 train_step\n        y_pred = self(x, training=True)\n    C:\\Users\\mathe\\anaconda3\\lib\\site-packages\\tensorflow\\python\\keras\\engine\\base_layer.py:998 __call__\n        input_spec.assert_input_compatibility(self.input_spec, inputs, self.name)\n    C:\\Users\\mathe\\anaconda3\\lib\\site-packages\\tensorflow\\python\\keras\\engine\\input_spec.py:219 assert_input_compatibility\n        raise ValueError('Input ' + str(input_index) + ' of layer ' +\n\n    ValueError: Input 0 of layer sequential is incompatible with the layer: expected ndim=3, found ndim=2. Full shape received: (None, 86)\n",
     "output_type": "error",
     "traceback": [
      "\u001b[1;31m---------------------------------------------------------------------------\u001b[0m",
      "\u001b[1;31mValueError\u001b[0m                                Traceback (most recent call last)",
      "\u001b[1;32m<ipython-input-55-bb60e5e8e0c6>\u001b[0m in \u001b[0;36m<module>\u001b[1;34m\u001b[0m\n\u001b[1;32m----> 1\u001b[1;33m history = model.fit(X_train,  y_train, \n\u001b[0m\u001b[0;32m      2\u001b[0m                     \u001b[0mbatch_size\u001b[0m\u001b[1;33m=\u001b[0m\u001b[1;36m2048\u001b[0m\u001b[1;33m,\u001b[0m \u001b[0mepochs\u001b[0m\u001b[1;33m=\u001b[0m\u001b[1;36m150\u001b[0m\u001b[1;33m,\u001b[0m\u001b[1;33m\u001b[0m\u001b[1;33m\u001b[0m\u001b[0m\n\u001b[0;32m      3\u001b[0m                     \u001b[0mcallbacks\u001b[0m\u001b[1;33m=\u001b[0m\u001b[0mcallbacks\u001b[0m\u001b[1;33m,\u001b[0m\u001b[1;33m\u001b[0m\u001b[1;33m\u001b[0m\u001b[0m\n\u001b[0;32m      4\u001b[0m                     validation_data=(X_test, y_test))\n",
      "\u001b[1;32m~\\anaconda3\\lib\\site-packages\\tensorflow\\python\\keras\\engine\\training.py\u001b[0m in \u001b[0;36mfit\u001b[1;34m(self, x, y, batch_size, epochs, verbose, callbacks, validation_split, validation_data, shuffle, class_weight, sample_weight, initial_epoch, steps_per_epoch, validation_steps, validation_batch_size, validation_freq, max_queue_size, workers, use_multiprocessing)\u001b[0m\n\u001b[0;32m   1098\u001b[0m                 _r=1):\n\u001b[0;32m   1099\u001b[0m               \u001b[0mcallbacks\u001b[0m\u001b[1;33m.\u001b[0m\u001b[0mon_train_batch_begin\u001b[0m\u001b[1;33m(\u001b[0m\u001b[0mstep\u001b[0m\u001b[1;33m)\u001b[0m\u001b[1;33m\u001b[0m\u001b[1;33m\u001b[0m\u001b[0m\n\u001b[1;32m-> 1100\u001b[1;33m               \u001b[0mtmp_logs\u001b[0m \u001b[1;33m=\u001b[0m \u001b[0mself\u001b[0m\u001b[1;33m.\u001b[0m\u001b[0mtrain_function\u001b[0m\u001b[1;33m(\u001b[0m\u001b[0miterator\u001b[0m\u001b[1;33m)\u001b[0m\u001b[1;33m\u001b[0m\u001b[1;33m\u001b[0m\u001b[0m\n\u001b[0m\u001b[0;32m   1101\u001b[0m               \u001b[1;32mif\u001b[0m \u001b[0mdata_handler\u001b[0m\u001b[1;33m.\u001b[0m\u001b[0mshould_sync\u001b[0m\u001b[1;33m:\u001b[0m\u001b[1;33m\u001b[0m\u001b[1;33m\u001b[0m\u001b[0m\n\u001b[0;32m   1102\u001b[0m                 \u001b[0mcontext\u001b[0m\u001b[1;33m.\u001b[0m\u001b[0masync_wait\u001b[0m\u001b[1;33m(\u001b[0m\u001b[1;33m)\u001b[0m\u001b[1;33m\u001b[0m\u001b[1;33m\u001b[0m\u001b[0m\n",
      "\u001b[1;32m~\\anaconda3\\lib\\site-packages\\tensorflow\\python\\eager\\def_function.py\u001b[0m in \u001b[0;36m__call__\u001b[1;34m(self, *args, **kwds)\u001b[0m\n\u001b[0;32m    826\u001b[0m     \u001b[0mtracing_count\u001b[0m \u001b[1;33m=\u001b[0m \u001b[0mself\u001b[0m\u001b[1;33m.\u001b[0m\u001b[0mexperimental_get_tracing_count\u001b[0m\u001b[1;33m(\u001b[0m\u001b[1;33m)\u001b[0m\u001b[1;33m\u001b[0m\u001b[1;33m\u001b[0m\u001b[0m\n\u001b[0;32m    827\u001b[0m     \u001b[1;32mwith\u001b[0m \u001b[0mtrace\u001b[0m\u001b[1;33m.\u001b[0m\u001b[0mTrace\u001b[0m\u001b[1;33m(\u001b[0m\u001b[0mself\u001b[0m\u001b[1;33m.\u001b[0m\u001b[0m_name\u001b[0m\u001b[1;33m)\u001b[0m \u001b[1;32mas\u001b[0m \u001b[0mtm\u001b[0m\u001b[1;33m:\u001b[0m\u001b[1;33m\u001b[0m\u001b[1;33m\u001b[0m\u001b[0m\n\u001b[1;32m--> 828\u001b[1;33m       \u001b[0mresult\u001b[0m \u001b[1;33m=\u001b[0m \u001b[0mself\u001b[0m\u001b[1;33m.\u001b[0m\u001b[0m_call\u001b[0m\u001b[1;33m(\u001b[0m\u001b[1;33m*\u001b[0m\u001b[0margs\u001b[0m\u001b[1;33m,\u001b[0m \u001b[1;33m**\u001b[0m\u001b[0mkwds\u001b[0m\u001b[1;33m)\u001b[0m\u001b[1;33m\u001b[0m\u001b[1;33m\u001b[0m\u001b[0m\n\u001b[0m\u001b[0;32m    829\u001b[0m       \u001b[0mcompiler\u001b[0m \u001b[1;33m=\u001b[0m \u001b[1;34m\"xla\"\u001b[0m \u001b[1;32mif\u001b[0m \u001b[0mself\u001b[0m\u001b[1;33m.\u001b[0m\u001b[0m_experimental_compile\u001b[0m \u001b[1;32melse\u001b[0m \u001b[1;34m\"nonXla\"\u001b[0m\u001b[1;33m\u001b[0m\u001b[1;33m\u001b[0m\u001b[0m\n\u001b[0;32m    830\u001b[0m       \u001b[0mnew_tracing_count\u001b[0m \u001b[1;33m=\u001b[0m \u001b[0mself\u001b[0m\u001b[1;33m.\u001b[0m\u001b[0mexperimental_get_tracing_count\u001b[0m\u001b[1;33m(\u001b[0m\u001b[1;33m)\u001b[0m\u001b[1;33m\u001b[0m\u001b[1;33m\u001b[0m\u001b[0m\n",
      "\u001b[1;32m~\\anaconda3\\lib\\site-packages\\tensorflow\\python\\eager\\def_function.py\u001b[0m in \u001b[0;36m_call\u001b[1;34m(self, *args, **kwds)\u001b[0m\n\u001b[0;32m    869\u001b[0m       \u001b[1;31m# This is the first call of __call__, so we have to initialize.\u001b[0m\u001b[1;33m\u001b[0m\u001b[1;33m\u001b[0m\u001b[1;33m\u001b[0m\u001b[0m\n\u001b[0;32m    870\u001b[0m       \u001b[0minitializers\u001b[0m \u001b[1;33m=\u001b[0m \u001b[1;33m[\u001b[0m\u001b[1;33m]\u001b[0m\u001b[1;33m\u001b[0m\u001b[1;33m\u001b[0m\u001b[0m\n\u001b[1;32m--> 871\u001b[1;33m       \u001b[0mself\u001b[0m\u001b[1;33m.\u001b[0m\u001b[0m_initialize\u001b[0m\u001b[1;33m(\u001b[0m\u001b[0margs\u001b[0m\u001b[1;33m,\u001b[0m \u001b[0mkwds\u001b[0m\u001b[1;33m,\u001b[0m \u001b[0madd_initializers_to\u001b[0m\u001b[1;33m=\u001b[0m\u001b[0minitializers\u001b[0m\u001b[1;33m)\u001b[0m\u001b[1;33m\u001b[0m\u001b[1;33m\u001b[0m\u001b[0m\n\u001b[0m\u001b[0;32m    872\u001b[0m     \u001b[1;32mfinally\u001b[0m\u001b[1;33m:\u001b[0m\u001b[1;33m\u001b[0m\u001b[1;33m\u001b[0m\u001b[0m\n\u001b[0;32m    873\u001b[0m       \u001b[1;31m# At this point we know that the initialization is complete (or less\u001b[0m\u001b[1;33m\u001b[0m\u001b[1;33m\u001b[0m\u001b[1;33m\u001b[0m\u001b[0m\n",
      "\u001b[1;32m~\\anaconda3\\lib\\site-packages\\tensorflow\\python\\eager\\def_function.py\u001b[0m in \u001b[0;36m_initialize\u001b[1;34m(self, args, kwds, add_initializers_to)\u001b[0m\n\u001b[0;32m    723\u001b[0m     \u001b[0mself\u001b[0m\u001b[1;33m.\u001b[0m\u001b[0m_graph_deleter\u001b[0m \u001b[1;33m=\u001b[0m \u001b[0mFunctionDeleter\u001b[0m\u001b[1;33m(\u001b[0m\u001b[0mself\u001b[0m\u001b[1;33m.\u001b[0m\u001b[0m_lifted_initializer_graph\u001b[0m\u001b[1;33m)\u001b[0m\u001b[1;33m\u001b[0m\u001b[1;33m\u001b[0m\u001b[0m\n\u001b[0;32m    724\u001b[0m     self._concrete_stateful_fn = (\n\u001b[1;32m--> 725\u001b[1;33m         self._stateful_fn._get_concrete_function_internal_garbage_collected(  # pylint: disable=protected-access\n\u001b[0m\u001b[0;32m    726\u001b[0m             *args, **kwds))\n\u001b[0;32m    727\u001b[0m \u001b[1;33m\u001b[0m\u001b[0m\n",
      "\u001b[1;32m~\\anaconda3\\lib\\site-packages\\tensorflow\\python\\eager\\function.py\u001b[0m in \u001b[0;36m_get_concrete_function_internal_garbage_collected\u001b[1;34m(self, *args, **kwargs)\u001b[0m\n\u001b[0;32m   2967\u001b[0m       \u001b[0margs\u001b[0m\u001b[1;33m,\u001b[0m \u001b[0mkwargs\u001b[0m \u001b[1;33m=\u001b[0m \u001b[1;32mNone\u001b[0m\u001b[1;33m,\u001b[0m \u001b[1;32mNone\u001b[0m\u001b[1;33m\u001b[0m\u001b[1;33m\u001b[0m\u001b[0m\n\u001b[0;32m   2968\u001b[0m     \u001b[1;32mwith\u001b[0m \u001b[0mself\u001b[0m\u001b[1;33m.\u001b[0m\u001b[0m_lock\u001b[0m\u001b[1;33m:\u001b[0m\u001b[1;33m\u001b[0m\u001b[1;33m\u001b[0m\u001b[0m\n\u001b[1;32m-> 2969\u001b[1;33m       \u001b[0mgraph_function\u001b[0m\u001b[1;33m,\u001b[0m \u001b[0m_\u001b[0m \u001b[1;33m=\u001b[0m \u001b[0mself\u001b[0m\u001b[1;33m.\u001b[0m\u001b[0m_maybe_define_function\u001b[0m\u001b[1;33m(\u001b[0m\u001b[0margs\u001b[0m\u001b[1;33m,\u001b[0m \u001b[0mkwargs\u001b[0m\u001b[1;33m)\u001b[0m\u001b[1;33m\u001b[0m\u001b[1;33m\u001b[0m\u001b[0m\n\u001b[0m\u001b[0;32m   2970\u001b[0m     \u001b[1;32mreturn\u001b[0m \u001b[0mgraph_function\u001b[0m\u001b[1;33m\u001b[0m\u001b[1;33m\u001b[0m\u001b[0m\n\u001b[0;32m   2971\u001b[0m \u001b[1;33m\u001b[0m\u001b[0m\n",
      "\u001b[1;32m~\\anaconda3\\lib\\site-packages\\tensorflow\\python\\eager\\function.py\u001b[0m in \u001b[0;36m_maybe_define_function\u001b[1;34m(self, args, kwargs)\u001b[0m\n\u001b[0;32m   3359\u001b[0m \u001b[1;33m\u001b[0m\u001b[0m\n\u001b[0;32m   3360\u001b[0m           \u001b[0mself\u001b[0m\u001b[1;33m.\u001b[0m\u001b[0m_function_cache\u001b[0m\u001b[1;33m.\u001b[0m\u001b[0mmissed\u001b[0m\u001b[1;33m.\u001b[0m\u001b[0madd\u001b[0m\u001b[1;33m(\u001b[0m\u001b[0mcall_context_key\u001b[0m\u001b[1;33m)\u001b[0m\u001b[1;33m\u001b[0m\u001b[1;33m\u001b[0m\u001b[0m\n\u001b[1;32m-> 3361\u001b[1;33m           \u001b[0mgraph_function\u001b[0m \u001b[1;33m=\u001b[0m \u001b[0mself\u001b[0m\u001b[1;33m.\u001b[0m\u001b[0m_create_graph_function\u001b[0m\u001b[1;33m(\u001b[0m\u001b[0margs\u001b[0m\u001b[1;33m,\u001b[0m \u001b[0mkwargs\u001b[0m\u001b[1;33m)\u001b[0m\u001b[1;33m\u001b[0m\u001b[1;33m\u001b[0m\u001b[0m\n\u001b[0m\u001b[0;32m   3362\u001b[0m           \u001b[0mself\u001b[0m\u001b[1;33m.\u001b[0m\u001b[0m_function_cache\u001b[0m\u001b[1;33m.\u001b[0m\u001b[0mprimary\u001b[0m\u001b[1;33m[\u001b[0m\u001b[0mcache_key\u001b[0m\u001b[1;33m]\u001b[0m \u001b[1;33m=\u001b[0m \u001b[0mgraph_function\u001b[0m\u001b[1;33m\u001b[0m\u001b[1;33m\u001b[0m\u001b[0m\n\u001b[0;32m   3363\u001b[0m \u001b[1;33m\u001b[0m\u001b[0m\n",
      "\u001b[1;32m~\\anaconda3\\lib\\site-packages\\tensorflow\\python\\eager\\function.py\u001b[0m in \u001b[0;36m_create_graph_function\u001b[1;34m(self, args, kwargs, override_flat_arg_shapes)\u001b[0m\n\u001b[0;32m   3194\u001b[0m     \u001b[0marg_names\u001b[0m \u001b[1;33m=\u001b[0m \u001b[0mbase_arg_names\u001b[0m \u001b[1;33m+\u001b[0m \u001b[0mmissing_arg_names\u001b[0m\u001b[1;33m\u001b[0m\u001b[1;33m\u001b[0m\u001b[0m\n\u001b[0;32m   3195\u001b[0m     graph_function = ConcreteFunction(\n\u001b[1;32m-> 3196\u001b[1;33m         func_graph_module.func_graph_from_py_func(\n\u001b[0m\u001b[0;32m   3197\u001b[0m             \u001b[0mself\u001b[0m\u001b[1;33m.\u001b[0m\u001b[0m_name\u001b[0m\u001b[1;33m,\u001b[0m\u001b[1;33m\u001b[0m\u001b[1;33m\u001b[0m\u001b[0m\n\u001b[0;32m   3198\u001b[0m             \u001b[0mself\u001b[0m\u001b[1;33m.\u001b[0m\u001b[0m_python_function\u001b[0m\u001b[1;33m,\u001b[0m\u001b[1;33m\u001b[0m\u001b[1;33m\u001b[0m\u001b[0m\n",
      "\u001b[1;32m~\\anaconda3\\lib\\site-packages\\tensorflow\\python\\framework\\func_graph.py\u001b[0m in \u001b[0;36mfunc_graph_from_py_func\u001b[1;34m(name, python_func, args, kwargs, signature, func_graph, autograph, autograph_options, add_control_dependencies, arg_names, op_return_value, collections, capture_by_value, override_flat_arg_shapes)\u001b[0m\n\u001b[0;32m    988\u001b[0m         \u001b[0m_\u001b[0m\u001b[1;33m,\u001b[0m \u001b[0moriginal_func\u001b[0m \u001b[1;33m=\u001b[0m \u001b[0mtf_decorator\u001b[0m\u001b[1;33m.\u001b[0m\u001b[0munwrap\u001b[0m\u001b[1;33m(\u001b[0m\u001b[0mpython_func\u001b[0m\u001b[1;33m)\u001b[0m\u001b[1;33m\u001b[0m\u001b[1;33m\u001b[0m\u001b[0m\n\u001b[0;32m    989\u001b[0m \u001b[1;33m\u001b[0m\u001b[0m\n\u001b[1;32m--> 990\u001b[1;33m       \u001b[0mfunc_outputs\u001b[0m \u001b[1;33m=\u001b[0m \u001b[0mpython_func\u001b[0m\u001b[1;33m(\u001b[0m\u001b[1;33m*\u001b[0m\u001b[0mfunc_args\u001b[0m\u001b[1;33m,\u001b[0m \u001b[1;33m**\u001b[0m\u001b[0mfunc_kwargs\u001b[0m\u001b[1;33m)\u001b[0m\u001b[1;33m\u001b[0m\u001b[1;33m\u001b[0m\u001b[0m\n\u001b[0m\u001b[0;32m    991\u001b[0m \u001b[1;33m\u001b[0m\u001b[0m\n\u001b[0;32m    992\u001b[0m       \u001b[1;31m# invariant: `func_outputs` contains only Tensors, CompositeTensors,\u001b[0m\u001b[1;33m\u001b[0m\u001b[1;33m\u001b[0m\u001b[1;33m\u001b[0m\u001b[0m\n",
      "\u001b[1;32m~\\anaconda3\\lib\\site-packages\\tensorflow\\python\\eager\\def_function.py\u001b[0m in \u001b[0;36mwrapped_fn\u001b[1;34m(*args, **kwds)\u001b[0m\n\u001b[0;32m    632\u001b[0m             \u001b[0mxla_context\u001b[0m\u001b[1;33m.\u001b[0m\u001b[0mExit\u001b[0m\u001b[1;33m(\u001b[0m\u001b[1;33m)\u001b[0m\u001b[1;33m\u001b[0m\u001b[1;33m\u001b[0m\u001b[0m\n\u001b[0;32m    633\u001b[0m         \u001b[1;32melse\u001b[0m\u001b[1;33m:\u001b[0m\u001b[1;33m\u001b[0m\u001b[1;33m\u001b[0m\u001b[0m\n\u001b[1;32m--> 634\u001b[1;33m           \u001b[0mout\u001b[0m \u001b[1;33m=\u001b[0m \u001b[0mweak_wrapped_fn\u001b[0m\u001b[1;33m(\u001b[0m\u001b[1;33m)\u001b[0m\u001b[1;33m.\u001b[0m\u001b[0m__wrapped__\u001b[0m\u001b[1;33m(\u001b[0m\u001b[1;33m*\u001b[0m\u001b[0margs\u001b[0m\u001b[1;33m,\u001b[0m \u001b[1;33m**\u001b[0m\u001b[0mkwds\u001b[0m\u001b[1;33m)\u001b[0m\u001b[1;33m\u001b[0m\u001b[1;33m\u001b[0m\u001b[0m\n\u001b[0m\u001b[0;32m    635\u001b[0m         \u001b[1;32mreturn\u001b[0m \u001b[0mout\u001b[0m\u001b[1;33m\u001b[0m\u001b[1;33m\u001b[0m\u001b[0m\n\u001b[0;32m    636\u001b[0m \u001b[1;33m\u001b[0m\u001b[0m\n",
      "\u001b[1;32m~\\anaconda3\\lib\\site-packages\\tensorflow\\python\\framework\\func_graph.py\u001b[0m in \u001b[0;36mwrapper\u001b[1;34m(*args, **kwargs)\u001b[0m\n\u001b[0;32m    975\u001b[0m           \u001b[1;32mexcept\u001b[0m \u001b[0mException\u001b[0m \u001b[1;32mas\u001b[0m \u001b[0me\u001b[0m\u001b[1;33m:\u001b[0m  \u001b[1;31m# pylint:disable=broad-except\u001b[0m\u001b[1;33m\u001b[0m\u001b[1;33m\u001b[0m\u001b[0m\n\u001b[0;32m    976\u001b[0m             \u001b[1;32mif\u001b[0m \u001b[0mhasattr\u001b[0m\u001b[1;33m(\u001b[0m\u001b[0me\u001b[0m\u001b[1;33m,\u001b[0m \u001b[1;34m\"ag_error_metadata\"\u001b[0m\u001b[1;33m)\u001b[0m\u001b[1;33m:\u001b[0m\u001b[1;33m\u001b[0m\u001b[1;33m\u001b[0m\u001b[0m\n\u001b[1;32m--> 977\u001b[1;33m               \u001b[1;32mraise\u001b[0m \u001b[0me\u001b[0m\u001b[1;33m.\u001b[0m\u001b[0mag_error_metadata\u001b[0m\u001b[1;33m.\u001b[0m\u001b[0mto_exception\u001b[0m\u001b[1;33m(\u001b[0m\u001b[0me\u001b[0m\u001b[1;33m)\u001b[0m\u001b[1;33m\u001b[0m\u001b[1;33m\u001b[0m\u001b[0m\n\u001b[0m\u001b[0;32m    978\u001b[0m             \u001b[1;32melse\u001b[0m\u001b[1;33m:\u001b[0m\u001b[1;33m\u001b[0m\u001b[1;33m\u001b[0m\u001b[0m\n\u001b[0;32m    979\u001b[0m               \u001b[1;32mraise\u001b[0m\u001b[1;33m\u001b[0m\u001b[1;33m\u001b[0m\u001b[0m\n",
      "\u001b[1;31mValueError\u001b[0m: in user code:\n\n    C:\\Users\\mathe\\anaconda3\\lib\\site-packages\\tensorflow\\python\\keras\\engine\\training.py:805 train_function  *\n        return step_function(self, iterator)\n    C:\\Users\\mathe\\anaconda3\\lib\\site-packages\\tensorflow\\python\\keras\\engine\\training.py:795 step_function  **\n        outputs = model.distribute_strategy.run(run_step, args=(data,))\n    C:\\Users\\mathe\\anaconda3\\lib\\site-packages\\tensorflow\\python\\distribute\\distribute_lib.py:1259 run\n        return self._extended.call_for_each_replica(fn, args=args, kwargs=kwargs)\n    C:\\Users\\mathe\\anaconda3\\lib\\site-packages\\tensorflow\\python\\distribute\\distribute_lib.py:2730 call_for_each_replica\n        return self._call_for_each_replica(fn, args, kwargs)\n    C:\\Users\\mathe\\anaconda3\\lib\\site-packages\\tensorflow\\python\\distribute\\distribute_lib.py:3417 _call_for_each_replica\n        return fn(*args, **kwargs)\n    C:\\Users\\mathe\\anaconda3\\lib\\site-packages\\tensorflow\\python\\keras\\engine\\training.py:788 run_step  **\n        outputs = model.train_step(data)\n    C:\\Users\\mathe\\anaconda3\\lib\\site-packages\\tensorflow\\python\\keras\\engine\\training.py:754 train_step\n        y_pred = self(x, training=True)\n    C:\\Users\\mathe\\anaconda3\\lib\\site-packages\\tensorflow\\python\\keras\\engine\\base_layer.py:998 __call__\n        input_spec.assert_input_compatibility(self.input_spec, inputs, self.name)\n    C:\\Users\\mathe\\anaconda3\\lib\\site-packages\\tensorflow\\python\\keras\\engine\\input_spec.py:219 assert_input_compatibility\n        raise ValueError('Input ' + str(input_index) + ' of layer ' +\n\n    ValueError: Input 0 of layer sequential is incompatible with the layer: expected ndim=3, found ndim=2. Full shape received: (None, 86)\n"
     ]
    }
   ],
   "source": [
    "history = model.fit(X_train,  y_train, \n",
    "                    batch_size=2048, epochs=150,\n",
    "                    callbacks=callbacks,\n",
    "                    validation_data=(X_test, y_test))"
   ]
  },
  {
   "cell_type": "markdown",
   "metadata": {},
   "source": [
    "### Example prediction on open test dataset"
   ]
  },
  {
   "cell_type": "markdown",
   "metadata": {},
   "source": [
    "##### Train an oversimplified dummy model for the sake of the example\n",
    "In order to give examples of how to submit predictions and reproducible code, we will train a RandomForestClassifier on the full feature set where we lazily have set all missing values (NaNs) to zero. This is an example only, following along this approach for the competition is not recommended. However, the template below can be used for generating predictions for the weekly leaderboard from your own model, and as an example on how to ecapsulate your model for final scoring where you have to submit code.\n",
    "\n",
    "Apart from the inherent flaws of the random forest classifier, this example approach has a number of issues and simplifications. For example:\n",
    "* Data is not separated per well. Normalization and shuffling is done across the whole dataset.\n",
    "* The penatly matrix is not taken into account, it is treated as a normal classification problem.\n",
    "* Missing logs are treated as zeros\n",
    "* Depth and formation tops not taken into account\n",
    "* Same model is used for when you only have gamma ray logs as when you have the full set of logs"
   ]
  },
  {
   "cell_type": "code",
   "execution_count": null,
   "metadata": {
    "scrolled": true
   },
   "outputs": [],
   "source": [
    "model = RandomForestClassifier(n_estimators=50, random_state=42, class_weight='balanced')"
   ]
  },
  {
   "cell_type": "code",
   "execution_count": null,
   "metadata": {},
   "outputs": [],
   "source": [
    "model.fit(X_train, y_train)"
   ]
  },
  {
   "cell_type": "markdown",
   "metadata": {},
   "source": [
    "#### Test model"
   ]
  },
  {
   "cell_type": "code",
   "execution_count": null,
   "metadata": {},
   "outputs": [],
   "source": [
    "y_pred_test = model.predict(X_test)"
   ]
  },
  {
   "cell_type": "code",
   "execution_count": null,
   "metadata": {},
   "outputs": [],
   "source": [
    "score(y_test.values, y_pred_test)"
   ]
  },
  {
   "cell_type": "markdown",
   "metadata": {},
   "source": [
    "##### Save model and scaler to files"
   ]
  },
  {
   "cell_type": "code",
   "execution_count": null,
   "metadata": {},
   "outputs": [],
   "source": [
    "pickle.dump(model, open('model.pkl', 'wb'))"
   ]
  },
  {
   "cell_type": "code",
   "execution_count": null,
   "metadata": {},
   "outputs": [],
   "source": [
    "pickle.dump(scaler, open('scaler.pkl', 'wb'))"
   ]
  },
  {
   "cell_type": "markdown",
   "metadata": {},
   "source": [
    "In order to make it easy to run inference on new data, such as the open test dataset, it is recommended to wrap the initialization of the model, all preprocessing steps including normalization, treatment of NaNs and removals of unused columns in a class or pipeline. There are many ways of doing this, one example being a class like below:"
   ]
  },
  {
   "cell_type": "code",
   "execution_count": null,
   "metadata": {},
   "outputs": [],
   "source": [
    "class Model(object):\n",
    "    def __init__(self, model_file, scaler_file):\n",
    "        # Load pre-trained model from file\n",
    "        self.model = pickle.load(open(model_file, 'rb'))\n",
    "        # Load a \"pre-trained\" scaler from file\n",
    "        self.scaler = pickle.load(open(scaler_file, 'rb'))\n",
    "        \n",
    "    def _preprocess(self, features):\n",
    "        # Method to be run before inference. Contains things like\n",
    "        # stripping unwanted columns, replacing NaNs, and scaling \n",
    "        # or normalizing data\n",
    "        features.fillna(0, inplace=True)\n",
    "        features = features[['DEPTH_MD', 'CALI', 'RSHA', 'RMED', 'RDEP', 'RHOB', 'GR', 'NPHI', 'PEF', 'DTC', 'SP', 'BS']]\n",
    "        return self.scaler.transform(features)\n",
    "        \n",
    "    def predict(self, features):\n",
    "        # This function should be able to take in features in their\n",
    "        # raw, unprocessed form as read from the file test.csv and\n",
    "        # return predictions as an array integers of the same length\n",
    "        X = self._preprocess(features)\n",
    "        return self.model.predict(X)"
   ]
  },
  {
   "cell_type": "markdown",
   "metadata": {},
   "source": [
    "The model can then be initialized using persisted data in the form of saved model file (or models files), scaler files, and other persisted data.  "
   ]
  },
  {
   "cell_type": "code",
   "execution_count": null,
   "metadata": {},
   "outputs": [],
   "source": [
    "model = Model('model.pkl', 'scaler.pkl')"
   ]
  },
  {
   "cell_type": "markdown",
   "metadata": {},
   "source": [
    "##### Example submission: weekly leaderboard\n",
    "For the weekly leaderboard that will start September 1st, you are asked to submit predictions on the supplied open dataset in the file `test.csv`. This file contains all the columns that are in the training data except LITHOLOGY and LITHOLOGY_CONFIDENCE. Notice that the test data will also have missing columns. It is therefore important that your inference pipeline has the treatment of these missing columns as part of the pre-processing step."
   ]
  },
  {
   "cell_type": "code",
   "execution_count": null,
   "metadata": {},
   "outputs": [],
   "source": [
    "open_test_features = pd.read_csv('hidden_test.csv', sep=';')"
   ]
  },
  {
   "cell_type": "code",
   "execution_count": null,
   "metadata": {},
   "outputs": [],
   "source": [
    "open_test_features.head()"
   ]
  },
  {
   "cell_type": "code",
   "execution_count": null,
   "metadata": {},
   "outputs": [],
   "source": [
    "open_test_features.columns"
   ]
  },
  {
   "cell_type": "code",
   "execution_count": null,
   "metadata": {},
   "outputs": [],
   "source": [
    "test_prediction = model.predict(open_test_features)"
   ]
  },
  {
   "cell_type": "code",
   "execution_count": null,
   "metadata": {
    "scrolled": true
   },
   "outputs": [],
   "source": [
    "test_prediction"
   ]
  },
  {
   "cell_type": "markdown",
   "metadata": {},
   "source": [
    "**Important:** Before submitting we must map these predictions back to the lithology labels"
   ]
  },
  {
   "cell_type": "code",
   "execution_count": null,
   "metadata": {},
   "outputs": [],
   "source": [
    "category_to_lithology = {y:x for x,y in lithology_numbers.items()}"
   ]
  },
  {
   "cell_type": "code",
   "execution_count": null,
   "metadata": {},
   "outputs": [],
   "source": [
    "test_prediction_for_submission = np.vectorize(category_to_lithology.get)(test_prediction)"
   ]
  },
  {
   "cell_type": "markdown",
   "metadata": {},
   "source": [
    "For submission to the weekly leaderboard, write the predictions as a csv file\n",
    "- single column (no index column or similar)\n",
    "- header: 'lithology'\n",
    "- exactly the same number of rows as the raw test features\n",
    "- use the original lithology labels, 65000, 30000, ..., NOT the encoded ones 0, 1, 2, ...\n",
    "\n",
    "Example:\n",
    "```\n",
    "# lithology\n",
    "65000\n",
    "65000\n",
    "30000\n",
    "30000\n",
    "30000\n",
    "30000\n",
    "30000\n",
    "65030\n",
    "65030\n",
    "65030\n",
    ".\n",
    ".\n",
    ".\n",
    "```"
   ]
  },
  {
   "cell_type": "code",
   "execution_count": null,
   "metadata": {},
   "outputs": [],
   "source": [
    "test_prediction_for_submission"
   ]
  },
  {
   "cell_type": "code",
   "execution_count": null,
   "metadata": {},
   "outputs": [],
   "source": [
    "np.savetxt('test_predictions.csv', test_prediction_for_submission, header='lithology', fmt='%i')"
   ]
  },
  {
   "cell_type": "markdown",
   "metadata": {},
   "source": [
    "### Submitting code for final scoring\n",
    "At the end of the competition, the highest performing teams are invited to submit code for blind scoring on a hidden test dataset. The winner will be the team with the best score on the hidden test dataset, not the weekly leaderboard. In order to do this, you must submit the following in a zip-file:\n",
    "* Code to do the inference\n",
    "* Any persisted data in the form of pre-trained model or models, scalers, and more\n",
    "* Information about your environment\n",
    "\n",
    "There are many ways of doing this. In the example above, the code to do the inference would be the `Model` class in a python-file, the persisted data would be the files `model.pkl` and `scaler.pkl`. \n",
    "\n",
    "Your python environment needs to be replicable by the judges of the competition. There are many ways of doing this. Examples include dumping pip package versions to a file"
   ]
  },
  {
   "cell_type": "code",
   "execution_count": null,
   "metadata": {},
   "outputs": [],
   "source": [
    "!pip freeze > requirements.txt"
   ]
  },
  {
   "cell_type": "markdown",
   "metadata": {},
   "source": [
    "If you are using Anaconda, then you can export an envionment file as follows"
   ]
  },
  {
   "cell_type": "code",
   "execution_count": null,
   "metadata": {},
   "outputs": [],
   "source": [
    "!conda env export > environment.yml"
   ]
  },
  {
   "cell_type": "markdown",
   "metadata": {},
   "source": [
    "Other options include `Docker`, `pipenv` and many more."
   ]
  }
 ],
 "metadata": {
  "kernelspec": {
   "display_name": "Python 3",
   "language": "python",
   "name": "python3"
  },
  "language_info": {
   "codemirror_mode": {
    "name": "ipython",
    "version": 3
   },
   "file_extension": ".py",
   "mimetype": "text/x-python",
   "name": "python",
   "nbconvert_exporter": "python",
   "pygments_lexer": "ipython3",
   "version": "3.8.5"
  }
 },
 "nbformat": 4,
 "nbformat_minor": 4
}
